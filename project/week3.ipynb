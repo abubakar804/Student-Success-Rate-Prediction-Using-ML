{
 "cells": [
  {
   "cell_type": "code",
   "execution_count": 24,
   "metadata": {},
   "outputs": [
    {
     "data": {
      "text/plain": [
       "<matplotlib.axes._subplots.AxesSubplot at 0x1f8ee8d0580>"
      ]
     },
     "execution_count": 24,
     "metadata": {},
     "output_type": "execute_result"
    },
    {
     "data": {
      "image/png": "[encoded data removed]",
      "text/plain": [
       "<Figure size 432x288 with 1 Axes>"
      ]
     },
     "metadata": {
      "needs_background": "light"
     },
     "output_type": "display_data"
    }
   ],
   "source": [
    "sns.countplot(df1['Training district'].str[0:2])"
   ]
  },
  {
   "cell_type": "code",
   "execution_count": 25,
   "metadata": {},
   "outputs": [],
   "source": [
    "'''Swabi        17\n",
    "Nowshera         5'''\n",
    "df1.loc[(~df1['Training district'].isin(['Peshawar','Mardan','Abbottabad','Swat','Haripur','Malakand','D.I.Khan','Kohat','Bannu'])),'Training district'] = 'others'"
   ]
  },
  {
   "cell_type": "code",
   "execution_count": 26,
   "metadata": {},
   "outputs": [
    {
     "data": {
      "text/plain": [
       "Peshawar      2626\n",
       "Mardan         640\n",
       "Abbottabad     512\n",
       "Swat           273\n",
       "Haripur        253\n",
       "Malakand       189\n",
       "D.I.Khan       178\n",
       "Kohat          142\n",
       "Bannu          134\n",
       "others          71\n",
       "Name: Training district, dtype: int64"
      ]
     },
     "execution_count": 26,
     "metadata": {},
     "output_type": "execute_result"
    }
   ],
   "source": [
    "df1['Training district'].value_counts()"
   ]
  },
  {
   "cell_type": "code",
   "execution_count": 27,
   "metadata": {},
   "outputs": [
    {
     "data": {
      "text/html": [
       "<div>\n",
       "<style scoped>\n",
       "    .dataframe tbody tr th:only-of-type {\n",
       "        vertical-align: middle;\n",
       "    }\n",
       "\n",
       "    .dataframe tbody tr th {\n",
       "        vertical-align: top;\n",
       "    }\n",
       "\n",
       "    .dataframe thead th {\n",
       "        text-align: right;\n",
       "    }\n",
       "</style>\n",
       "<table border=\"1\" class=\"dataframe\">\n",
       "  <thead>\n",
       "    <tr style=\"text-align: right;\">\n",
       "      <th></th>\n",
       "      <th>Age</th>\n",
       "      <th>Score</th>\n",
       "      <th>Initial Screening Percentage</th>\n",
       "      <th>Agreegate Percentage</th>\n",
       "      <th>Submitted At</th>\n",
       "      <th>Unnamed: 28</th>\n",
       "    </tr>\n",
       "  </thead>\n",
       "  <tbody>\n",
       "    <tr>\n",
       "      <th>Age</th>\n",
       "      <td>1.000000</td>\n",
       "      <td>0.029806</td>\n",
       "      <td>0.029806</td>\n",
       "      <td>0.063096</td>\n",
       "      <td>0.000519</td>\n",
       "      <td>NaN</td>\n",
       "    </tr>\n",
       "    <tr>\n",
       "      <th>Score</th>\n",
       "      <td>0.029806</td>\n",
       "      <td>1.000000</td>\n",
       "      <td>1.000000</td>\n",
       "      <td>0.684142</td>\n",
       "      <td>0.002523</td>\n",
       "      <td>NaN</td>\n",
       "    </tr>\n",
       "    <tr>\n",
       "      <th>Initial Screening Percentage</th>\n",
       "      <td>0.029806</td>\n",
       "      <td>1.000000</td>\n",
       "      <td>1.000000</td>\n",
       "      <td>0.684142</td>\n",
       "      <td>0.002523</td>\n",
       "      <td>NaN</td>\n",
       "    </tr>\n",
       "    <tr>\n",
       "      <th>Agreegate Percentage</th>\n",
       "      <td>0.063096</td>\n",
       "      <td>0.684142</td>\n",
       "      <td>0.684142</td>\n",
       "      <td>1.000000</td>\n",
       "      <td>0.011564</td>\n",
       "      <td>NaN</td>\n",
       "    </tr>\n",
       "    <tr>\n",
       "      <th>Submitted At</th>\n",
       "      <td>0.000519</td>\n",
       "      <td>0.002523</td>\n",
       "      <td>0.002523</td>\n",
       "      <td>0.011564</td>\n",
       "      <td>1.000000</td>\n",
       "      <td>NaN</td>\n",
       "    </tr>\n",
       "    <tr>\n",
       "      <th>Unnamed: 28</th>\n",
       "      <td>NaN</td>\n",
       "      <td>NaN</td>\n",
       "      <td>NaN</td>\n",
       "      <td>NaN</td>\n",
       "      <td>NaN</td>\n",
       "      <td>NaN</td>\n",
       "    </tr>\n",
       "  </tbody>\n",
       "</table>\n",
       "</div>"
      ],
      "text/plain": [
       "                                   Age     Score  \\\n",
       "Age                           1.000000  0.029806   \n",
       "Score                         0.029806  1.000000   \n",
       "Initial Screening Percentage  0.029806  1.000000   \n",
       "Agreegate Percentage          0.063096  0.684142   \n",
       "Submitted At                  0.000519  0.002523   \n",
       "Unnamed: 28                        NaN       NaN   \n",
       "\n",
       "                              Initial Screening Percentage  \\\n",
       "Age                                               0.029806   \n",
       "Score                                             1.000000   \n",
       "Initial Screening Percentage                      1.000000   \n",
       "Agreegate Percentage                              0.684142   \n",
       "Submitted At                                      0.002523   \n",
       "Unnamed: 28                                            NaN   \n",
       "\n",
       "                              Agreegate Percentage  Submitted At  Unnamed: 28  \n",
       "Age                                       0.063096      0.000519          NaN  \n",
       "Score                                     0.684142      0.002523          NaN  \n",
       "Initial Screening Percentage              0.684142      0.002523          NaN  \n",
       "Agreegate Percentage                      1.000000      0.011564          NaN  \n",
       "Submitted At                              0.011564      1.000000          NaN  \n",
       "Unnamed: 28                                    NaN           NaN          NaN  "
      ]
     },
     "execution_count": 27,
     "metadata": {},
     "output_type": "execute_result"
    }
   ],
   "source": [
    "df1.corr()"
   ]
  },
  {
   "cell_type": "code",
   "execution_count": 28,
   "metadata": {},
   "outputs": [
    {
     "data": {
      "text/plain": [
       "(5018, 21)"
      ]
     },
     "execution_count": 28,
     "metadata": {},
     "output_type": "execute_result"
    }
   ],
   "source": [
    "df1.shape"
   ]
  },
  {
   "cell_type": "code",
   "execution_count": 29,
   "metadata": {},
   "outputs": [
    {
     "data": {
      "text/plain": [
       "<matplotlib.axes._subplots.AxesSubplot at 0x1f8ee8fa670>"
      ]
     },
     "execution_count": 29,
     "metadata": {},
     "output_type": "execute_result"
    },
    {
     "data": {
      "image/png": "[encoded data removed]",
      "text/plain": [
       "<Figure size 1152x432 with 1 Axes>"
      ]
     },
     "metadata": {
      "needs_background": "light"
     },
     "output_type": "display_data"
    }
   ],
   "source": [
    "plt.figure(figsize=(16,6))\n",
    "df1['Age'].value_counts()\n",
    "sns.countplot(df1['Age'])"
   ]
  },
  {
   "cell_type": "code",
   "execution_count": 30,
   "metadata": {},
   "outputs": [
    {
     "data": {
      "text/plain": [
       "<matplotlib.axes._subplots.AxesSubplot at 0x1f8ee7166a0>"
      ]
     },
     "execution_count": 30,
     "metadata": {},
     "output_type": "execute_result"
    },
    {
     "data": {
      "image/png": "[encoded data removed]",
      "text/plain": [
       "<Figure size 1368x432 with 1 Axes>"
      ]
     },
     "metadata": {
      "needs_background": "light"
     },
     "output_type": "display_data"
    }
   ],
   "source": [
    "plt.figure(figsize=(19,6))\n",
    "df1['Domicile'].value_counts()\n",
    "sns.countplot(df1['Domicile'].str[0:2])"
   ]
  },
  {
   "cell_type": "code",
   "execution_count": 31,
   "metadata": {},
   "outputs": [
    {
     "data": {
      "text/plain": [
       "Peshawar     964\n",
       "Mardan       433\n",
       "Swat         299\n",
       "Swabi        270\n",
       "Charsadda    245\n",
       "Name: Domicile, dtype: int64"
      ]
     },
     "execution_count": 31,
     "metadata": {},
     "output_type": "execute_result"
    }
   ],
   "source": [
    "df1['Domicile'].value_counts().head()"
   ]
  },
  {
   "cell_type": "code",
   "execution_count": 32,
   "metadata": {},
   "outputs": [],
   "source": [
    "df1.loc[(~df1['Domicile'].isin(['Peshawar','Mardan','Swat','Swabi','Charsadda','Nowshera','Abbottabad','Haripur','Lower Dir','Mansehra','Khyber','Dera Ismail Khan','Kohat'])),'Domicile'] = 'others'"
   ]
  },
  {
   "cell_type": "code",
   "execution_count": 33,
   "metadata": {},
   "outputs": [
    {
     "data": {
      "text/plain": [
       "others              1210\n",
       "Peshawar             964\n",
       "Mardan               433\n",
       "Swat                 299\n",
       "Swabi                270\n",
       "Charsadda            245\n",
       "Nowshera             239\n",
       "Abbottabad           234\n",
       "Haripur              222\n",
       "Lower Dir            219\n",
       "Mansehra             199\n",
       "Khyber               196\n",
       "Dera Ismail Khan     146\n",
       "Kohat                142\n",
       "Name: Domicile, dtype: int64"
      ]
     },
     "execution_count": 33,
     "metadata": {},
     "output_type": "execute_result"
    }
   ],
   "source": [
    "df1['Domicile'].value_counts()"
   ]
  },
  {
   "cell_type": "code",
   "execution_count": null,
   "metadata": {},
   "outputs": [],
   "source": []
  }
 ],
 "metadata": {
  "kernelspec": {
   "display_name": "Python 3",
   "language": "python",
   "name": "python3"
  },
  "language_info": {
   "codemirror_mode": {
    "name": "ipython",
    "version": 3
   },
   "file_extension": ".py",
   "mimetype": "text/x-python",
   "name": "python",
   "nbconvert_exporter": "python",
   "pygments_lexer": "ipython3",
   "version": "3.8.3"
  }
 },
 "nbformat": 4,
 "nbformat_minor": 4
}
