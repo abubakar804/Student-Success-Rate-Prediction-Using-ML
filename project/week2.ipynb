{
 "cells": [
  {
   "cell_type": "code",
   "execution_count": 17,
   "metadata": {},
   "outputs": [],
   "source": [
    "df1.fillna(0, inplace=True)"
   ]
  },
  {
   "cell_type": "code",
   "execution_count": 18,
   "metadata": {},
   "outputs": [
    {
     "data": {
      "text/plain": [
       "First Name                                        0\n",
       "Last Name                                         0\n",
       "Gender                                            0\n",
       "Age                                               0\n",
       "Applied Course                                    0\n",
       "Domicile                                          0\n",
       "What best describes your access to a computer?    0\n",
       "Academic Concentration                            0\n",
       "CGPA/Final Average GPA                            0\n",
       "Highest level of Education                        0\n",
       "Training district                                 0\n",
       "Score                                             0\n",
       "Initial Screening Percentage                      0\n",
       "Points Scored Screning Test                       0\n",
       "Screening Test Percentage                         0\n",
       "Agreegate Percentage                              0\n",
       "Submitted At                                      0\n",
       "Status                                            0\n",
       "Batch                                             0\n",
       "Unnamed: 28                                       0\n",
       "name                                              0\n",
       "dtype: int64"
      ]
     },
     "execution_count": 18,
     "metadata": {},
     "output_type": "execute_result"
    }
   ],
   "source": [
    "df1.isnull().sum()"
   ]
  },
  {
   "cell_type": "code",
   "execution_count": 19,
   "metadata": {},
   "outputs": [
    {
     "data": {
      "text/plain": [
       "0                4812\n",
       "ADS-AZ-C1-B1       98\n",
       "ADS-AWS-C1-B1      56\n",
       "ADS-BD-C1-B1       50\n",
       "Not Allocated       2\n",
       "Name: Batch, dtype: int64"
      ]
     },
     "execution_count": 19,
     "metadata": {},
     "output_type": "execute_result"
    }
   ],
   "source": [
    "df1['Batch'].value_counts()"
   ]
  },
  {
   "cell_type": "code",
   "execution_count": 20,
   "metadata": {},
   "outputs": [
    {
     "data": {
      "text/plain": [
       "Male      4636\n",
       "Female     382\n",
       "Name: Gender, dtype: int64"
      ]
     },
     "execution_count": 20,
     "metadata": {},
     "output_type": "execute_result"
    }
   ],
   "source": [
    "df1['Gender'].value_counts()"
   ]
  },
  {
   "cell_type": "code",
   "execution_count": 21,
   "metadata": {},
   "outputs": [
    {
     "data": {
      "text/plain": [
       "Peshawar                        2626\n",
       "Mardan                           640\n",
       "Abbottabad                       512\n",
       "Swat                             273\n",
       "Haripur                          253\n",
       "Malakand                         189\n",
       "D.I.Khan                         178\n",
       "Kohat                            142\n",
       "Bannu                            134\n",
       "Swabi                             17\n",
       "Nowshera                           5\n",
       "swabi                              4\n",
       "Mansehra                           4\n",
       "Upper Dir                          3\n",
       "Chitral                            3\n",
       "Buner                              2\n",
       "0                                  2\n",
       "Hangu                              2\n",
       "Dir lower                          2\n",
       "Nowshera                           2\n",
       "Swabi                              2\n",
       "Dera Ismail Khan                   2\n",
       "Bajaur                             1\n",
       "lower dir timergara                1\n",
       "Mansehra (Hazara Universiy)        1\n",
       "Upper Dir or Lower Dir             1\n",
       "Tank                               1\n",
       "Chitral                            1\n",
       "Upper dir                          1\n",
       "Khyber                             1\n",
       "Lower Dir                          1\n",
       "chitral                            1\n",
       "Charsadda                          1\n",
       "LOWER  Dir (Timergare)             1\n",
       "Buner                              1\n",
       "Lower dir                          1\n",
       "NOWSHERA                           1\n",
       "Lower dir                          1\n",
       "Upper Kohistan                     1\n",
       "Dir                                1\n",
       "South Waziristan                   1\n",
       "Peshawar                           1\n",
       "Lakki Marwat                       1\n",
       "Name: Training district, dtype: int64"
      ]
     },
     "execution_count": 21,
     "metadata": {},
     "output_type": "execute_result"
    }
   ],
   "source": [
    "df1['Training district'].value_counts()"
   ]
  },
  {
   "cell_type": "code",
   "execution_count": null,
   "metadata": {},
   "outputs": [],
   "source": []
  }
 ],
 "metadata": {
  "kernelspec": {
   "display_name": "Python 3",
   "language": "python",
   "name": "python3"
  },
  "language_info": {
   "codemirror_mode": {
    "name": "ipython",
    "version": 3
   },
   "file_extension": ".py",
   "mimetype": "text/x-python",
   "name": "python",
   "nbconvert_exporter": "python",
   "pygments_lexer": "ipython3",
   "version": "3.8.3"
  }
 },
 "nbformat": 4,
 "nbformat_minor": 4
}
