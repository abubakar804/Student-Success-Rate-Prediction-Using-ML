{
 "cells": [
  {
   "cell_type": "code",
   "execution_count": 78,
   "metadata": {},
   "outputs": [
    {
     "data": {
      "text/plain": [
       "Index(['Gender', 'Age', 'Applied Course', 'Domicile',\n",
       "       'What best describes your access to a computer?',\n",
       "       'Academic Concentration', 'CGPA/Final Average GPA',\n",
       "       'Highest level of Education', 'Training district',\n",
       "       'Initial Screening Percentage', 'Points Scored Screning Test',\n",
       "       'Screening Test Percentage', 'Agreegate Percentage', 'Submitted At',\n",
       "       'Status', 'Batch', 'Unnamed: 28', 'name', 'Time', 'day', 'hour', 'min',\n",
       "       'sec'],\n",
       "      dtype='object')"
      ]
     },
     "execution_count": 78,
     "metadata": {},
     "output_type": "execute_result"
    }
   ],
   "source": [
    "df1.drop(['First Name','Last Name'],axis=1,inplace=True)\n",
    "df1.columns"
   ]
  },
  {
   "cell_type": "code",
   "execution_count": 79,
   "metadata": {},
   "outputs": [
    {
     "data": {
      "text/plain": [
       "<matplotlib.axes._subplots.AxesSubplot at 0x190243207c0>"
      ]
     },
     "execution_count": 79,
     "metadata": {},
     "output_type": "execute_result"
    },
    {
     "data": {
      "image/png": "[encoded data removed]",
      "text/plain": [
       "<Figure size 576x576 with 1 Axes>"
      ]
     },
     "metadata": {
      "needs_background": "light"
     },
     "output_type": "display_data"
    }
   ],
   "source": [
    "plt.figure(figsize=(8,8))\n",
    "sns.countplot(df1['Applied Course'],hue='Academic Concentration',data=df1)"
   ]
  },
  {
   "cell_type": "code",
   "execution_count": 80,
   "metadata": {},
   "outputs": [
    {
     "data": {
      "text/html": [
       "<div>\n",
       "<style scoped>\n",
       "    .dataframe tbody tr th:only-of-type {\n",
       "        vertical-align: middle;\n",
       "    }\n",
       "\n",
       "    .dataframe tbody tr th {\n",
       "        vertical-align: top;\n",
       "    }\n",
       "\n",
       "    .dataframe thead th {\n",
       "        text-align: right;\n",
       "    }\n",
       "</style>\n",
       "<table border=\"1\" class=\"dataframe\">\n",
       "  <thead>\n",
       "    <tr style=\"text-align: right;\">\n",
       "      <th></th>\n",
       "      <th>Academic Concentration</th>\n",
       "      <th>Highest level of Education</th>\n",
       "      <th>What best describes your access to a computer?</th>\n",
       "      <th>Status</th>\n",
       "      <th>count</th>\n",
       "    </tr>\n",
       "  </thead>\n",
       "  <tbody>\n",
       "    <tr>\n",
       "      <th>0</th>\n",
       "      <td>Computer Science/IT</td>\n",
       "      <td>0</td>\n",
       "      <td>Having own laptop</td>\n",
       "      <td>0</td>\n",
       "      <td>931</td>\n",
       "    </tr>\n",
       "    <tr>\n",
       "      <th>1</th>\n",
       "      <td>Computer Science/IT</td>\n",
       "      <td>0</td>\n",
       "      <td>Having own laptop</td>\n",
       "      <td>1</td>\n",
       "      <td>6</td>\n",
       "    </tr>\n",
       "    <tr>\n",
       "      <th>2</th>\n",
       "      <td>Computer Science/IT</td>\n",
       "      <td>0</td>\n",
       "      <td>No regular access to computer</td>\n",
       "      <td>0</td>\n",
       "      <td>20</td>\n",
       "    </tr>\n",
       "    <tr>\n",
       "      <th>3</th>\n",
       "      <td>Computer Science/IT</td>\n",
       "      <td>0</td>\n",
       "      <td>Shared computer</td>\n",
       "      <td>0</td>\n",
       "      <td>31</td>\n",
       "    </tr>\n",
       "    <tr>\n",
       "      <th>4</th>\n",
       "      <td>Computer Science/IT</td>\n",
       "      <td>0</td>\n",
       "      <td>use computer at school/ university</td>\n",
       "      <td>0</td>\n",
       "      <td>29</td>\n",
       "    </tr>\n",
       "  </tbody>\n",
       "</table>\n",
       "</div>"
      ],
      "text/plain": [
       "  Academic Concentration Highest level of Education  \\\n",
       "0    Computer Science/IT                          0   \n",
       "1    Computer Science/IT                          0   \n",
       "2    Computer Science/IT                          0   \n",
       "3    Computer Science/IT                          0   \n",
       "4    Computer Science/IT                          0   \n",
       "\n",
       "  What best describes your access to a computer?  Status  count  \n",
       "0                              Having own laptop       0    931  \n",
       "1                              Having own laptop       1      6  \n",
       "2                  No regular access to computer       0     20  \n",
       "3                                Shared computer       0     31  \n",
       "4             use computer at school/ university       0     29  "
      ]
     },
     "execution_count": 80,
     "metadata": {},
     "output_type": "execute_result"
    }
   ],
   "source": [
    "b=df1.groupby(['Academic Concentration','Highest level of Education','What best describes your access to a computer?'])['Status'].value_counts().reset_index(name='count')\n",
    "pd.options.display.max_rows = 300\n",
    "b.head()"
   ]
  },
  {
   "cell_type": "code",
   "execution_count": 81,
   "metadata": {},
   "outputs": [
    {
     "data": {
      "text/plain": [
       "<matplotlib.axes._subplots.AxesSubplot at 0x19024993100>"
      ]
     },
     "execution_count": 81,
     "metadata": {},
     "output_type": "execute_result"
    },
    {
     "data": {
      "image/png": "[encoded data removed]",
      "text/plain": [
       "<Figure size 432x288 with 1 Axes>"
      ]
     },
     "metadata": {
      "needs_background": "light"
     },
     "output_type": "display_data"
    }
   ],
   "source": [
    "sns.countplot(df1['Highest level of Education']==0)"
   ]
  },
  {
   "cell_type": "code",
   "execution_count": 82,
   "metadata": {},
   "outputs": [
    {
     "data": {
      "text/plain": [
       "array(['Bachelor / Other', 'Master', 0], dtype=object)"
      ]
     },
     "execution_count": 82,
     "metadata": {},
     "output_type": "execute_result"
    }
   ],
   "source": [
    "df1['Highest level of Education'].unique()"
   ]
  },
  {
   "cell_type": "code",
   "execution_count": 83,
   "metadata": {},
   "outputs": [],
   "source": [
    "#df1.drop('What best describes your access to a computer?',axis=1,inplace=True)"
   ]
  },
  {
   "cell_type": "code",
   "execution_count": 84,
   "metadata": {},
   "outputs": [],
   "source": [
    "df1.loc[(df1['Highest level of Education']==0)&(df1['Age']<=26),'Highest level of Education']='Bachelor / Other'\n",
    "df1.loc[(df1['Highest level of Education']==0)&(df1['Age']>=26),'Highest level of Education']='Master'"
   ]
  },
  {
   "cell_type": "code",
   "execution_count": 85,
   "metadata": {},
   "outputs": [
    {
     "data": {
      "text/plain": [
       "<matplotlib.axes._subplots.AxesSubplot at 0x1902499c3d0>"
      ]
     },
     "execution_count": 85,
     "metadata": {},
     "output_type": "execute_result"
    },
    {
     "data": {
      "image/png": "[encoded data removed]",
      "text/plain": [
       "<Figure size 432x288 with 1 Axes>"
      ]
     },
     "metadata": {
      "needs_background": "light"
     },
     "output_type": "display_data"
    }
   ],
   "source": [
    "sns.countplot(df1['Highest level of Education']==0)"
   ]
  },
  {
   "cell_type": "code",
   "execution_count": 86,
   "metadata": {},
   "outputs": [
    {
     "data": {
      "text/plain": [
       "Bachelor / Other    3741\n",
       "Master              1277\n",
       "Name: Highest level of Education, dtype: int64"
      ]
     },
     "execution_count": 86,
     "metadata": {},
     "output_type": "execute_result"
    }
   ],
   "source": [
    "df1['Highest level of Education'].value_counts()"
   ]
  },
  {
   "cell_type": "code",
   "execution_count": 87,
   "metadata": {},
   "outputs": [
    {
     "data": {
      "text/plain": [
       "Having own laptop                     4505\n",
       "No regular access to computer          172\n",
       "Shared computer                        170\n",
       "use computer at school/ university     169\n",
       "others                                   2\n",
       "Name: What best describes your access to a computer?, dtype: int64"
      ]
     },
     "execution_count": 87,
     "metadata": {},
     "output_type": "execute_result"
    }
   ],
   "source": [
    "df1['What best describes your access to a computer?'].value_counts()"
   ]
  },
  {
   "cell_type": "code",
   "execution_count": 88,
   "metadata": {},
   "outputs": [
    {
     "data": {
      "text/plain": [
       "<matplotlib.axes._subplots.AxesSubplot at 0x19024a1cb20>"
      ]
     },
     "execution_count": 88,
     "metadata": {},
     "output_type": "execute_result"
    },
    {
     "data": {
      "image/png": "[encoded data removed]",
      "text/plain": [
       "<Figure size 2160x576 with 1 Axes>"
      ]
     },
     "metadata": {
      "needs_background": "light"
     },
     "output_type": "display_data"
    }
   ],
   "source": [
    "plt.figure(figsize=(30,8))\n",
    "sns.countplot(df1['What best describes your access to a computer?'])"
   ]
  },
  {
   "cell_type": "code",
   "execution_count": 89,
   "metadata": {},
   "outputs": [],
   "source": [
    "df1.loc[(df1['What best describes your access to a computer?'].isin(['No regular access to computer','Shared computer','use computer at school/ university'])),'What best describes your access to a computer?'] = 'others'"
   ]
  },
  {
   "cell_type": "code",
   "execution_count": 90,
   "metadata": {},
   "outputs": [
    {
     "data": {
      "text/plain": [
       "Having own laptop    4505\n",
       "others                513\n",
       "Name: What best describes your access to a computer?, dtype: int64"
      ]
     },
     "execution_count": 90,
     "metadata": {},
     "output_type": "execute_result"
    }
   ],
   "source": [
    "df1['What best describes your access to a computer?'].value_counts()"
   ]
  },
  {
   "cell_type": "code",
   "execution_count": 91,
   "metadata": {},
   "outputs": [],
   "source": [
    "df1.drop(['Points Scored Screning Test',\n",
    "       'Screening Test Percentage', 'Agreegate Percentage'],axis=1,inplace=True)"
   ]
  },
  {
   "cell_type": "code",
   "execution_count": 92,
   "metadata": {},
   "outputs": [],
   "source": [
    "df1.drop(['Submitted At','Batch','Unnamed: 28', 'name', 'Time', 'day', 'hour', 'min'],axis=1,inplace=True)"
   ]
  },
  {
   "cell_type": "code",
   "execution_count": 93,
   "metadata": {},
   "outputs": [
    {
     "data": {
      "text/plain": [
       "Gender                                             object\n",
       "Age                                                 int64\n",
       "Applied Course                                     object\n",
       "Domicile                                           object\n",
       "What best describes your access to a computer?     object\n",
       "Academic Concentration                             object\n",
       "CGPA/Final Average GPA                             object\n",
       "Highest level of Education                         object\n",
       "Training district                                  object\n",
       "Initial Screening Percentage                      float64\n",
       "Status                                              int64\n",
       "sec                                                 int64\n",
       "dtype: object"
      ]
     },
     "execution_count": 93,
     "metadata": {},
     "output_type": "execute_result"
    }
   ],
   "source": [
    "df1.dtypes"
   ]
  },
  {
   "cell_type": "code",
   "execution_count": null,
   "metadata": {},
   "outputs": [],
   "source": []
  }
 ],
 "metadata": {
  "kernelspec": {
   "display_name": "Python 3",
   "language": "python",
   "name": "python3"
  },
  "language_info": {
   "codemirror_mode": {
    "name": "ipython",
    "version": 3
   },
   "file_extension": ".py",
   "mimetype": "text/x-python",
   "name": "python",
   "nbconvert_exporter": "python",
   "pygments_lexer": "ipython3",
   "version": "3.8.3"
  }
 },
 "nbformat": 4,
 "nbformat_minor": 4
}
