{
 "cells": [
  {
   "cell_type": "code",
   "execution_count": 2,
   "metadata": {},
   "outputs": [],
   "source": [
    "import numpy as np\n",
    "import pandas as pd\n",
    "import matplotlib.pyplot as plt\n",
    "import seaborn as sns\n",
    "%matplotlib inline"
   ]
  },
  {
   "cell_type": "code",
   "execution_count": 3,
   "metadata": {},
   "outputs": [],
   "source": [
    "# read_file=pd.read_csv('ADS Cycle-1 - Master Sheet - Nov 06, 2019.csv')\n",
    "# read_file.to_excel('ADS Cycle-1 - Master Sheet - Nov 06, 2019.xlsx', index=None, header=True)"
   ]
  },
  {
   "cell_type": "code",
   "execution_count": 4,
   "metadata": {},
   "outputs": [],
   "source": [
    "df=pd.read_excel('ADS Cycle-1 - Master Sheet - Nov 06, 2019.xlsx')"
   ]
  },
  {
   "cell_type": "code",
   "execution_count": 5,
   "metadata": {},
   "outputs": [],
   "source": [
    "df1=df.copy()"
   ]
  },
  {
   "cell_type": "code",
   "execution_count": 6,
   "metadata": {},
   "outputs": [
    {
     "data": {
      "text/html": [
       "<div>\n",
       "<style scoped>\n",
       "    .dataframe tbody tr th:only-of-type {\n",
       "        vertical-align: middle;\n",
       "    }\n",
       "\n",
       "    .dataframe tbody tr th {\n",
       "        vertical-align: top;\n",
       "    }\n",
       "\n",
       "    .dataframe thead th {\n",
       "        text-align: right;\n",
       "    }\n",
       "</style>\n",
       "<table border=\"1\" class=\"dataframe\">\n",
       "  <thead>\n",
       "    <tr style=\"text-align: right;\">\n",
       "      <th></th>\n",
       "      <th>Unnamed: 0</th>\n",
       "      <th>First Name</th>\n",
       "      <th>Last Name</th>\n",
       "      <th>Gender</th>\n",
       "      <th>Age</th>\n",
       "      <th>CNIC</th>\n",
       "      <th>Applied Course</th>\n",
       "      <th>Domicile</th>\n",
       "      <th>Email</th>\n",
       "      <th>Phone number</th>\n",
       "      <th>What best describes your access to a computer?</th>\n",
       "      <th>Academic Concentration</th>\n",
       "      <th>CGPA/Final Average GPA</th>\n",
       "      <th>Highest level of Education</th>\n",
       "      <th>In which district do you prefer to attend training?</th>\n",
       "      <th>Score</th>\n",
       "      <th>Initial Screening Percentage</th>\n",
       "      <th>Points Scored Screning Test</th>\n",
       "      <th>Screening Test Percentage</th>\n",
       "      <th>Agreegate Percentage</th>\n",
       "      <th>Submitted At</th>\n",
       "      <th>Allocated District</th>\n",
       "      <th>Status</th>\n",
       "      <th>Batch</th>\n",
       "      <th>Internal Assessments</th>\n",
       "      <th>Certifications</th>\n",
       "      <th>Job Placement</th>\n",
       "      <th>Comments</th>\n",
       "      <th>Unnamed: 28</th>\n",
       "      <th>Unnamed: 29</th>\n",
       "      <th>Unnamed: 30</th>\n",
       "      <th>Unnamed: 31</th>\n",
       "      <th>Unnamed: 32</th>\n",
       "      <th>Unnamed: 33</th>\n",
       "      <th>Unnamed: 34</th>\n",
       "      <th>Unnamed: 35</th>\n",
       "      <th>Unnamed: 36</th>\n",
       "      <th>Unnamed: 37</th>\n",
       "      <th>Unnamed: 38</th>\n",
       "      <th>Unnamed: 39</th>\n",
       "      <th>Unnamed: 40</th>\n",
       "      <th>Unnamed: 41</th>\n",
       "      <th>Unnamed: 42</th>\n",
       "      <th>Unnamed: 43</th>\n",
       "    </tr>\n",
       "  </thead>\n",
       "  <tbody>\n",
       "    <tr>\n",
       "      <th>0</th>\n",
       "      <td>e5yfyvtxeaibqs5dq99xe5yfyv4medpw</td>\n",
       "      <td>Waseem</td>\n",
       "      <td>Akram</td>\n",
       "      <td>Male</td>\n",
       "      <td>29</td>\n",
       "      <td>1710303501939</td>\n",
       "      <td>AWS</td>\n",
       "      <td>Charsadda</td>\n",
       "      <td>Waseemhse999@gmail.com</td>\n",
       "      <td>0.0</td>\n",
       "      <td>Having own laptop</td>\n",
       "      <td>Engineering</td>\n",
       "      <td>Below 2.5</td>\n",
       "      <td>Bachelor / Other</td>\n",
       "      <td>Peshawar</td>\n",
       "      <td>43</td>\n",
       "      <td>0.286667</td>\n",
       "      <td>6</td>\n",
       "      <td>15%</td>\n",
       "      <td>0.218333</td>\n",
       "      <td>43700.18598</td>\n",
       "      <td>NaN</td>\n",
       "      <td>13-Not Shortlisted</td>\n",
       "      <td>NaN</td>\n",
       "      <td>NaN</td>\n",
       "      <td>NaN</td>\n",
       "      <td>NaN</td>\n",
       "      <td>NaN</td>\n",
       "      <td>NaN</td>\n",
       "      <td>NaN</td>\n",
       "      <td>NaN</td>\n",
       "      <td>NaN</td>\n",
       "      <td>NaN</td>\n",
       "      <td>NaN</td>\n",
       "      <td>NaN</td>\n",
       "      <td>NaN</td>\n",
       "      <td>NaN</td>\n",
       "      <td>NaN</td>\n",
       "      <td>NaN</td>\n",
       "      <td>NaN</td>\n",
       "      <td>NaN</td>\n",
       "      <td>NaN</td>\n",
       "      <td>NaN</td>\n",
       "      <td>NaN</td>\n",
       "    </tr>\n",
       "    <tr>\n",
       "      <th>1</th>\n",
       "      <td>eoc6jib9op0hael95eoc6jzf538ue38n</td>\n",
       "      <td>Asifa khan</td>\n",
       "      <td>Asifa</td>\n",
       "      <td>Female</td>\n",
       "      <td>23</td>\n",
       "      <td>135031253685</td>\n",
       "      <td>Azure MCSD</td>\n",
       "      <td>Abbottabad</td>\n",
       "      <td>Asifakhan392@gmail.com</td>\n",
       "      <td>351370.0</td>\n",
       "      <td>Having own laptop</td>\n",
       "      <td>Other</td>\n",
       "      <td>Between 2.5 and 3.0</td>\n",
       "      <td>Master</td>\n",
       "      <td>Abbottabad</td>\n",
       "      <td>41</td>\n",
       "      <td>0.273333</td>\n",
       "      <td>NaN</td>\n",
       "      <td>NaN</td>\n",
       "      <td>0.136667</td>\n",
       "      <td>43705.70079</td>\n",
       "      <td>NaN</td>\n",
       "      <td>13-Not Shortlisted</td>\n",
       "      <td>NaN</td>\n",
       "      <td>NaN</td>\n",
       "      <td>NaN</td>\n",
       "      <td>NaN</td>\n",
       "      <td>NaN</td>\n",
       "      <td>NaN</td>\n",
       "      <td>NaN</td>\n",
       "      <td>NaN</td>\n",
       "      <td>NaN</td>\n",
       "      <td>NaN</td>\n",
       "      <td>NaN</td>\n",
       "      <td>NaN</td>\n",
       "      <td>NaN</td>\n",
       "      <td>NaN</td>\n",
       "      <td>NaN</td>\n",
       "      <td>NaN</td>\n",
       "      <td>NaN</td>\n",
       "      <td>NaN</td>\n",
       "      <td>NaN</td>\n",
       "      <td>NaN</td>\n",
       "      <td>NaN</td>\n",
       "    </tr>\n",
       "    <tr>\n",
       "      <th>2</th>\n",
       "      <td>vyeb2coyq0bbpacvvyeb2n9xm3dj9iia</td>\n",
       "      <td>nadia</td>\n",
       "      <td>khattak</td>\n",
       "      <td>Female</td>\n",
       "      <td>23</td>\n",
       "      <td>1730183562728</td>\n",
       "      <td>Azure MCSD</td>\n",
       "      <td>Peshawar</td>\n",
       "      <td>naskkhattak@gmail.com</td>\n",
       "      <td>312917897.0</td>\n",
       "      <td>Having own laptop</td>\n",
       "      <td>Computer Science/IT</td>\n",
       "      <td>Above 3.0</td>\n",
       "      <td>Bachelor / Other</td>\n",
       "      <td>Peshawar</td>\n",
       "      <td>99</td>\n",
       "      <td>0.660000</td>\n",
       "      <td>20</td>\n",
       "      <td>50%</td>\n",
       "      <td>0.580000</td>\n",
       "      <td>43711.56671</td>\n",
       "      <td>NaN</td>\n",
       "      <td>3-Appears in Technical Test</td>\n",
       "      <td>ADS-AZ-C1-B1</td>\n",
       "      <td>NaN</td>\n",
       "      <td>NaN</td>\n",
       "      <td>NaN</td>\n",
       "      <td>NaN</td>\n",
       "      <td>NaN</td>\n",
       "      <td>NaN</td>\n",
       "      <td>NaN</td>\n",
       "      <td>NaN</td>\n",
       "      <td>NaN</td>\n",
       "      <td>NaN</td>\n",
       "      <td>NaN</td>\n",
       "      <td>NaN</td>\n",
       "      <td>NaN</td>\n",
       "      <td>NaN</td>\n",
       "      <td>NaN</td>\n",
       "      <td>NaN</td>\n",
       "      <td>NaN</td>\n",
       "      <td>NaN</td>\n",
       "      <td>NaN</td>\n",
       "      <td>NaN</td>\n",
       "    </tr>\n",
       "    <tr>\n",
       "      <th>3</th>\n",
       "      <td>7nvijf66gghedg67n0z6ffi7qwcpqw2u</td>\n",
       "      <td>Muhammad</td>\n",
       "      <td>Ayaz</td>\n",
       "      <td>Male</td>\n",
       "      <td>21</td>\n",
       "      <td>2160254263717</td>\n",
       "      <td>Azure MCSD</td>\n",
       "      <td>Orakzai</td>\n",
       "      <td>Ayazmuhammad653@gmail.com</td>\n",
       "      <td>312969693.0</td>\n",
       "      <td>No regular access to computer</td>\n",
       "      <td>Other</td>\n",
       "      <td>Below 2.5</td>\n",
       "      <td>Bachelor / Other</td>\n",
       "      <td>Peshawar</td>\n",
       "      <td>-17</td>\n",
       "      <td>-0.113333</td>\n",
       "      <td>NaN</td>\n",
       "      <td>NaN</td>\n",
       "      <td>-0.056667</td>\n",
       "      <td>43703.28394</td>\n",
       "      <td>NaN</td>\n",
       "      <td>13-Not Shortlisted</td>\n",
       "      <td>NaN</td>\n",
       "      <td>NaN</td>\n",
       "      <td>NaN</td>\n",
       "      <td>NaN</td>\n",
       "      <td>NaN</td>\n",
       "      <td>NaN</td>\n",
       "      <td>NaN</td>\n",
       "      <td>NaN</td>\n",
       "      <td>NaN</td>\n",
       "      <td>NaN</td>\n",
       "      <td>NaN</td>\n",
       "      <td>NaN</td>\n",
       "      <td>NaN</td>\n",
       "      <td>NaN</td>\n",
       "      <td>NaN</td>\n",
       "      <td>NaN</td>\n",
       "      <td>NaN</td>\n",
       "      <td>NaN</td>\n",
       "      <td>NaN</td>\n",
       "      <td>NaN</td>\n",
       "      <td>NaN</td>\n",
       "    </tr>\n",
       "    <tr>\n",
       "      <th>4</th>\n",
       "      <td>smjwvaj3otua59zxksmjwvak7xceb1dq</td>\n",
       "      <td>Muhammad waqas khan</td>\n",
       "      <td>Khan</td>\n",
       "      <td>Male</td>\n",
       "      <td>26</td>\n",
       "      <td>1110111156401</td>\n",
       "      <td>Azure MCSD</td>\n",
       "      <td>Bannu</td>\n",
       "      <td>Wk506751@gamil.com</td>\n",
       "      <td>332332368.0</td>\n",
       "      <td>use computer at school/ university</td>\n",
       "      <td>Computer Science/IT</td>\n",
       "      <td>Below 2.5</td>\n",
       "      <td>Master</td>\n",
       "      <td>Peshawar</td>\n",
       "      <td>29</td>\n",
       "      <td>0.193333</td>\n",
       "      <td>NaN</td>\n",
       "      <td>NaN</td>\n",
       "      <td>0.096667</td>\n",
       "      <td>43698.75301</td>\n",
       "      <td>NaN</td>\n",
       "      <td>13-Not Shortlisted</td>\n",
       "      <td>NaN</td>\n",
       "      <td>NaN</td>\n",
       "      <td>NaN</td>\n",
       "      <td>NaN</td>\n",
       "      <td>NaN</td>\n",
       "      <td>NaN</td>\n",
       "      <td>NaN</td>\n",
       "      <td>NaN</td>\n",
       "      <td>NaN</td>\n",
       "      <td>NaN</td>\n",
       "      <td>NaN</td>\n",
       "      <td>NaN</td>\n",
       "      <td>NaN</td>\n",
       "      <td>NaN</td>\n",
       "      <td>NaN</td>\n",
       "      <td>NaN</td>\n",
       "      <td>NaN</td>\n",
       "      <td>NaN</td>\n",
       "      <td>NaN</td>\n",
       "      <td>NaN</td>\n",
       "      <td>NaN</td>\n",
       "    </tr>\n",
       "  </tbody>\n",
       "</table>\n",
       "</div>"
      ],
      "text/plain": [
       "                         Unnamed: 0            First Name Last Name  Gender  \\\n",
       "0  e5yfyvtxeaibqs5dq99xe5yfyv4medpw                Waseem     Akram    Male   \n",
       "1  eoc6jib9op0hael95eoc6jzf538ue38n            Asifa khan     Asifa  Female   \n",
       "2  vyeb2coyq0bbpacvvyeb2n9xm3dj9iia                 nadia   khattak  Female   \n",
       "3  7nvijf66gghedg67n0z6ffi7qwcpqw2u             Muhammad      Ayaz     Male   \n",
       "4  smjwvaj3otua59zxksmjwvak7xceb1dq  Muhammad waqas khan      Khan     Male   \n",
       "\n",
       "   Age           CNIC Applied Course    Domicile                      Email  \\\n",
       "0   29  1710303501939            AWS   Charsadda     Waseemhse999@gmail.com   \n",
       "1   23   135031253685     Azure MCSD  Abbottabad     Asifakhan392@gmail.com   \n",
       "2   23  1730183562728     Azure MCSD    Peshawar      naskkhattak@gmail.com   \n",
       "3   21  2160254263717     Azure MCSD     Orakzai  Ayazmuhammad653@gmail.com   \n",
       "4   26  1110111156401     Azure MCSD       Bannu         Wk506751@gamil.com   \n",
       "\n",
       "   Phone number What best describes your access to a computer?  \\\n",
       "0           0.0                              Having own laptop   \n",
       "1      351370.0                              Having own laptop   \n",
       "2   312917897.0                              Having own laptop   \n",
       "3   312969693.0                  No regular access to computer   \n",
       "4   332332368.0             use computer at school/ university   \n",
       "\n",
       "  Academic Concentration CGPA/Final Average GPA Highest level of Education  \\\n",
       "0            Engineering              Below 2.5           Bachelor / Other   \n",
       "1                  Other    Between 2.5 and 3.0                     Master   \n",
       "2    Computer Science/IT              Above 3.0           Bachelor / Other   \n",
       "3                  Other              Below 2.5           Bachelor / Other   \n",
       "4    Computer Science/IT              Below 2.5                     Master   \n",
       "\n",
       "  In which district do you prefer to attend training?  Score  \\\n",
       "0                                           Peshawar      43   \n",
       "1                                         Abbottabad      41   \n",
       "2                                           Peshawar      99   \n",
       "3                                           Peshawar     -17   \n",
       "4                                           Peshawar      29   \n",
       "\n",
       "   Initial Screening Percentage Points Scored Screning Test  \\\n",
       "0                      0.286667                           6   \n",
       "1                      0.273333                         NaN   \n",
       "2                      0.660000                          20   \n",
       "3                     -0.113333                         NaN   \n",
       "4                      0.193333                         NaN   \n",
       "\n",
       "  Screening Test Percentage  Agreegate Percentage  Submitted At  \\\n",
       "0                       15%              0.218333   43700.18598   \n",
       "1                       NaN              0.136667   43705.70079   \n",
       "2                       50%              0.580000   43711.56671   \n",
       "3                       NaN             -0.056667   43703.28394   \n",
       "4                       NaN              0.096667   43698.75301   \n",
       "\n",
       "   Allocated District                       Status         Batch  \\\n",
       "0                 NaN           13-Not Shortlisted           NaN   \n",
       "1                 NaN           13-Not Shortlisted           NaN   \n",
       "2                 NaN  3-Appears in Technical Test  ADS-AZ-C1-B1   \n",
       "3                 NaN           13-Not Shortlisted           NaN   \n",
       "4                 NaN           13-Not Shortlisted           NaN   \n",
       "\n",
       "   Internal Assessments  Certifications  Job Placement  Comments  Unnamed: 28  \\\n",
       "0                   NaN             NaN            NaN       NaN          NaN   \n",
       "1                   NaN             NaN            NaN       NaN          NaN   \n",
       "2                   NaN             NaN            NaN       NaN          NaN   \n",
       "3                   NaN             NaN            NaN       NaN          NaN   \n",
       "4                   NaN             NaN            NaN       NaN          NaN   \n",
       "\n",
       "   Unnamed: 29  Unnamed: 30  Unnamed: 31  Unnamed: 32  Unnamed: 33  \\\n",
       "0          NaN          NaN          NaN          NaN          NaN   \n",
       "1          NaN          NaN          NaN          NaN          NaN   \n",
       "2          NaN          NaN          NaN          NaN          NaN   \n",
       "3          NaN          NaN          NaN          NaN          NaN   \n",
       "4          NaN          NaN          NaN          NaN          NaN   \n",
       "\n",
       "   Unnamed: 34  Unnamed: 35  Unnamed: 36  Unnamed: 37  Unnamed: 38  \\\n",
       "0          NaN          NaN          NaN          NaN          NaN   \n",
       "1          NaN          NaN          NaN          NaN          NaN   \n",
       "2          NaN          NaN          NaN          NaN          NaN   \n",
       "3          NaN          NaN          NaN          NaN          NaN   \n",
       "4          NaN          NaN          NaN          NaN          NaN   \n",
       "\n",
       "   Unnamed: 39  Unnamed: 40  Unnamed: 41  Unnamed: 42  Unnamed: 43  \n",
       "0          NaN          NaN          NaN          NaN          NaN  \n",
       "1          NaN          NaN          NaN          NaN          NaN  \n",
       "2          NaN          NaN          NaN          NaN          NaN  \n",
       "3          NaN          NaN          NaN          NaN          NaN  \n",
       "4          NaN          NaN          NaN          NaN          NaN  "
      ]
     },
     "execution_count": 6,
     "metadata": {},
     "output_type": "execute_result"
    }
   ],
   "source": [
    "pd.options.display.max_columns = 100\n",
    "df1.head()"
   ]
  },
  {
   "cell_type": "code",
   "execution_count": 7,
   "metadata": {},
   "outputs": [
    {
     "data": {
      "text/html": [
       "<div>\n",
       "<style scoped>\n",
       "    .dataframe tbody tr th:only-of-type {\n",
       "        vertical-align: middle;\n",
       "    }\n",
       "\n",
       "    .dataframe tbody tr th {\n",
       "        vertical-align: top;\n",
       "    }\n",
       "\n",
       "    .dataframe thead th {\n",
       "        text-align: right;\n",
       "    }\n",
       "</style>\n",
       "<table border=\"1\" class=\"dataframe\">\n",
       "  <thead>\n",
       "    <tr style=\"text-align: right;\">\n",
       "      <th></th>\n",
       "      <th>Unnamed: 0</th>\n",
       "      <th>First Name</th>\n",
       "      <th>Last Name</th>\n",
       "      <th>Gender</th>\n",
       "      <th>Age</th>\n",
       "      <th>CNIC</th>\n",
       "      <th>Applied Course</th>\n",
       "      <th>Domicile</th>\n",
       "      <th>Email</th>\n",
       "      <th>Phone number</th>\n",
       "      <th>What best describes your access to a computer?</th>\n",
       "      <th>Academic Concentration</th>\n",
       "      <th>CGPA/Final Average GPA</th>\n",
       "      <th>Highest level of Education</th>\n",
       "      <th>Training district</th>\n",
       "      <th>Score</th>\n",
       "      <th>Initial Screening Percentage</th>\n",
       "      <th>Points Scored Screning Test</th>\n",
       "      <th>Screening Test Percentage</th>\n",
       "      <th>Agreegate Percentage</th>\n",
       "      <th>Submitted At</th>\n",
       "      <th>Allocated District</th>\n",
       "      <th>Status</th>\n",
       "      <th>Batch</th>\n",
       "      <th>Internal Assessments</th>\n",
       "      <th>Certifications</th>\n",
       "      <th>Job Placement</th>\n",
       "      <th>Comments</th>\n",
       "      <th>Unnamed: 28</th>\n",
       "      <th>Unnamed: 29</th>\n",
       "      <th>Unnamed: 30</th>\n",
       "      <th>Unnamed: 31</th>\n",
       "      <th>Unnamed: 32</th>\n",
       "      <th>Unnamed: 33</th>\n",
       "      <th>Unnamed: 34</th>\n",
       "      <th>Unnamed: 35</th>\n",
       "      <th>Unnamed: 36</th>\n",
       "      <th>Unnamed: 37</th>\n",
       "      <th>Unnamed: 38</th>\n",
       "      <th>Unnamed: 39</th>\n",
       "      <th>Unnamed: 40</th>\n",
       "      <th>Unnamed: 41</th>\n",
       "      <th>Unnamed: 42</th>\n",
       "      <th>Unnamed: 43</th>\n",
       "    </tr>\n",
       "  </thead>\n",
       "  <tbody>\n",
       "    <tr>\n",
       "      <th>0</th>\n",
       "      <td>e5yfyvtxeaibqs5dq99xe5yfyv4medpw</td>\n",
       "      <td>Waseem</td>\n",
       "      <td>Akram</td>\n",
       "      <td>Male</td>\n",
       "      <td>29</td>\n",
       "      <td>1710303501939</td>\n",
       "      <td>AWS</td>\n",
       "      <td>Charsadda</td>\n",
       "      <td>Waseemhse999@gmail.com</td>\n",
       "      <td>0.0</td>\n",
       "      <td>Having own laptop</td>\n",
       "      <td>Engineering</td>\n",
       "      <td>Below 2.5</td>\n",
       "      <td>Bachelor / Other</td>\n",
       "      <td>Peshawar</td>\n",
       "      <td>43</td>\n",
       "      <td>0.286667</td>\n",
       "      <td>6</td>\n",
       "      <td>15%</td>\n",
       "      <td>0.218333</td>\n",
       "      <td>43700.18598</td>\n",
       "      <td>NaN</td>\n",
       "      <td>13-Not Shortlisted</td>\n",
       "      <td>NaN</td>\n",
       "      <td>NaN</td>\n",
       "      <td>NaN</td>\n",
       "      <td>NaN</td>\n",
       "      <td>NaN</td>\n",
       "      <td>NaN</td>\n",
       "      <td>NaN</td>\n",
       "      <td>NaN</td>\n",
       "      <td>NaN</td>\n",
       "      <td>NaN</td>\n",
       "      <td>NaN</td>\n",
       "      <td>NaN</td>\n",
       "      <td>NaN</td>\n",
       "      <td>NaN</td>\n",
       "      <td>NaN</td>\n",
       "      <td>NaN</td>\n",
       "      <td>NaN</td>\n",
       "      <td>NaN</td>\n",
       "      <td>NaN</td>\n",
       "      <td>NaN</td>\n",
       "      <td>NaN</td>\n",
       "    </tr>\n",
       "    <tr>\n",
       "      <th>1</th>\n",
       "      <td>eoc6jib9op0hael95eoc6jzf538ue38n</td>\n",
       "      <td>Asifa khan</td>\n",
       "      <td>Asifa</td>\n",
       "      <td>Female</td>\n",
       "      <td>23</td>\n",
       "      <td>135031253685</td>\n",
       "      <td>Azure MCSD</td>\n",
       "      <td>Abbottabad</td>\n",
       "      <td>Asifakhan392@gmail.com</td>\n",
       "      <td>351370.0</td>\n",
       "      <td>Having own laptop</td>\n",
       "      <td>Other</td>\n",
       "      <td>Between 2.5 and 3.0</td>\n",
       "      <td>Master</td>\n",
       "      <td>Abbottabad</td>\n",
       "      <td>41</td>\n",
       "      <td>0.273333</td>\n",
       "      <td>NaN</td>\n",
       "      <td>NaN</td>\n",
       "      <td>0.136667</td>\n",
       "      <td>43705.70079</td>\n",
       "      <td>NaN</td>\n",
       "      <td>13-Not Shortlisted</td>\n",
       "      <td>NaN</td>\n",
       "      <td>NaN</td>\n",
       "      <td>NaN</td>\n",
       "      <td>NaN</td>\n",
       "      <td>NaN</td>\n",
       "      <td>NaN</td>\n",
       "      <td>NaN</td>\n",
       "      <td>NaN</td>\n",
       "      <td>NaN</td>\n",
       "      <td>NaN</td>\n",
       "      <td>NaN</td>\n",
       "      <td>NaN</td>\n",
       "      <td>NaN</td>\n",
       "      <td>NaN</td>\n",
       "      <td>NaN</td>\n",
       "      <td>NaN</td>\n",
       "      <td>NaN</td>\n",
       "      <td>NaN</td>\n",
       "      <td>NaN</td>\n",
       "      <td>NaN</td>\n",
       "      <td>NaN</td>\n",
       "    </tr>\n",
       "    <tr>\n",
       "      <th>2</th>\n",
       "      <td>vyeb2coyq0bbpacvvyeb2n9xm3dj9iia</td>\n",
       "      <td>nadia</td>\n",
       "      <td>khattak</td>\n",
       "      <td>Female</td>\n",
       "      <td>23</td>\n",
       "      <td>1730183562728</td>\n",
       "      <td>Azure MCSD</td>\n",
       "      <td>Peshawar</td>\n",
       "      <td>naskkhattak@gmail.com</td>\n",
       "      <td>312917897.0</td>\n",
       "      <td>Having own laptop</td>\n",
       "      <td>Computer Science/IT</td>\n",
       "      <td>Above 3.0</td>\n",
       "      <td>Bachelor / Other</td>\n",
       "      <td>Peshawar</td>\n",
       "      <td>99</td>\n",
       "      <td>0.660000</td>\n",
       "      <td>20</td>\n",
       "      <td>50%</td>\n",
       "      <td>0.580000</td>\n",
       "      <td>43711.56671</td>\n",
       "      <td>NaN</td>\n",
       "      <td>3-Appears in Technical Test</td>\n",
       "      <td>ADS-AZ-C1-B1</td>\n",
       "      <td>NaN</td>\n",
       "      <td>NaN</td>\n",
       "      <td>NaN</td>\n",
       "      <td>NaN</td>\n",
       "      <td>NaN</td>\n",
       "      <td>NaN</td>\n",
       "      <td>NaN</td>\n",
       "      <td>NaN</td>\n",
       "      <td>NaN</td>\n",
       "      <td>NaN</td>\n",
       "      <td>NaN</td>\n",
       "      <td>NaN</td>\n",
       "      <td>NaN</td>\n",
       "      <td>NaN</td>\n",
       "      <td>NaN</td>\n",
       "      <td>NaN</td>\n",
       "      <td>NaN</td>\n",
       "      <td>NaN</td>\n",
       "      <td>NaN</td>\n",
       "      <td>NaN</td>\n",
       "    </tr>\n",
       "    <tr>\n",
       "      <th>3</th>\n",
       "      <td>7nvijf66gghedg67n0z6ffi7qwcpqw2u</td>\n",
       "      <td>Muhammad</td>\n",
       "      <td>Ayaz</td>\n",
       "      <td>Male</td>\n",
       "      <td>21</td>\n",
       "      <td>2160254263717</td>\n",
       "      <td>Azure MCSD</td>\n",
       "      <td>Orakzai</td>\n",
       "      <td>Ayazmuhammad653@gmail.com</td>\n",
       "      <td>312969693.0</td>\n",
       "      <td>No regular access to computer</td>\n",
       "      <td>Other</td>\n",
       "      <td>Below 2.5</td>\n",
       "      <td>Bachelor / Other</td>\n",
       "      <td>Peshawar</td>\n",
       "      <td>-17</td>\n",
       "      <td>-0.113333</td>\n",
       "      <td>NaN</td>\n",
       "      <td>NaN</td>\n",
       "      <td>-0.056667</td>\n",
       "      <td>43703.28394</td>\n",
       "      <td>NaN</td>\n",
       "      <td>13-Not Shortlisted</td>\n",
       "      <td>NaN</td>\n",
       "      <td>NaN</td>\n",
       "      <td>NaN</td>\n",
       "      <td>NaN</td>\n",
       "      <td>NaN</td>\n",
       "      <td>NaN</td>\n",
       "      <td>NaN</td>\n",
       "      <td>NaN</td>\n",
       "      <td>NaN</td>\n",
       "      <td>NaN</td>\n",
       "      <td>NaN</td>\n",
       "      <td>NaN</td>\n",
       "      <td>NaN</td>\n",
       "      <td>NaN</td>\n",
       "      <td>NaN</td>\n",
       "      <td>NaN</td>\n",
       "      <td>NaN</td>\n",
       "      <td>NaN</td>\n",
       "      <td>NaN</td>\n",
       "      <td>NaN</td>\n",
       "      <td>NaN</td>\n",
       "    </tr>\n",
       "    <tr>\n",
       "      <th>4</th>\n",
       "      <td>smjwvaj3otua59zxksmjwvak7xceb1dq</td>\n",
       "      <td>Muhammad waqas khan</td>\n",
       "      <td>Khan</td>\n",
       "      <td>Male</td>\n",
       "      <td>26</td>\n",
       "      <td>1110111156401</td>\n",
       "      <td>Azure MCSD</td>\n",
       "      <td>Bannu</td>\n",
       "      <td>Wk506751@gamil.com</td>\n",
       "      <td>332332368.0</td>\n",
       "      <td>use computer at school/ university</td>\n",
       "      <td>Computer Science/IT</td>\n",
       "      <td>Below 2.5</td>\n",
       "      <td>Master</td>\n",
       "      <td>Peshawar</td>\n",
       "      <td>29</td>\n",
       "      <td>0.193333</td>\n",
       "      <td>NaN</td>\n",
       "      <td>NaN</td>\n",
       "      <td>0.096667</td>\n",
       "      <td>43698.75301</td>\n",
       "      <td>NaN</td>\n",
       "      <td>13-Not Shortlisted</td>\n",
       "      <td>NaN</td>\n",
       "      <td>NaN</td>\n",
       "      <td>NaN</td>\n",
       "      <td>NaN</td>\n",
       "      <td>NaN</td>\n",
       "      <td>NaN</td>\n",
       "      <td>NaN</td>\n",
       "      <td>NaN</td>\n",
       "      <td>NaN</td>\n",
       "      <td>NaN</td>\n",
       "      <td>NaN</td>\n",
       "      <td>NaN</td>\n",
       "      <td>NaN</td>\n",
       "      <td>NaN</td>\n",
       "      <td>NaN</td>\n",
       "      <td>NaN</td>\n",
       "      <td>NaN</td>\n",
       "      <td>NaN</td>\n",
       "      <td>NaN</td>\n",
       "      <td>NaN</td>\n",
       "      <td>NaN</td>\n",
       "    </tr>\n",
       "  </tbody>\n",
       "</table>\n",
       "</div>"
      ],
      "text/plain": [
       "                         Unnamed: 0            First Name Last Name  Gender  \\\n",
       "0  e5yfyvtxeaibqs5dq99xe5yfyv4medpw                Waseem     Akram    Male   \n",
       "1  eoc6jib9op0hael95eoc6jzf538ue38n            Asifa khan     Asifa  Female   \n",
       "2  vyeb2coyq0bbpacvvyeb2n9xm3dj9iia                 nadia   khattak  Female   \n",
       "3  7nvijf66gghedg67n0z6ffi7qwcpqw2u             Muhammad      Ayaz     Male   \n",
       "4  smjwvaj3otua59zxksmjwvak7xceb1dq  Muhammad waqas khan      Khan     Male   \n",
       "\n",
       "   Age           CNIC Applied Course    Domicile                      Email  \\\n",
       "0   29  1710303501939            AWS   Charsadda     Waseemhse999@gmail.com   \n",
       "1   23   135031253685     Azure MCSD  Abbottabad     Asifakhan392@gmail.com   \n",
       "2   23  1730183562728     Azure MCSD    Peshawar      naskkhattak@gmail.com   \n",
       "3   21  2160254263717     Azure MCSD     Orakzai  Ayazmuhammad653@gmail.com   \n",
       "4   26  1110111156401     Azure MCSD       Bannu         Wk506751@gamil.com   \n",
       "\n",
       "   Phone number What best describes your access to a computer?  \\\n",
       "0           0.0                              Having own laptop   \n",
       "1      351370.0                              Having own laptop   \n",
       "2   312917897.0                              Having own laptop   \n",
       "3   312969693.0                  No regular access to computer   \n",
       "4   332332368.0             use computer at school/ university   \n",
       "\n",
       "  Academic Concentration CGPA/Final Average GPA Highest level of Education  \\\n",
       "0            Engineering              Below 2.5           Bachelor / Other   \n",
       "1                  Other    Between 2.5 and 3.0                     Master   \n",
       "2    Computer Science/IT              Above 3.0           Bachelor / Other   \n",
       "3                  Other              Below 2.5           Bachelor / Other   \n",
       "4    Computer Science/IT              Below 2.5                     Master   \n",
       "\n",
       "  Training district  Score  Initial Screening Percentage  \\\n",
       "0          Peshawar     43                      0.286667   \n",
       "1        Abbottabad     41                      0.273333   \n",
       "2          Peshawar     99                      0.660000   \n",
       "3          Peshawar    -17                     -0.113333   \n",
       "4          Peshawar     29                      0.193333   \n",
       "\n",
       "  Points Scored Screning Test Screening Test Percentage  Agreegate Percentage  \\\n",
       "0                           6                       15%              0.218333   \n",
       "1                         NaN                       NaN              0.136667   \n",
       "2                          20                       50%              0.580000   \n",
       "3                         NaN                       NaN             -0.056667   \n",
       "4                         NaN                       NaN              0.096667   \n",
       "\n",
       "   Submitted At  Allocated District                       Status  \\\n",
       "0   43700.18598                 NaN           13-Not Shortlisted   \n",
       "1   43705.70079                 NaN           13-Not Shortlisted   \n",
       "2   43711.56671                 NaN  3-Appears in Technical Test   \n",
       "3   43703.28394                 NaN           13-Not Shortlisted   \n",
       "4   43698.75301                 NaN           13-Not Shortlisted   \n",
       "\n",
       "          Batch  Internal Assessments  Certifications  Job Placement  \\\n",
       "0           NaN                   NaN             NaN            NaN   \n",
       "1           NaN                   NaN             NaN            NaN   \n",
       "2  ADS-AZ-C1-B1                   NaN             NaN            NaN   \n",
       "3           NaN                   NaN             NaN            NaN   \n",
       "4           NaN                   NaN             NaN            NaN   \n",
       "\n",
       "   Comments  Unnamed: 28  Unnamed: 29  Unnamed: 30  Unnamed: 31  Unnamed: 32  \\\n",
       "0       NaN          NaN          NaN          NaN          NaN          NaN   \n",
       "1       NaN          NaN          NaN          NaN          NaN          NaN   \n",
       "2       NaN          NaN          NaN          NaN          NaN          NaN   \n",
       "3       NaN          NaN          NaN          NaN          NaN          NaN   \n",
       "4       NaN          NaN          NaN          NaN          NaN          NaN   \n",
       "\n",
       "   Unnamed: 33  Unnamed: 34  Unnamed: 35  Unnamed: 36  Unnamed: 37  \\\n",
       "0          NaN          NaN          NaN          NaN          NaN   \n",
       "1          NaN          NaN          NaN          NaN          NaN   \n",
       "2          NaN          NaN          NaN          NaN          NaN   \n",
       "3          NaN          NaN          NaN          NaN          NaN   \n",
       "4          NaN          NaN          NaN          NaN          NaN   \n",
       "\n",
       "   Unnamed: 38  Unnamed: 39  Unnamed: 40  Unnamed: 41  Unnamed: 42  \\\n",
       "0          NaN          NaN          NaN          NaN          NaN   \n",
       "1          NaN          NaN          NaN          NaN          NaN   \n",
       "2          NaN          NaN          NaN          NaN          NaN   \n",
       "3          NaN          NaN          NaN          NaN          NaN   \n",
       "4          NaN          NaN          NaN          NaN          NaN   \n",
       "\n",
       "   Unnamed: 43  \n",
       "0          NaN  \n",
       "1          NaN  \n",
       "2          NaN  \n",
       "3          NaN  \n",
       "4          NaN  "
      ]
     },
     "execution_count": 7,
     "metadata": {},
     "output_type": "execute_result"
    }
   ],
   "source": [
    "df1.rename(columns = {'In which district do you prefer to attend training?': 'Training district'}, inplace=True)\n",
    "df1.head()"
   ]
  },
  {
   "cell_type": "code",
   "execution_count": 8,
   "metadata": {},
   "outputs": [
    {
     "data": {
      "text/plain": [
       "(5018, 44)"
      ]
     },
     "execution_count": 8,
     "metadata": {},
     "output_type": "execute_result"
    }
   ],
   "source": [
    "df1.shape"
   ]
  },
  {
   "cell_type": "code",
   "execution_count": 9,
   "metadata": {},
   "outputs": [
    {
     "data": {
      "text/html": [
       "<div>\n",
       "<style scoped>\n",
       "    .dataframe tbody tr th:only-of-type {\n",
       "        vertical-align: middle;\n",
       "    }\n",
       "\n",
       "    .dataframe tbody tr th {\n",
       "        vertical-align: top;\n",
       "    }\n",
       "\n",
       "    .dataframe thead th {\n",
       "        text-align: right;\n",
       "    }\n",
       "</style>\n",
       "<table border=\"1\" class=\"dataframe\">\n",
       "  <thead>\n",
       "    <tr style=\"text-align: right;\">\n",
       "      <th></th>\n",
       "      <th>Age</th>\n",
       "      <th>CNIC</th>\n",
       "      <th>Phone number</th>\n",
       "      <th>Score</th>\n",
       "      <th>Initial Screening Percentage</th>\n",
       "      <th>Agreegate Percentage</th>\n",
       "      <th>Submitted At</th>\n",
       "      <th>Allocated District</th>\n",
       "      <th>Internal Assessments</th>\n",
       "      <th>Certifications</th>\n",
       "      <th>Job Placement</th>\n",
       "      <th>Comments</th>\n",
       "      <th>Unnamed: 28</th>\n",
       "      <th>Unnamed: 29</th>\n",
       "      <th>Unnamed: 30</th>\n",
       "      <th>Unnamed: 31</th>\n",
       "      <th>Unnamed: 32</th>\n",
       "      <th>Unnamed: 33</th>\n",
       "      <th>Unnamed: 34</th>\n",
       "      <th>Unnamed: 35</th>\n",
       "      <th>Unnamed: 36</th>\n",
       "      <th>Unnamed: 37</th>\n",
       "      <th>Unnamed: 38</th>\n",
       "      <th>Unnamed: 39</th>\n",
       "      <th>Unnamed: 40</th>\n",
       "      <th>Unnamed: 41</th>\n",
       "      <th>Unnamed: 42</th>\n",
       "      <th>Unnamed: 43</th>\n",
       "    </tr>\n",
       "  </thead>\n",
       "  <tbody>\n",
       "    <tr>\n",
       "      <th>count</th>\n",
       "      <td>5018.000000</td>\n",
       "      <td>5.018000e+03</td>\n",
       "      <td>5.017000e+03</td>\n",
       "      <td>5018.000000</td>\n",
       "      <td>5018.000000</td>\n",
       "      <td>5015.000000</td>\n",
       "      <td>5017.000000</td>\n",
       "      <td>0.0</td>\n",
       "      <td>0.0</td>\n",
       "      <td>0.0</td>\n",
       "      <td>0.0</td>\n",
       "      <td>0.0</td>\n",
       "      <td>0.0</td>\n",
       "      <td>0.0</td>\n",
       "      <td>0.0</td>\n",
       "      <td>0.0</td>\n",
       "      <td>0.0</td>\n",
       "      <td>0.0</td>\n",
       "      <td>0.0</td>\n",
       "      <td>0.0</td>\n",
       "      <td>0.0</td>\n",
       "      <td>0.0</td>\n",
       "      <td>0.0</td>\n",
       "      <td>0.0</td>\n",
       "      <td>0.0</td>\n",
       "      <td>0.0</td>\n",
       "      <td>30.0</td>\n",
       "      <td>10.0</td>\n",
       "    </tr>\n",
       "    <tr>\n",
       "      <th>mean</th>\n",
       "      <td>24.484456</td>\n",
       "      <td>9.711921e+13</td>\n",
       "      <td>6.978951e+11</td>\n",
       "      <td>66.778996</td>\n",
       "      <td>0.445193</td>\n",
       "      <td>0.340216</td>\n",
       "      <td>43706.233994</td>\n",
       "      <td>NaN</td>\n",
       "      <td>NaN</td>\n",
       "      <td>NaN</td>\n",
       "      <td>NaN</td>\n",
       "      <td>NaN</td>\n",
       "      <td>NaN</td>\n",
       "      <td>NaN</td>\n",
       "      <td>NaN</td>\n",
       "      <td>NaN</td>\n",
       "      <td>NaN</td>\n",
       "      <td>NaN</td>\n",
       "      <td>NaN</td>\n",
       "      <td>NaN</td>\n",
       "      <td>NaN</td>\n",
       "      <td>NaN</td>\n",
       "      <td>NaN</td>\n",
       "      <td>NaN</td>\n",
       "      <td>NaN</td>\n",
       "      <td>NaN</td>\n",
       "      <td>3.0</td>\n",
       "      <td>2.0</td>\n",
       "    </tr>\n",
       "    <tr>\n",
       "      <th>std</th>\n",
       "      <td>3.639618</td>\n",
       "      <td>3.925323e+15</td>\n",
       "      <td>7.114647e+11</td>\n",
       "      <td>23.700804</td>\n",
       "      <td>0.158005</td>\n",
       "      <td>0.172577</td>\n",
       "      <td>8.627912</td>\n",
       "      <td>NaN</td>\n",
       "      <td>NaN</td>\n",
       "      <td>NaN</td>\n",
       "      <td>NaN</td>\n",
       "      <td>NaN</td>\n",
       "      <td>NaN</td>\n",
       "      <td>NaN</td>\n",
       "      <td>NaN</td>\n",
       "      <td>NaN</td>\n",
       "      <td>NaN</td>\n",
       "      <td>NaN</td>\n",
       "      <td>NaN</td>\n",
       "      <td>NaN</td>\n",
       "      <td>NaN</td>\n",
       "      <td>NaN</td>\n",
       "      <td>NaN</td>\n",
       "      <td>NaN</td>\n",
       "      <td>NaN</td>\n",
       "      <td>NaN</td>\n",
       "      <td>0.0</td>\n",
       "      <td>0.0</td>\n",
       "    </tr>\n",
       "    <tr>\n",
       "      <th>min</th>\n",
       "      <td>17.000000</td>\n",
       "      <td>0.000000e+00</td>\n",
       "      <td>0.000000e+00</td>\n",
       "      <td>-18.000000</td>\n",
       "      <td>-0.120000</td>\n",
       "      <td>-0.056667</td>\n",
       "      <td>43697.629770</td>\n",
       "      <td>NaN</td>\n",
       "      <td>NaN</td>\n",
       "      <td>NaN</td>\n",
       "      <td>NaN</td>\n",
       "      <td>NaN</td>\n",
       "      <td>NaN</td>\n",
       "      <td>NaN</td>\n",
       "      <td>NaN</td>\n",
       "      <td>NaN</td>\n",
       "      <td>NaN</td>\n",
       "      <td>NaN</td>\n",
       "      <td>NaN</td>\n",
       "      <td>NaN</td>\n",
       "      <td>NaN</td>\n",
       "      <td>NaN</td>\n",
       "      <td>NaN</td>\n",
       "      <td>NaN</td>\n",
       "      <td>NaN</td>\n",
       "      <td>NaN</td>\n",
       "      <td>3.0</td>\n",
       "      <td>2.0</td>\n",
       "    </tr>\n",
       "    <tr>\n",
       "      <th>25%</th>\n",
       "      <td>22.000000</td>\n",
       "      <td>1.420388e+12</td>\n",
       "      <td>3.461590e+09</td>\n",
       "      <td>52.000000</td>\n",
       "      <td>0.346667</td>\n",
       "      <td>0.213333</td>\n",
       "      <td>43699.472810</td>\n",
       "      <td>NaN</td>\n",
       "      <td>NaN</td>\n",
       "      <td>NaN</td>\n",
       "      <td>NaN</td>\n",
       "      <td>NaN</td>\n",
       "      <td>NaN</td>\n",
       "      <td>NaN</td>\n",
       "      <td>NaN</td>\n",
       "      <td>NaN</td>\n",
       "      <td>NaN</td>\n",
       "      <td>NaN</td>\n",
       "      <td>NaN</td>\n",
       "      <td>NaN</td>\n",
       "      <td>NaN</td>\n",
       "      <td>NaN</td>\n",
       "      <td>NaN</td>\n",
       "      <td>NaN</td>\n",
       "      <td>NaN</td>\n",
       "      <td>NaN</td>\n",
       "      <td>3.0</td>\n",
       "      <td>2.0</td>\n",
       "    </tr>\n",
       "    <tr>\n",
       "      <th>50%</th>\n",
       "      <td>24.000000</td>\n",
       "      <td>1.610194e+12</td>\n",
       "      <td>9.231490e+11</td>\n",
       "      <td>67.000000</td>\n",
       "      <td>0.446667</td>\n",
       "      <td>0.303333</td>\n",
       "      <td>43702.376460</td>\n",
       "      <td>NaN</td>\n",
       "      <td>NaN</td>\n",
       "      <td>NaN</td>\n",
       "      <td>NaN</td>\n",
       "      <td>NaN</td>\n",
       "      <td>NaN</td>\n",
       "      <td>NaN</td>\n",
       "      <td>NaN</td>\n",
       "      <td>NaN</td>\n",
       "      <td>NaN</td>\n",
       "      <td>NaN</td>\n",
       "      <td>NaN</td>\n",
       "      <td>NaN</td>\n",
       "      <td>NaN</td>\n",
       "      <td>NaN</td>\n",
       "      <td>NaN</td>\n",
       "      <td>NaN</td>\n",
       "      <td>NaN</td>\n",
       "      <td>NaN</td>\n",
       "      <td>3.0</td>\n",
       "      <td>2.0</td>\n",
       "    </tr>\n",
       "    <tr>\n",
       "      <th>75%</th>\n",
       "      <td>26.000000</td>\n",
       "      <td>1.730140e+12</td>\n",
       "      <td>9.233620e+11</td>\n",
       "      <td>81.000000</td>\n",
       "      <td>0.540000</td>\n",
       "      <td>0.448333</td>\n",
       "      <td>43711.092250</td>\n",
       "      <td>NaN</td>\n",
       "      <td>NaN</td>\n",
       "      <td>NaN</td>\n",
       "      <td>NaN</td>\n",
       "      <td>NaN</td>\n",
       "      <td>NaN</td>\n",
       "      <td>NaN</td>\n",
       "      <td>NaN</td>\n",
       "      <td>NaN</td>\n",
       "      <td>NaN</td>\n",
       "      <td>NaN</td>\n",
       "      <td>NaN</td>\n",
       "      <td>NaN</td>\n",
       "      <td>NaN</td>\n",
       "      <td>NaN</td>\n",
       "      <td>NaN</td>\n",
       "      <td>NaN</td>\n",
       "      <td>NaN</td>\n",
       "      <td>NaN</td>\n",
       "      <td>3.0</td>\n",
       "      <td>2.0</td>\n",
       "    </tr>\n",
       "    <tr>\n",
       "      <th>max</th>\n",
       "      <td>49.000000</td>\n",
       "      <td>1.730185e+17</td>\n",
       "      <td>9.233519e+12</td>\n",
       "      <td>152.000000</td>\n",
       "      <td>1.013333</td>\n",
       "      <td>0.940000</td>\n",
       "      <td>43731.626220</td>\n",
       "      <td>NaN</td>\n",
       "      <td>NaN</td>\n",
       "      <td>NaN</td>\n",
       "      <td>NaN</td>\n",
       "      <td>NaN</td>\n",
       "      <td>NaN</td>\n",
       "      <td>NaN</td>\n",
       "      <td>NaN</td>\n",
       "      <td>NaN</td>\n",
       "      <td>NaN</td>\n",
       "      <td>NaN</td>\n",
       "      <td>NaN</td>\n",
       "      <td>NaN</td>\n",
       "      <td>NaN</td>\n",
       "      <td>NaN</td>\n",
       "      <td>NaN</td>\n",
       "      <td>NaN</td>\n",
       "      <td>NaN</td>\n",
       "      <td>NaN</td>\n",
       "      <td>3.0</td>\n",
       "      <td>2.0</td>\n",
       "    </tr>\n",
       "  </tbody>\n",
       "</table>\n",
       "</div>"
      ],
      "text/plain": [
       "               Age          CNIC  Phone number        Score  \\\n",
       "count  5018.000000  5.018000e+03  5.017000e+03  5018.000000   \n",
       "mean     24.484456  9.711921e+13  6.978951e+11    66.778996   \n",
       "std       3.639618  3.925323e+15  7.114647e+11    23.700804   \n",
       "min      17.000000  0.000000e+00  0.000000e+00   -18.000000   \n",
       "25%      22.000000  1.420388e+12  3.461590e+09    52.000000   \n",
       "50%      24.000000  1.610194e+12  9.231490e+11    67.000000   \n",
       "75%      26.000000  1.730140e+12  9.233620e+11    81.000000   \n",
       "max      49.000000  1.730185e+17  9.233519e+12   152.000000   \n",
       "\n",
       "       Initial Screening Percentage  Agreegate Percentage  Submitted At  \\\n",
       "count                   5018.000000           5015.000000   5017.000000   \n",
       "mean                       0.445193              0.340216  43706.233994   \n",
       "std                        0.158005              0.172577      8.627912   \n",
       "min                       -0.120000             -0.056667  43697.629770   \n",
       "25%                        0.346667              0.213333  43699.472810   \n",
       "50%                        0.446667              0.303333  43702.376460   \n",
       "75%                        0.540000              0.448333  43711.092250   \n",
       "max                        1.013333              0.940000  43731.626220   \n",
       "\n",
       "       Allocated District  Internal Assessments  Certifications  \\\n",
       "count                 0.0                   0.0             0.0   \n",
       "mean                  NaN                   NaN             NaN   \n",
       "std                   NaN                   NaN             NaN   \n",
       "min                   NaN                   NaN             NaN   \n",
       "25%                   NaN                   NaN             NaN   \n",
       "50%                   NaN                   NaN             NaN   \n",
       "75%                   NaN                   NaN             NaN   \n",
       "max                   NaN                   NaN             NaN   \n",
       "\n",
       "       Job Placement  Comments  Unnamed: 28  Unnamed: 29  Unnamed: 30  \\\n",
       "count            0.0       0.0          0.0          0.0          0.0   \n",
       "mean             NaN       NaN          NaN          NaN          NaN   \n",
       "std              NaN       NaN          NaN          NaN          NaN   \n",
       "min              NaN       NaN          NaN          NaN          NaN   \n",
       "25%              NaN       NaN          NaN          NaN          NaN   \n",
       "50%              NaN       NaN          NaN          NaN          NaN   \n",
       "75%              NaN       NaN          NaN          NaN          NaN   \n",
       "max              NaN       NaN          NaN          NaN          NaN   \n",
       "\n",
       "       Unnamed: 31  Unnamed: 32  Unnamed: 33  Unnamed: 34  Unnamed: 35  \\\n",
       "count          0.0          0.0          0.0          0.0          0.0   \n",
       "mean           NaN          NaN          NaN          NaN          NaN   \n",
       "std            NaN          NaN          NaN          NaN          NaN   \n",
       "min            NaN          NaN          NaN          NaN          NaN   \n",
       "25%            NaN          NaN          NaN          NaN          NaN   \n",
       "50%            NaN          NaN          NaN          NaN          NaN   \n",
       "75%            NaN          NaN          NaN          NaN          NaN   \n",
       "max            NaN          NaN          NaN          NaN          NaN   \n",
       "\n",
       "       Unnamed: 36  Unnamed: 37  Unnamed: 38  Unnamed: 39  Unnamed: 40  \\\n",
       "count          0.0          0.0          0.0          0.0          0.0   \n",
       "mean           NaN          NaN          NaN          NaN          NaN   \n",
       "std            NaN          NaN          NaN          NaN          NaN   \n",
       "min            NaN          NaN          NaN          NaN          NaN   \n",
       "25%            NaN          NaN          NaN          NaN          NaN   \n",
       "50%            NaN          NaN          NaN          NaN          NaN   \n",
       "75%            NaN          NaN          NaN          NaN          NaN   \n",
       "max            NaN          NaN          NaN          NaN          NaN   \n",
       "\n",
       "       Unnamed: 41  Unnamed: 42  Unnamed: 43  \n",
       "count          0.0         30.0         10.0  \n",
       "mean           NaN          3.0          2.0  \n",
       "std            NaN          0.0          0.0  \n",
       "min            NaN          3.0          2.0  \n",
       "25%            NaN          3.0          2.0  \n",
       "50%            NaN          3.0          2.0  \n",
       "75%            NaN          3.0          2.0  \n",
       "max            NaN          3.0          2.0  "
      ]
     },
     "execution_count": 9,
     "metadata": {},
     "output_type": "execute_result"
    }
   ],
   "source": [
    "df1.describe()"
   ]
  },
  {
   "cell_type": "code",
   "execution_count": 10,
   "metadata": {},
   "outputs": [
    {
     "data": {
      "text/html": [
       "<div>\n",
       "<style scoped>\n",
       "    .dataframe tbody tr th:only-of-type {\n",
       "        vertical-align: middle;\n",
       "    }\n",
       "\n",
       "    .dataframe tbody tr th {\n",
       "        vertical-align: top;\n",
       "    }\n",
       "\n",
       "    .dataframe thead th {\n",
       "        text-align: right;\n",
       "    }\n",
       "</style>\n",
       "<table border=\"1\" class=\"dataframe\">\n",
       "  <thead>\n",
       "    <tr style=\"text-align: right;\">\n",
       "      <th></th>\n",
       "      <th>Unnamed: 0</th>\n",
       "      <th>First Name</th>\n",
       "      <th>Last Name</th>\n",
       "      <th>Gender</th>\n",
       "      <th>Applied Course</th>\n",
       "      <th>Domicile</th>\n",
       "      <th>Email</th>\n",
       "      <th>What best describes your access to a computer?</th>\n",
       "      <th>Academic Concentration</th>\n",
       "      <th>CGPA/Final Average GPA</th>\n",
       "      <th>Highest level of Education</th>\n",
       "      <th>Training district</th>\n",
       "      <th>Points Scored Screning Test</th>\n",
       "      <th>Screening Test Percentage</th>\n",
       "      <th>Status</th>\n",
       "      <th>Batch</th>\n",
       "    </tr>\n",
       "  </thead>\n",
       "  <tbody>\n",
       "    <tr>\n",
       "      <th>count</th>\n",
       "      <td>5018</td>\n",
       "      <td>5018</td>\n",
       "      <td>5016</td>\n",
       "      <td>5018</td>\n",
       "      <td>5018</td>\n",
       "      <td>5018</td>\n",
       "      <td>5018</td>\n",
       "      <td>5016</td>\n",
       "      <td>5016</td>\n",
       "      <td>5016</td>\n",
       "      <td>3506</td>\n",
       "      <td>5016</td>\n",
       "      <td>2762</td>\n",
       "      <td>2763</td>\n",
       "      <td>4791</td>\n",
       "      <td>206</td>\n",
       "    </tr>\n",
       "    <tr>\n",
       "      <th>unique</th>\n",
       "      <td>5018</td>\n",
       "      <td>2384</td>\n",
       "      <td>1351</td>\n",
       "      <td>2</td>\n",
       "      <td>3</td>\n",
       "      <td>34</td>\n",
       "      <td>5017</td>\n",
       "      <td>4</td>\n",
       "      <td>3</td>\n",
       "      <td>3</td>\n",
       "      <td>2</td>\n",
       "      <td>42</td>\n",
       "      <td>54</td>\n",
       "      <td>78</td>\n",
       "      <td>11</td>\n",
       "      <td>4</td>\n",
       "    </tr>\n",
       "    <tr>\n",
       "      <th>top</th>\n",
       "      <td>xboz0r88mk38qgff1yn5xboz0r85q0gj</td>\n",
       "      <td>Muhammad</td>\n",
       "      <td>Khan</td>\n",
       "      <td>Male</td>\n",
       "      <td>Azure MCSD</td>\n",
       "      <td>Peshawar</td>\n",
       "      <td>aqibasmat1@gmail.com</td>\n",
       "      <td>Having own laptop</td>\n",
       "      <td>Computer Science/IT</td>\n",
       "      <td>Above 3.0</td>\n",
       "      <td>Bachelor / Other</td>\n",
       "      <td>Peshawar</td>\n",
       "      <td>14</td>\n",
       "      <td>33%</td>\n",
       "      <td>3-Appears in Technical Test</td>\n",
       "      <td>ADS-AZ-C1-B1</td>\n",
       "    </tr>\n",
       "    <tr>\n",
       "      <th>freq</th>\n",
       "      <td>1</td>\n",
       "      <td>369</td>\n",
       "      <td>629</td>\n",
       "      <td>4636</td>\n",
       "      <td>1797</td>\n",
       "      <td>964</td>\n",
       "      <td>2</td>\n",
       "      <td>4505</td>\n",
       "      <td>3067</td>\n",
       "      <td>2487</td>\n",
       "      <td>2262</td>\n",
       "      <td>2626</td>\n",
       "      <td>105</td>\n",
       "      <td>128</td>\n",
       "      <td>1687</td>\n",
       "      <td>98</td>\n",
       "    </tr>\n",
       "  </tbody>\n",
       "</table>\n",
       "</div>"
      ],
      "text/plain": [
       "                              Unnamed: 0 First Name Last Name Gender  \\\n",
       "count                               5018       5018      5016   5018   \n",
       "unique                              5018       2384      1351      2   \n",
       "top     xboz0r88mk38qgff1yn5xboz0r85q0gj   Muhammad      Khan   Male   \n",
       "freq                                   1        369       629   4636   \n",
       "\n",
       "       Applied Course  Domicile                 Email  \\\n",
       "count            5018      5018                  5018   \n",
       "unique              3        34                  5017   \n",
       "top        Azure MCSD  Peshawar  aqibasmat1@gmail.com   \n",
       "freq             1797       964                     2   \n",
       "\n",
       "       What best describes your access to a computer? Academic Concentration  \\\n",
       "count                                            5016                   5016   \n",
       "unique                                              4                      3   \n",
       "top                                 Having own laptop    Computer Science/IT   \n",
       "freq                                             4505                   3067   \n",
       "\n",
       "       CGPA/Final Average GPA Highest level of Education Training district  \\\n",
       "count                    5016                       3506              5016   \n",
       "unique                      3                          2                42   \n",
       "top                 Above 3.0           Bachelor / Other          Peshawar   \n",
       "freq                     2487                       2262              2626   \n",
       "\n",
       "       Points Scored Screning Test Screening Test Percentage  \\\n",
       "count                         2762                      2763   \n",
       "unique                          54                        78   \n",
       "top                             14                       33%   \n",
       "freq                           105                       128   \n",
       "\n",
       "                             Status         Batch  \n",
       "count                          4791           206  \n",
       "unique                           11             4  \n",
       "top     3-Appears in Technical Test  ADS-AZ-C1-B1  \n",
       "freq                           1687            98  "
      ]
     },
     "execution_count": 10,
     "metadata": {},
     "output_type": "execute_result"
    }
   ],
   "source": [
    "df1.describe(include='O')"
   ]
  },
  {
   "cell_type": "code",
   "execution_count": 11,
   "metadata": {},
   "outputs": [
    {
     "data": {
      "text/plain": [
       "Index(['Unnamed: 0', 'First Name', 'Last Name', 'Gender', 'Age', 'CNIC',\n",
       "       'Applied Course', 'Domicile', 'Email', 'Phone number',\n",
       "       'What best describes your access to a computer?',\n",
       "       'Academic Concentration', 'CGPA/Final Average GPA',\n",
       "       'Highest level of Education', 'Training district', 'Score',\n",
       "       'Initial Screening Percentage', 'Points Scored Screning Test',\n",
       "       'Screening Test Percentage', 'Agreegate Percentage', 'Submitted At',\n",
       "       'Allocated District', 'Status', 'Batch', 'Internal Assessments',\n",
       "       'Certifications', 'Job Placement', 'Comments', 'Unnamed: 28',\n",
       "       'Unnamed: 29', 'Unnamed: 30', 'Unnamed: 31', 'Unnamed: 32',\n",
       "       'Unnamed: 33', 'Unnamed: 34', 'Unnamed: 35', 'Unnamed: 36',\n",
       "       'Unnamed: 37', 'Unnamed: 38', 'Unnamed: 39', 'Unnamed: 40',\n",
       "       'Unnamed: 41', 'Unnamed: 42', 'Unnamed: 43'],\n",
       "      dtype='object')"
      ]
     },
     "execution_count": 11,
     "metadata": {},
     "output_type": "execute_result"
    }
   ],
   "source": [
    "df1.columns"
   ]
  },
  {
   "cell_type": "code",
   "execution_count": 12,
   "metadata": {},
   "outputs": [
    {
     "data": {
      "text/plain": [
       "Unnamed: 0                                         object\n",
       "First Name                                         object\n",
       "Last Name                                          object\n",
       "Gender                                             object\n",
       "Age                                                 int64\n",
       "CNIC                                                int64\n",
       "Applied Course                                     object\n",
       "Domicile                                           object\n",
       "Email                                              object\n",
       "Phone number                                      float64\n",
       "What best describes your access to a computer?     object\n",
       "Academic Concentration                             object\n",
       "CGPA/Final Average GPA                             object\n",
       "Highest level of Education                         object\n",
       "Training district                                  object\n",
       "Score                                               int64\n",
       "Initial Screening Percentage                      float64\n",
       "Points Scored Screning Test                        object\n",
       "Screening Test Percentage                          object\n",
       "Agreegate Percentage                              float64\n",
       "Submitted At                                      float64\n",
       "Allocated District                                float64\n",
       "Status                                             object\n",
       "Batch                                              object\n",
       "Internal Assessments                              float64\n",
       "Certifications                                    float64\n",
       "Job Placement                                     float64\n",
       "Comments                                          float64\n",
       "Unnamed: 28                                       float64\n",
       "Unnamed: 29                                       float64\n",
       "Unnamed: 30                                       float64\n",
       "Unnamed: 31                                       float64\n",
       "Unnamed: 32                                       float64\n",
       "Unnamed: 33                                       float64\n",
       "Unnamed: 34                                       float64\n",
       "Unnamed: 35                                       float64\n",
       "Unnamed: 36                                       float64\n",
       "Unnamed: 37                                       float64\n",
       "Unnamed: 38                                       float64\n",
       "Unnamed: 39                                       float64\n",
       "Unnamed: 40                                       float64\n",
       "Unnamed: 41                                       float64\n",
       "Unnamed: 42                                       float64\n",
       "Unnamed: 43                                       float64\n",
       "dtype: object"
      ]
     },
     "execution_count": 12,
     "metadata": {},
     "output_type": "execute_result"
    }
   ],
   "source": [
    "df1.dtypes"
   ]
  },
  {
   "cell_type": "code",
   "execution_count": 13,
   "metadata": {},
   "outputs": [
    {
     "data": {
      "text/html": [
       "<div>\n",
       "<style scoped>\n",
       "    .dataframe tbody tr th:only-of-type {\n",
       "        vertical-align: middle;\n",
       "    }\n",
       "\n",
       "    .dataframe tbody tr th {\n",
       "        vertical-align: top;\n",
       "    }\n",
       "\n",
       "    .dataframe thead th {\n",
       "        text-align: right;\n",
       "    }\n",
       "</style>\n",
       "<table border=\"1\" class=\"dataframe\">\n",
       "  <thead>\n",
       "    <tr style=\"text-align: right;\">\n",
       "      <th></th>\n",
       "      <th>First Name</th>\n",
       "      <th>Last Name</th>\n",
       "      <th>Gender</th>\n",
       "      <th>Age</th>\n",
       "      <th>CNIC</th>\n",
       "      <th>Applied Course</th>\n",
       "      <th>Domicile</th>\n",
       "      <th>Email</th>\n",
       "      <th>Phone number</th>\n",
       "      <th>What best describes your access to a computer?</th>\n",
       "      <th>Academic Concentration</th>\n",
       "      <th>CGPA/Final Average GPA</th>\n",
       "      <th>Highest level of Education</th>\n",
       "      <th>Training district</th>\n",
       "      <th>Score</th>\n",
       "      <th>Initial Screening Percentage</th>\n",
       "      <th>Points Scored Screning Test</th>\n",
       "      <th>Screening Test Percentage</th>\n",
       "      <th>Agreegate Percentage</th>\n",
       "      <th>Submitted At</th>\n",
       "      <th>Allocated District</th>\n",
       "      <th>Status</th>\n",
       "      <th>Batch</th>\n",
       "      <th>Internal Assessments</th>\n",
       "      <th>Certifications</th>\n",
       "      <th>Job Placement</th>\n",
       "      <th>Comments</th>\n",
       "      <th>Unnamed: 28</th>\n",
       "      <th>Unnamed: 29</th>\n",
       "      <th>Unnamed: 30</th>\n",
       "      <th>Unnamed: 31</th>\n",
       "      <th>Unnamed: 32</th>\n",
       "      <th>Unnamed: 33</th>\n",
       "      <th>Unnamed: 34</th>\n",
       "      <th>Unnamed: 35</th>\n",
       "      <th>Unnamed: 36</th>\n",
       "      <th>Unnamed: 37</th>\n",
       "      <th>Unnamed: 38</th>\n",
       "      <th>Unnamed: 39</th>\n",
       "      <th>Unnamed: 40</th>\n",
       "      <th>Unnamed: 41</th>\n",
       "      <th>Unnamed: 42</th>\n",
       "      <th>Unnamed: 43</th>\n",
       "    </tr>\n",
       "  </thead>\n",
       "  <tbody>\n",
       "    <tr>\n",
       "      <th>0</th>\n",
       "      <td>Waseem</td>\n",
       "      <td>Akram</td>\n",
       "      <td>Male</td>\n",
       "      <td>29</td>\n",
       "      <td>1710303501939</td>\n",
       "      <td>AWS</td>\n",
       "      <td>Charsadda</td>\n",
       "      <td>Waseemhse999@gmail.com</td>\n",
       "      <td>0.0</td>\n",
       "      <td>Having own laptop</td>\n",
       "      <td>Engineering</td>\n",
       "      <td>Below 2.5</td>\n",
       "      <td>Bachelor / Other</td>\n",
       "      <td>Peshawar</td>\n",
       "      <td>43</td>\n",
       "      <td>0.286667</td>\n",
       "      <td>6</td>\n",
       "      <td>15%</td>\n",
       "      <td>0.218333</td>\n",
       "      <td>43700.18598</td>\n",
       "      <td>NaN</td>\n",
       "      <td>13-Not Shortlisted</td>\n",
       "      <td>NaN</td>\n",
       "      <td>NaN</td>\n",
       "      <td>NaN</td>\n",
       "      <td>NaN</td>\n",
       "      <td>NaN</td>\n",
       "      <td>NaN</td>\n",
       "      <td>NaN</td>\n",
       "      <td>NaN</td>\n",
       "      <td>NaN</td>\n",
       "      <td>NaN</td>\n",
       "      <td>NaN</td>\n",
       "      <td>NaN</td>\n",
       "      <td>NaN</td>\n",
       "      <td>NaN</td>\n",
       "      <td>NaN</td>\n",
       "      <td>NaN</td>\n",
       "      <td>NaN</td>\n",
       "      <td>NaN</td>\n",
       "      <td>NaN</td>\n",
       "      <td>NaN</td>\n",
       "      <td>NaN</td>\n",
       "    </tr>\n",
       "    <tr>\n",
       "      <th>1</th>\n",
       "      <td>Asifa khan</td>\n",
       "      <td>Asifa</td>\n",
       "      <td>Female</td>\n",
       "      <td>23</td>\n",
       "      <td>135031253685</td>\n",
       "      <td>Azure MCSD</td>\n",
       "      <td>Abbottabad</td>\n",
       "      <td>Asifakhan392@gmail.com</td>\n",
       "      <td>351370.0</td>\n",
       "      <td>Having own laptop</td>\n",
       "      <td>Other</td>\n",
       "      <td>Between 2.5 and 3.0</td>\n",
       "      <td>Master</td>\n",
       "      <td>Abbottabad</td>\n",
       "      <td>41</td>\n",
       "      <td>0.273333</td>\n",
       "      <td>NaN</td>\n",
       "      <td>NaN</td>\n",
       "      <td>0.136667</td>\n",
       "      <td>43705.70079</td>\n",
       "      <td>NaN</td>\n",
       "      <td>13-Not Shortlisted</td>\n",
       "      <td>NaN</td>\n",
       "      <td>NaN</td>\n",
       "      <td>NaN</td>\n",
       "      <td>NaN</td>\n",
       "      <td>NaN</td>\n",
       "      <td>NaN</td>\n",
       "      <td>NaN</td>\n",
       "      <td>NaN</td>\n",
       "      <td>NaN</td>\n",
       "      <td>NaN</td>\n",
       "      <td>NaN</td>\n",
       "      <td>NaN</td>\n",
       "      <td>NaN</td>\n",
       "      <td>NaN</td>\n",
       "      <td>NaN</td>\n",
       "      <td>NaN</td>\n",
       "      <td>NaN</td>\n",
       "      <td>NaN</td>\n",
       "      <td>NaN</td>\n",
       "      <td>NaN</td>\n",
       "      <td>NaN</td>\n",
       "    </tr>\n",
       "    <tr>\n",
       "      <th>2</th>\n",
       "      <td>nadia</td>\n",
       "      <td>khattak</td>\n",
       "      <td>Female</td>\n",
       "      <td>23</td>\n",
       "      <td>1730183562728</td>\n",
       "      <td>Azure MCSD</td>\n",
       "      <td>Peshawar</td>\n",
       "      <td>naskkhattak@gmail.com</td>\n",
       "      <td>312917897.0</td>\n",
       "      <td>Having own laptop</td>\n",
       "      <td>Computer Science/IT</td>\n",
       "      <td>Above 3.0</td>\n",
       "      <td>Bachelor / Other</td>\n",
       "      <td>Peshawar</td>\n",
       "      <td>99</td>\n",
       "      <td>0.660000</td>\n",
       "      <td>20</td>\n",
       "      <td>50%</td>\n",
       "      <td>0.580000</td>\n",
       "      <td>43711.56671</td>\n",
       "      <td>NaN</td>\n",
       "      <td>3-Appears in Technical Test</td>\n",
       "      <td>ADS-AZ-C1-B1</td>\n",
       "      <td>NaN</td>\n",
       "      <td>NaN</td>\n",
       "      <td>NaN</td>\n",
       "      <td>NaN</td>\n",
       "      <td>NaN</td>\n",
       "      <td>NaN</td>\n",
       "      <td>NaN</td>\n",
       "      <td>NaN</td>\n",
       "      <td>NaN</td>\n",
       "      <td>NaN</td>\n",
       "      <td>NaN</td>\n",
       "      <td>NaN</td>\n",
       "      <td>NaN</td>\n",
       "      <td>NaN</td>\n",
       "      <td>NaN</td>\n",
       "      <td>NaN</td>\n",
       "      <td>NaN</td>\n",
       "      <td>NaN</td>\n",
       "      <td>NaN</td>\n",
       "      <td>NaN</td>\n",
       "    </tr>\n",
       "    <tr>\n",
       "      <th>3</th>\n",
       "      <td>Muhammad</td>\n",
       "      <td>Ayaz</td>\n",
       "      <td>Male</td>\n",
       "      <td>21</td>\n",
       "      <td>2160254263717</td>\n",
       "      <td>Azure MCSD</td>\n",
       "      <td>Orakzai</td>\n",
       "      <td>Ayazmuhammad653@gmail.com</td>\n",
       "      <td>312969693.0</td>\n",
       "      <td>No regular access to computer</td>\n",
       "      <td>Other</td>\n",
       "      <td>Below 2.5</td>\n",
       "      <td>Bachelor / Other</td>\n",
       "      <td>Peshawar</td>\n",
       "      <td>-17</td>\n",
       "      <td>-0.113333</td>\n",
       "      <td>NaN</td>\n",
       "      <td>NaN</td>\n",
       "      <td>-0.056667</td>\n",
       "      <td>43703.28394</td>\n",
       "      <td>NaN</td>\n",
       "      <td>13-Not Shortlisted</td>\n",
       "      <td>NaN</td>\n",
       "      <td>NaN</td>\n",
       "      <td>NaN</td>\n",
       "      <td>NaN</td>\n",
       "      <td>NaN</td>\n",
       "      <td>NaN</td>\n",
       "      <td>NaN</td>\n",
       "      <td>NaN</td>\n",
       "      <td>NaN</td>\n",
       "      <td>NaN</td>\n",
       "      <td>NaN</td>\n",
       "      <td>NaN</td>\n",
       "      <td>NaN</td>\n",
       "      <td>NaN</td>\n",
       "      <td>NaN</td>\n",
       "      <td>NaN</td>\n",
       "      <td>NaN</td>\n",
       "      <td>NaN</td>\n",
       "      <td>NaN</td>\n",
       "      <td>NaN</td>\n",
       "      <td>NaN</td>\n",
       "    </tr>\n",
       "    <tr>\n",
       "      <th>4</th>\n",
       "      <td>Muhammad waqas khan</td>\n",
       "      <td>Khan</td>\n",
       "      <td>Male</td>\n",
       "      <td>26</td>\n",
       "      <td>1110111156401</td>\n",
       "      <td>Azure MCSD</td>\n",
       "      <td>Bannu</td>\n",
       "      <td>Wk506751@gamil.com</td>\n",
       "      <td>332332368.0</td>\n",
       "      <td>use computer at school/ university</td>\n",
       "      <td>Computer Science/IT</td>\n",
       "      <td>Below 2.5</td>\n",
       "      <td>Master</td>\n",
       "      <td>Peshawar</td>\n",
       "      <td>29</td>\n",
       "      <td>0.193333</td>\n",
       "      <td>NaN</td>\n",
       "      <td>NaN</td>\n",
       "      <td>0.096667</td>\n",
       "      <td>43698.75301</td>\n",
       "      <td>NaN</td>\n",
       "      <td>13-Not Shortlisted</td>\n",
       "      <td>NaN</td>\n",
       "      <td>NaN</td>\n",
       "      <td>NaN</td>\n",
       "      <td>NaN</td>\n",
       "      <td>NaN</td>\n",
       "      <td>NaN</td>\n",
       "      <td>NaN</td>\n",
       "      <td>NaN</td>\n",
       "      <td>NaN</td>\n",
       "      <td>NaN</td>\n",
       "      <td>NaN</td>\n",
       "      <td>NaN</td>\n",
       "      <td>NaN</td>\n",
       "      <td>NaN</td>\n",
       "      <td>NaN</td>\n",
       "      <td>NaN</td>\n",
       "      <td>NaN</td>\n",
       "      <td>NaN</td>\n",
       "      <td>NaN</td>\n",
       "      <td>NaN</td>\n",
       "      <td>NaN</td>\n",
       "    </tr>\n",
       "  </tbody>\n",
       "</table>\n",
       "</div>"
      ],
      "text/plain": [
       "             First Name Last Name  Gender  Age           CNIC Applied Course  \\\n",
       "0                Waseem     Akram    Male   29  1710303501939            AWS   \n",
       "1            Asifa khan     Asifa  Female   23   135031253685     Azure MCSD   \n",
       "2                 nadia   khattak  Female   23  1730183562728     Azure MCSD   \n",
       "3             Muhammad      Ayaz     Male   21  2160254263717     Azure MCSD   \n",
       "4  Muhammad waqas khan      Khan     Male   26  1110111156401     Azure MCSD   \n",
       "\n",
       "     Domicile                      Email  Phone number  \\\n",
       "0   Charsadda     Waseemhse999@gmail.com           0.0   \n",
       "1  Abbottabad     Asifakhan392@gmail.com      351370.0   \n",
       "2    Peshawar      naskkhattak@gmail.com   312917897.0   \n",
       "3     Orakzai  Ayazmuhammad653@gmail.com   312969693.0   \n",
       "4       Bannu         Wk506751@gamil.com   332332368.0   \n",
       "\n",
       "  What best describes your access to a computer? Academic Concentration  \\\n",
       "0                              Having own laptop            Engineering   \n",
       "1                              Having own laptop                  Other   \n",
       "2                              Having own laptop    Computer Science/IT   \n",
       "3                  No regular access to computer                  Other   \n",
       "4             use computer at school/ university    Computer Science/IT   \n",
       "\n",
       "  CGPA/Final Average GPA Highest level of Education Training district  Score  \\\n",
       "0              Below 2.5           Bachelor / Other          Peshawar     43   \n",
       "1    Between 2.5 and 3.0                     Master        Abbottabad     41   \n",
       "2              Above 3.0           Bachelor / Other          Peshawar     99   \n",
       "3              Below 2.5           Bachelor / Other          Peshawar    -17   \n",
       "4              Below 2.5                     Master          Peshawar     29   \n",
       "\n",
       "   Initial Screening Percentage Points Scored Screning Test  \\\n",
       "0                      0.286667                           6   \n",
       "1                      0.273333                         NaN   \n",
       "2                      0.660000                          20   \n",
       "3                     -0.113333                         NaN   \n",
       "4                      0.193333                         NaN   \n",
       "\n",
       "  Screening Test Percentage  Agreegate Percentage  Submitted At  \\\n",
       "0                       15%              0.218333   43700.18598   \n",
       "1                       NaN              0.136667   43705.70079   \n",
       "2                       50%              0.580000   43711.56671   \n",
       "3                       NaN             -0.056667   43703.28394   \n",
       "4                       NaN              0.096667   43698.75301   \n",
       "\n",
       "   Allocated District                       Status         Batch  \\\n",
       "0                 NaN           13-Not Shortlisted           NaN   \n",
       "1                 NaN           13-Not Shortlisted           NaN   \n",
       "2                 NaN  3-Appears in Technical Test  ADS-AZ-C1-B1   \n",
       "3                 NaN           13-Not Shortlisted           NaN   \n",
       "4                 NaN           13-Not Shortlisted           NaN   \n",
       "\n",
       "   Internal Assessments  Certifications  Job Placement  Comments  Unnamed: 28  \\\n",
       "0                   NaN             NaN            NaN       NaN          NaN   \n",
       "1                   NaN             NaN            NaN       NaN          NaN   \n",
       "2                   NaN             NaN            NaN       NaN          NaN   \n",
       "3                   NaN             NaN            NaN       NaN          NaN   \n",
       "4                   NaN             NaN            NaN       NaN          NaN   \n",
       "\n",
       "   Unnamed: 29  Unnamed: 30  Unnamed: 31  Unnamed: 32  Unnamed: 33  \\\n",
       "0          NaN          NaN          NaN          NaN          NaN   \n",
       "1          NaN          NaN          NaN          NaN          NaN   \n",
       "2          NaN          NaN          NaN          NaN          NaN   \n",
       "3          NaN          NaN          NaN          NaN          NaN   \n",
       "4          NaN          NaN          NaN          NaN          NaN   \n",
       "\n",
       "   Unnamed: 34  Unnamed: 35  Unnamed: 36  Unnamed: 37  Unnamed: 38  \\\n",
       "0          NaN          NaN          NaN          NaN          NaN   \n",
       "1          NaN          NaN          NaN          NaN          NaN   \n",
       "2          NaN          NaN          NaN          NaN          NaN   \n",
       "3          NaN          NaN          NaN          NaN          NaN   \n",
       "4          NaN          NaN          NaN          NaN          NaN   \n",
       "\n",
       "   Unnamed: 39  Unnamed: 40  Unnamed: 41  Unnamed: 42  Unnamed: 43  \n",
       "0          NaN          NaN          NaN          NaN          NaN  \n",
       "1          NaN          NaN          NaN          NaN          NaN  \n",
       "2          NaN          NaN          NaN          NaN          NaN  \n",
       "3          NaN          NaN          NaN          NaN          NaN  \n",
       "4          NaN          NaN          NaN          NaN          NaN  "
      ]
     },
     "execution_count": 13,
     "metadata": {},
     "output_type": "execute_result"
    }
   ],
   "source": [
    "df1.drop('Unnamed: 0',axis=1,inplace=True)\n",
    "df1.head()"
   ]
  },
  {
   "cell_type": "code",
   "execution_count": 14,
   "metadata": {},
   "outputs": [],
   "source": [
    "df1.drop(['Unnamed: 29', 'Unnamed: 30', 'Unnamed: 31', 'Unnamed: 32',\n",
    "       'Unnamed: 33', 'Unnamed: 34', 'Unnamed: 35', 'Unnamed: 36',\n",
    "       'Unnamed: 37', 'Unnamed: 38', 'Unnamed: 39', 'Unnamed: 40',\n",
    "       'Unnamed: 41', 'Unnamed: 42', 'Unnamed: 43','Internal Assessments',\n",
    "       'Certifications', 'Job Placement', 'Comments','Phone number','CNIC','Email','Allocated District'],axis=1,inplace=True)"
   ]
  },
  {
   "cell_type": "code",
   "execution_count": 15,
   "metadata": {},
   "outputs": [
    {
     "data": {
      "text/plain": [
       "Index(['First Name', 'Last Name', 'Gender', 'Age', 'Applied Course',\n",
       "       'Domicile', 'What best describes your access to a computer?',\n",
       "       'Academic Concentration', 'CGPA/Final Average GPA',\n",
       "       'Highest level of Education', 'Training district', 'Score',\n",
       "       'Initial Screening Percentage', 'Points Scored Screning Test',\n",
       "       'Screening Test Percentage', 'Agreegate Percentage', 'Submitted At',\n",
       "       'Status', 'Batch', 'Unnamed: 28'],\n",
       "      dtype='object')"
      ]
     },
     "execution_count": 15,
     "metadata": {},
     "output_type": "execute_result"
    }
   ],
   "source": [
    "df1.columns"
   ]
  },
  {
   "cell_type": "code",
   "execution_count": 16,
   "metadata": {},
   "outputs": [],
   "source": [
    "df1['name']=df1[\"First Name\"].str.cat(df1[\"Last Name\"],sep=\" \")\n",
    "#df1=df1['First Name'].str.cat(df1['Last Name'],sep=\" \") gives no error but it converts df to an object dtype"
   ]
  },
  {
   "cell_type": "code",
   "execution_count": 17,
   "metadata": {},
   "outputs": [
    {
     "data": {
      "text/plain": [
       "0                  Waseem Akram\n",
       "1              Asifa khan Asifa\n",
       "2                 nadia khattak\n",
       "3               Muhammad  Ayaz \n",
       "4    Muhammad waqas khan  Khan \n",
       "Name: name, dtype: object"
      ]
     },
     "execution_count": 17,
     "metadata": {},
     "output_type": "execute_result"
    }
   ],
   "source": [
    "df1['name'].head()"
   ]
  },
  {
   "cell_type": "code",
   "execution_count": 18,
   "metadata": {},
   "outputs": [
    {
     "data": {
      "text/html": [
       "<div>\n",
       "<style scoped>\n",
       "    .dataframe tbody tr th:only-of-type {\n",
       "        vertical-align: middle;\n",
       "    }\n",
       "\n",
       "    .dataframe tbody tr th {\n",
       "        vertical-align: top;\n",
       "    }\n",
       "\n",
       "    .dataframe thead th {\n",
       "        text-align: right;\n",
       "    }\n",
       "</style>\n",
       "<table border=\"1\" class=\"dataframe\">\n",
       "  <thead>\n",
       "    <tr style=\"text-align: right;\">\n",
       "      <th></th>\n",
       "      <th>Age</th>\n",
       "      <th>Score</th>\n",
       "      <th>Initial Screening Percentage</th>\n",
       "      <th>Agreegate Percentage</th>\n",
       "      <th>Submitted At</th>\n",
       "      <th>Unnamed: 28</th>\n",
       "    </tr>\n",
       "  </thead>\n",
       "  <tbody>\n",
       "    <tr>\n",
       "      <th>count</th>\n",
       "      <td>5018.000000</td>\n",
       "      <td>5018.000000</td>\n",
       "      <td>5018.000000</td>\n",
       "      <td>5015.000000</td>\n",
       "      <td>5017.000000</td>\n",
       "      <td>0.0</td>\n",
       "    </tr>\n",
       "    <tr>\n",
       "      <th>mean</th>\n",
       "      <td>24.484456</td>\n",
       "      <td>66.778996</td>\n",
       "      <td>0.445193</td>\n",
       "      <td>0.340216</td>\n",
       "      <td>43706.233994</td>\n",
       "      <td>NaN</td>\n",
       "    </tr>\n",
       "    <tr>\n",
       "      <th>std</th>\n",
       "      <td>3.639618</td>\n",
       "      <td>23.700804</td>\n",
       "      <td>0.158005</td>\n",
       "      <td>0.172577</td>\n",
       "      <td>8.627912</td>\n",
       "      <td>NaN</td>\n",
       "    </tr>\n",
       "    <tr>\n",
       "      <th>min</th>\n",
       "      <td>17.000000</td>\n",
       "      <td>-18.000000</td>\n",
       "      <td>-0.120000</td>\n",
       "      <td>-0.056667</td>\n",
       "      <td>43697.629770</td>\n",
       "      <td>NaN</td>\n",
       "    </tr>\n",
       "    <tr>\n",
       "      <th>25%</th>\n",
       "      <td>22.000000</td>\n",
       "      <td>52.000000</td>\n",
       "      <td>0.346667</td>\n",
       "      <td>0.213333</td>\n",
       "      <td>43699.472810</td>\n",
       "      <td>NaN</td>\n",
       "    </tr>\n",
       "    <tr>\n",
       "      <th>50%</th>\n",
       "      <td>24.000000</td>\n",
       "      <td>67.000000</td>\n",
       "      <td>0.446667</td>\n",
       "      <td>0.303333</td>\n",
       "      <td>43702.376460</td>\n",
       "      <td>NaN</td>\n",
       "    </tr>\n",
       "    <tr>\n",
       "      <th>75%</th>\n",
       "      <td>26.000000</td>\n",
       "      <td>81.000000</td>\n",
       "      <td>0.540000</td>\n",
       "      <td>0.448333</td>\n",
       "      <td>43711.092250</td>\n",
       "      <td>NaN</td>\n",
       "    </tr>\n",
       "    <tr>\n",
       "      <th>max</th>\n",
       "      <td>49.000000</td>\n",
       "      <td>152.000000</td>\n",
       "      <td>1.013333</td>\n",
       "      <td>0.940000</td>\n",
       "      <td>43731.626220</td>\n",
       "      <td>NaN</td>\n",
       "    </tr>\n",
       "  </tbody>\n",
       "</table>\n",
       "</div>"
      ],
      "text/plain": [
       "               Age        Score  Initial Screening Percentage  \\\n",
       "count  5018.000000  5018.000000                   5018.000000   \n",
       "mean     24.484456    66.778996                      0.445193   \n",
       "std       3.639618    23.700804                      0.158005   \n",
       "min      17.000000   -18.000000                     -0.120000   \n",
       "25%      22.000000    52.000000                      0.346667   \n",
       "50%      24.000000    67.000000                      0.446667   \n",
       "75%      26.000000    81.000000                      0.540000   \n",
       "max      49.000000   152.000000                      1.013333   \n",
       "\n",
       "       Agreegate Percentage  Submitted At  Unnamed: 28  \n",
       "count           5015.000000   5017.000000          0.0  \n",
       "mean               0.340216  43706.233994          NaN  \n",
       "std                0.172577      8.627912          NaN  \n",
       "min               -0.056667  43697.629770          NaN  \n",
       "25%                0.213333  43699.472810          NaN  \n",
       "50%                0.303333  43702.376460          NaN  \n",
       "75%                0.448333  43711.092250          NaN  \n",
       "max                0.940000  43731.626220          NaN  "
      ]
     },
     "execution_count": 18,
     "metadata": {},
     "output_type": "execute_result"
    }
   ],
   "source": [
    "df1.describe()"
   ]
  },
  {
   "cell_type": "code",
   "execution_count": 19,
   "metadata": {},
   "outputs": [
    {
     "data": {
      "text/plain": [
       "(5018, 21)"
      ]
     },
     "execution_count": 19,
     "metadata": {},
     "output_type": "execute_result"
    }
   ],
   "source": [
    "df1.shape"
   ]
  },
  {
   "cell_type": "code",
   "execution_count": 20,
   "metadata": {},
   "outputs": [],
   "source": [
    "df1.fillna(0, inplace=True)"
   ]
  },
  {
   "cell_type": "code",
   "execution_count": 21,
   "metadata": {},
   "outputs": [
    {
     "data": {
      "text/plain": [
       "First Name                                        0\n",
       "Last Name                                         0\n",
       "Gender                                            0\n",
       "Age                                               0\n",
       "Applied Course                                    0\n",
       "Domicile                                          0\n",
       "What best describes your access to a computer?    0\n",
       "Academic Concentration                            0\n",
       "CGPA/Final Average GPA                            0\n",
       "Highest level of Education                        0\n",
       "Training district                                 0\n",
       "Score                                             0\n",
       "Initial Screening Percentage                      0\n",
       "Points Scored Screning Test                       0\n",
       "Screening Test Percentage                         0\n",
       "Agreegate Percentage                              0\n",
       "Submitted At                                      0\n",
       "Status                                            0\n",
       "Batch                                             0\n",
       "Unnamed: 28                                       0\n",
       "name                                              0\n",
       "dtype: int64"
      ]
     },
     "execution_count": 21,
     "metadata": {},
     "output_type": "execute_result"
    }
   ],
   "source": [
    "df1.isnull().sum()"
   ]
  },
  {
   "cell_type": "code",
   "execution_count": 22,
   "metadata": {},
   "outputs": [
    {
     "data": {
      "text/plain": [
       "0                4812\n",
       "ADS-AZ-C1-B1       98\n",
       "ADS-AWS-C1-B1      56\n",
       "ADS-BD-C1-B1       50\n",
       "Not Allocated       2\n",
       "Name: Batch, dtype: int64"
      ]
     },
     "execution_count": 22,
     "metadata": {},
     "output_type": "execute_result"
    }
   ],
   "source": [
    "df1['Batch'].value_counts()"
   ]
  },
  {
   "cell_type": "code",
   "execution_count": 23,
   "metadata": {},
   "outputs": [
    {
     "data": {
      "text/plain": [
       "Male      4636\n",
       "Female     382\n",
       "Name: Gender, dtype: int64"
      ]
     },
     "execution_count": 23,
     "metadata": {},
     "output_type": "execute_result"
    }
   ],
   "source": [
    "df1['Gender'].value_counts()"
   ]
  },
  {
   "cell_type": "code",
   "execution_count": 24,
   "metadata": {},
   "outputs": [
    {
     "data": {
      "text/plain": [
       "Peshawar                        2626\n",
       "Mardan                           640\n",
       "Abbottabad                       512\n",
       "Swat                             273\n",
       "Haripur                          253\n",
       "Malakand                         189\n",
       "D.I.Khan                         178\n",
       "Kohat                            142\n",
       "Bannu                            134\n",
       "Swabi                             17\n",
       "Nowshera                           5\n",
       "Mansehra                           4\n",
       "swabi                              4\n",
       "Upper Dir                          3\n",
       "Chitral                            3\n",
       "Swabi                              2\n",
       "Hangu                              2\n",
       "Nowshera                           2\n",
       "0                                  2\n",
       "Dera Ismail Khan                   2\n",
       "Dir lower                          2\n",
       "Buner                              2\n",
       "NOWSHERA                           1\n",
       "Peshawar                           1\n",
       "Upper Kohistan                     1\n",
       "LOWER  Dir (Timergare)             1\n",
       "Lower Dir                          1\n",
       "Upper dir                          1\n",
       "Mansehra (Hazara Universiy)        1\n",
       "Lakki Marwat                       1\n",
       "Lower dir                          1\n",
       "Chitral                            1\n",
       "Upper Dir or Lower Dir             1\n",
       "Buner                              1\n",
       "Charsadda                          1\n",
       "Lower dir                          1\n",
       "Tank                               1\n",
       "Bajaur                             1\n",
       "Khyber                             1\n",
       "Dir                                1\n",
       "chitral                            1\n",
       "lower dir timergara                1\n",
       "South Waziristan                   1\n",
       "Name: Training district, dtype: int64"
      ]
     },
     "execution_count": 24,
     "metadata": {},
     "output_type": "execute_result"
    }
   ],
   "source": [
    "df1['Training district'].value_counts()"
   ]
  },
  {
   "cell_type": "code",
   "execution_count": 25,
   "metadata": {},
   "outputs": [
    {
     "name": "stderr",
     "output_type": "stream",
     "text": [
      "C:\\Anaconda3\\lib\\site-packages\\seaborn\\_decorators.py:36: FutureWarning: Pass the following variable as a keyword arg: x. From version 0.12, the only valid positional argument will be `data`, and passing other arguments without an explicit keyword will result in an error or misinterpretation.\n",
      "  warnings.warn(\n"
     ]
    },
    {
     "data": {
      "text/plain": [
       "<AxesSubplot:xlabel='Training district', ylabel='count'>"
      ]
     },
     "execution_count": 25,
     "metadata": {},
     "output_type": "execute_result"
    },
    {
     "data": {
      "image/png": "[encoded data removed]",
      "text/plain": [
       "<Figure size 432x288 with 1 Axes>"
      ]
     },
     "metadata": {
      "needs_background": "light"
     },
     "output_type": "display_data"
    }
   ],
   "source": [
    "sns.countplot(df1['Training district'].str[0:2])"
   ]
  },
  {
   "cell_type": "code",
   "execution_count": 26,
   "metadata": {},
   "outputs": [],
   "source": [
    "'''Swabi        17\n",
    "Nowshera         5'''\n",
    "df1.loc[(~df1['Training district'].isin(['Peshawar','Mardan','Abbottabad','Swat','Haripur','Malakand','D.I.Khan','Kohat','Bannu'])),'Training district'] = 'others'"
   ]
  },
  {
   "cell_type": "code",
   "execution_count": 27,
   "metadata": {},
   "outputs": [
    {
     "data": {
      "text/plain": [
       "Peshawar      2626\n",
       "Mardan         640\n",
       "Abbottabad     512\n",
       "Swat           273\n",
       "Haripur        253\n",
       "Malakand       189\n",
       "D.I.Khan       178\n",
       "Kohat          142\n",
       "Bannu          134\n",
       "others          71\n",
       "Name: Training district, dtype: int64"
      ]
     },
     "execution_count": 27,
     "metadata": {},
     "output_type": "execute_result"
    }
   ],
   "source": [
    "df1['Training district'].value_counts()"
   ]
  },
  {
   "cell_type": "code",
   "execution_count": 28,
   "metadata": {},
   "outputs": [
    {
     "data": {
      "text/html": [
       "<div>\n",
       "<style scoped>\n",
       "    .dataframe tbody tr th:only-of-type {\n",
       "        vertical-align: middle;\n",
       "    }\n",
       "\n",
       "    .dataframe tbody tr th {\n",
       "        vertical-align: top;\n",
       "    }\n",
       "\n",
       "    .dataframe thead th {\n",
       "        text-align: right;\n",
       "    }\n",
       "</style>\n",
       "<table border=\"1\" class=\"dataframe\">\n",
       "  <thead>\n",
       "    <tr style=\"text-align: right;\">\n",
       "      <th></th>\n",
       "      <th>Age</th>\n",
       "      <th>Score</th>\n",
       "      <th>Initial Screening Percentage</th>\n",
       "      <th>Agreegate Percentage</th>\n",
       "      <th>Submitted At</th>\n",
       "      <th>Unnamed: 28</th>\n",
       "    </tr>\n",
       "  </thead>\n",
       "  <tbody>\n",
       "    <tr>\n",
       "      <th>Age</th>\n",
       "      <td>1.000000</td>\n",
       "      <td>0.029806</td>\n",
       "      <td>0.029806</td>\n",
       "      <td>0.063096</td>\n",
       "      <td>0.000519</td>\n",
       "      <td>NaN</td>\n",
       "    </tr>\n",
       "    <tr>\n",
       "      <th>Score</th>\n",
       "      <td>0.029806</td>\n",
       "      <td>1.000000</td>\n",
       "      <td>1.000000</td>\n",
       "      <td>0.684142</td>\n",
       "      <td>0.002523</td>\n",
       "      <td>NaN</td>\n",
       "    </tr>\n",
       "    <tr>\n",
       "      <th>Initial Screening Percentage</th>\n",
       "      <td>0.029806</td>\n",
       "      <td>1.000000</td>\n",
       "      <td>1.000000</td>\n",
       "      <td>0.684142</td>\n",
       "      <td>0.002523</td>\n",
       "      <td>NaN</td>\n",
       "    </tr>\n",
       "    <tr>\n",
       "      <th>Agreegate Percentage</th>\n",
       "      <td>0.063096</td>\n",
       "      <td>0.684142</td>\n",
       "      <td>0.684142</td>\n",
       "      <td>1.000000</td>\n",
       "      <td>0.011564</td>\n",
       "      <td>NaN</td>\n",
       "    </tr>\n",
       "    <tr>\n",
       "      <th>Submitted At</th>\n",
       "      <td>0.000519</td>\n",
       "      <td>0.002523</td>\n",
       "      <td>0.002523</td>\n",
       "      <td>0.011564</td>\n",
       "      <td>1.000000</td>\n",
       "      <td>NaN</td>\n",
       "    </tr>\n",
       "    <tr>\n",
       "      <th>Unnamed: 28</th>\n",
       "      <td>NaN</td>\n",
       "      <td>NaN</td>\n",
       "      <td>NaN</td>\n",
       "      <td>NaN</td>\n",
       "      <td>NaN</td>\n",
       "      <td>NaN</td>\n",
       "    </tr>\n",
       "  </tbody>\n",
       "</table>\n",
       "</div>"
      ],
      "text/plain": [
       "                                   Age     Score  \\\n",
       "Age                           1.000000  0.029806   \n",
       "Score                         0.029806  1.000000   \n",
       "Initial Screening Percentage  0.029806  1.000000   \n",
       "Agreegate Percentage          0.063096  0.684142   \n",
       "Submitted At                  0.000519  0.002523   \n",
       "Unnamed: 28                        NaN       NaN   \n",
       "\n",
       "                              Initial Screening Percentage  \\\n",
       "Age                                               0.029806   \n",
       "Score                                             1.000000   \n",
       "Initial Screening Percentage                      1.000000   \n",
       "Agreegate Percentage                              0.684142   \n",
       "Submitted At                                      0.002523   \n",
       "Unnamed: 28                                            NaN   \n",
       "\n",
       "                              Agreegate Percentage  Submitted At  Unnamed: 28  \n",
       "Age                                       0.063096      0.000519          NaN  \n",
       "Score                                     0.684142      0.002523          NaN  \n",
       "Initial Screening Percentage              0.684142      0.002523          NaN  \n",
       "Agreegate Percentage                      1.000000      0.011564          NaN  \n",
       "Submitted At                              0.011564      1.000000          NaN  \n",
       "Unnamed: 28                                    NaN           NaN          NaN  "
      ]
     },
     "execution_count": 28,
     "metadata": {},
     "output_type": "execute_result"
    }
   ],
   "source": [
    "df1.corr()"
   ]
  },
  {
   "cell_type": "code",
   "execution_count": 29,
   "metadata": {},
   "outputs": [
    {
     "data": {
      "text/plain": [
       "(5018, 21)"
      ]
     },
     "execution_count": 29,
     "metadata": {},
     "output_type": "execute_result"
    }
   ],
   "source": [
    "df1.shape"
   ]
  },
  {
   "cell_type": "code",
   "execution_count": 30,
   "metadata": {},
   "outputs": [
    {
     "name": "stderr",
     "output_type": "stream",
     "text": [
      "C:\\Anaconda3\\lib\\site-packages\\seaborn\\_decorators.py:36: FutureWarning: Pass the following variable as a keyword arg: x. From version 0.12, the only valid positional argument will be `data`, and passing other arguments without an explicit keyword will result in an error or misinterpretation.\n",
      "  warnings.warn(\n"
     ]
    },
    {
     "data": {
      "text/plain": [
       "<AxesSubplot:xlabel='Age', ylabel='count'>"
      ]
     },
     "execution_count": 30,
     "metadata": {},
     "output_type": "execute_result"
    },
    {
     "data": {
      "image/png": "[encoded data removed]",
      "text/plain": [
       "<Figure size 1152x432 with 1 Axes>"
      ]
     },
     "metadata": {
      "needs_background": "light"
     },
     "output_type": "display_data"
    }
   ],
   "source": [
    "plt.figure(figsize=(16,6))\n",
    "df1['Age'].value_counts()\n",
    "sns.countplot(df1['Age'])"
   ]
  },
  {
   "cell_type": "code",
   "execution_count": 31,
   "metadata": {},
   "outputs": [
    {
     "name": "stderr",
     "output_type": "stream",
     "text": [
      "C:\\Anaconda3\\lib\\site-packages\\seaborn\\_decorators.py:36: FutureWarning: Pass the following variable as a keyword arg: x. From version 0.12, the only valid positional argument will be `data`, and passing other arguments without an explicit keyword will result in an error or misinterpretation.\n",
      "  warnings.warn(\n"
     ]
    },
    {
     "data": {
      "text/plain": [
       "<AxesSubplot:xlabel='Domicile', ylabel='count'>"
      ]
     },
     "execution_count": 31,
     "metadata": {},
     "output_type": "execute_result"
    },
    {
     "data": {
      "image/png": "[encoded data removed]",
      "text/plain": [
       "<Figure size 1368x432 with 1 Axes>"
      ]
     },
     "metadata": {
      "needs_background": "light"
     },
     "output_type": "display_data"
    }
   ],
   "source": [
    "plt.figure(figsize=(19,6))\n",
    "df1['Domicile'].value_counts()\n",
    "sns.countplot(df1['Domicile'].str[0:2])"
   ]
  },
  {
   "cell_type": "code",
   "execution_count": 32,
   "metadata": {},
   "outputs": [
    {
     "data": {
      "text/plain": [
       "Peshawar     964\n",
       "Mardan       433\n",
       "Swat         299\n",
       "Swabi        270\n",
       "Charsadda    245\n",
       "Name: Domicile, dtype: int64"
      ]
     },
     "execution_count": 32,
     "metadata": {},
     "output_type": "execute_result"
    }
   ],
   "source": [
    "df1['Domicile'].value_counts().head()"
   ]
  },
  {
   "cell_type": "code",
   "execution_count": 33,
   "metadata": {},
   "outputs": [],
   "source": [
    "df1.loc[(~df1['Domicile'].isin(['Peshawar','Mardan','Swat','Swabi','Charsadda','Nowshera','Abbottabad','Haripur','Lower Dir','Mansehra','Khyber','Dera Ismail Khan','Kohat'])),'Domicile'] = 'others'"
   ]
  },
  {
   "cell_type": "code",
   "execution_count": 34,
   "metadata": {},
   "outputs": [
    {
     "data": {
      "text/plain": [
       "others              1210\n",
       "Peshawar             964\n",
       "Mardan               433\n",
       "Swat                 299\n",
       "Swabi                270\n",
       "Charsadda            245\n",
       "Nowshera             239\n",
       "Abbottabad           234\n",
       "Haripur              222\n",
       "Lower Dir            219\n",
       "Mansehra             199\n",
       "Khyber               196\n",
       "Dera Ismail Khan     146\n",
       "Kohat                142\n",
       "Name: Domicile, dtype: int64"
      ]
     },
     "execution_count": 34,
     "metadata": {},
     "output_type": "execute_result"
    }
   ],
   "source": [
    "df1['Domicile'].value_counts()"
   ]
  },
  {
   "cell_type": "code",
   "execution_count": 35,
   "metadata": {},
   "outputs": [
    {
     "name": "stderr",
     "output_type": "stream",
     "text": [
      "C:\\Anaconda3\\lib\\site-packages\\seaborn\\_decorators.py:36: FutureWarning: Pass the following variable as a keyword arg: x. From version 0.12, the only valid positional argument will be `data`, and passing other arguments without an explicit keyword will result in an error or misinterpretation.\n",
      "  warnings.warn(\n"
     ]
    },
    {
     "data": {
      "text/plain": [
       "<AxesSubplot:xlabel='Applied Course', ylabel='count'>"
      ]
     },
     "execution_count": 35,
     "metadata": {},
     "output_type": "execute_result"
    },
    {
     "data": {
      "image/png": "[encoded data removed]",
      "text/plain": [
       "<Figure size 432x288 with 1 Axes>"
      ]
     },
     "metadata": {
      "needs_background": "light"
     },
     "output_type": "display_data"
    }
   ],
   "source": [
    "df1['Applied Course'].value_counts()\n",
    "#df1['Applied Course'].unique\n",
    "sns.countplot(df1['Applied Course'].str[0:20])"
   ]
  },
  {
   "cell_type": "code",
   "execution_count": 36,
   "metadata": {},
   "outputs": [
    {
     "data": {
      "text/plain": [
       "Computer Science/IT    3067\n",
       "Engineering            1088\n",
       "Other                   861\n",
       "0                         2\n",
       "Name: Academic Concentration, dtype: int64"
      ]
     },
     "execution_count": 36,
     "metadata": {},
     "output_type": "execute_result"
    }
   ],
   "source": [
    "df1['Academic Concentration'].value_counts()"
   ]
  },
  {
   "cell_type": "code",
   "execution_count": 37,
   "metadata": {},
   "outputs": [
    {
     "data": {
      "text/html": [
       "<div>\n",
       "<style scoped>\n",
       "    .dataframe tbody tr th:only-of-type {\n",
       "        vertical-align: middle;\n",
       "    }\n",
       "\n",
       "    .dataframe tbody tr th {\n",
       "        vertical-align: top;\n",
       "    }\n",
       "\n",
       "    .dataframe thead th {\n",
       "        text-align: right;\n",
       "    }\n",
       "</style>\n",
       "<table border=\"1\" class=\"dataframe\">\n",
       "  <thead>\n",
       "    <tr style=\"text-align: right;\">\n",
       "      <th></th>\n",
       "      <th>First Name</th>\n",
       "      <th>Last Name</th>\n",
       "      <th>Gender</th>\n",
       "      <th>Age</th>\n",
       "      <th>Applied Course</th>\n",
       "      <th>Domicile</th>\n",
       "      <th>What best describes your access to a computer?</th>\n",
       "      <th>Academic Concentration</th>\n",
       "      <th>CGPA/Final Average GPA</th>\n",
       "      <th>Highest level of Education</th>\n",
       "      <th>Training district</th>\n",
       "      <th>Score</th>\n",
       "      <th>Initial Screening Percentage</th>\n",
       "      <th>Points Scored Screning Test</th>\n",
       "      <th>Screening Test Percentage</th>\n",
       "      <th>Agreegate Percentage</th>\n",
       "      <th>Submitted At</th>\n",
       "      <th>Status</th>\n",
       "      <th>Batch</th>\n",
       "      <th>Unnamed: 28</th>\n",
       "      <th>name</th>\n",
       "    </tr>\n",
       "  </thead>\n",
       "  <tbody>\n",
       "    <tr>\n",
       "      <th>1904</th>\n",
       "      <td>Mufakkir</td>\n",
       "      <td>Ali Shah</td>\n",
       "      <td>Male</td>\n",
       "      <td>18</td>\n",
       "      <td>Big Data</td>\n",
       "      <td>Mardan</td>\n",
       "      <td>0</td>\n",
       "      <td>0</td>\n",
       "      <td>0</td>\n",
       "      <td>0</td>\n",
       "      <td>others</td>\n",
       "      <td>0</td>\n",
       "      <td>0.0</td>\n",
       "      <td>0</td>\n",
       "      <td>0</td>\n",
       "      <td>0.000</td>\n",
       "      <td>43703.74171</td>\n",
       "      <td>13-Not Shortlisted</td>\n",
       "      <td>0</td>\n",
       "      <td>0.0</td>\n",
       "      <td>Mufakkir Ali Shah</td>\n",
       "    </tr>\n",
       "    <tr>\n",
       "      <th>5017</th>\n",
       "      <td>Muhammad</td>\n",
       "      <td>Bilal</td>\n",
       "      <td>Male</td>\n",
       "      <td>23</td>\n",
       "      <td>Azure MCSD</td>\n",
       "      <td>Swabi</td>\n",
       "      <td>0</td>\n",
       "      <td>0</td>\n",
       "      <td>0</td>\n",
       "      <td>0</td>\n",
       "      <td>others</td>\n",
       "      <td>0</td>\n",
       "      <td>0.0</td>\n",
       "      <td>10</td>\n",
       "      <td>25%</td>\n",
       "      <td>0.125</td>\n",
       "      <td>43698.62791</td>\n",
       "      <td>13-Not Shortlisted</td>\n",
       "      <td>0</td>\n",
       "      <td>0.0</td>\n",
       "      <td>Muhammad Bilal</td>\n",
       "    </tr>\n",
       "  </tbody>\n",
       "</table>\n",
       "</div>"
      ],
      "text/plain": [
       "     First Name Last Name Gender  Age Applied Course Domicile  \\\n",
       "1904   Mufakkir  Ali Shah   Male   18       Big Data   Mardan   \n",
       "5017   Muhammad     Bilal   Male   23     Azure MCSD    Swabi   \n",
       "\n",
       "     What best describes your access to a computer? Academic Concentration  \\\n",
       "1904                                              0                      0   \n",
       "5017                                              0                      0   \n",
       "\n",
       "     CGPA/Final Average GPA Highest level of Education Training district  \\\n",
       "1904                      0                          0            others   \n",
       "5017                      0                          0            others   \n",
       "\n",
       "      Score  Initial Screening Percentage Points Scored Screning Test  \\\n",
       "1904      0                           0.0                           0   \n",
       "5017      0                           0.0                          10   \n",
       "\n",
       "     Screening Test Percentage  Agreegate Percentage  Submitted At  \\\n",
       "1904                         0                 0.000   43703.74171   \n",
       "5017                       25%                 0.125   43698.62791   \n",
       "\n",
       "                  Status Batch  Unnamed: 28               name  \n",
       "1904  13-Not Shortlisted     0          0.0  Mufakkir Ali Shah  \n",
       "5017  13-Not Shortlisted     0          0.0     Muhammad Bilal  "
      ]
     },
     "execution_count": 37,
     "metadata": {},
     "output_type": "execute_result"
    }
   ],
   "source": [
    "df1[df1['Academic Concentration']==0].head()"
   ]
  },
  {
   "cell_type": "code",
   "execution_count": 38,
   "metadata": {},
   "outputs": [
    {
     "name": "stderr",
     "output_type": "stream",
     "text": [
      "C:\\Anaconda3\\lib\\site-packages\\seaborn\\_decorators.py:36: FutureWarning: Pass the following variable as a keyword arg: x. From version 0.12, the only valid positional argument will be `data`, and passing other arguments without an explicit keyword will result in an error or misinterpretation.\n",
      "  warnings.warn(\n"
     ]
    },
    {
     "data": {
      "text/plain": [
       "<AxesSubplot:xlabel='Academic Concentration', ylabel='count'>"
      ]
     },
     "execution_count": 38,
     "metadata": {},
     "output_type": "execute_result"
    },
    {
     "data": {
      "image/png": "[encoded data removed]",
      "text/plain": [
       "<Figure size 432x288 with 1 Axes>"
      ]
     },
     "metadata": {
      "needs_background": "light"
     },
     "output_type": "display_data"
    }
   ],
   "source": [
    "df1.loc[(df1['Academic Concentration']==0)&(df1['name']=='Mufakkir Ali Shah'),'Academic Concentration']='Other'\n",
    "df1.loc[(df1['Academic Concentration']==0)&(df1['name']=='Muhammad Bilal'),'Academic Concentration']='Other'\n",
    "sns.countplot(df1['Academic Concentration'].str[0:20])"
   ]
  },
  {
   "cell_type": "code",
   "execution_count": 39,
   "metadata": {},
   "outputs": [
    {
     "data": {
      "text/plain": [
       "Having own laptop                     4505\n",
       "No regular access to computer          172\n",
       "Shared computer                        170\n",
       "use computer at school/ university     169\n",
       "0                                        2\n",
       "Name: What best describes your access to a computer?, dtype: int64"
      ]
     },
     "execution_count": 39,
     "metadata": {},
     "output_type": "execute_result"
    }
   ],
   "source": [
    "df1['What best describes your access to a computer?'].value_counts()"
   ]
  },
  {
   "cell_type": "code",
   "execution_count": 40,
   "metadata": {},
   "outputs": [],
   "source": [
    "df1.loc[(df1['What best describes your access to a computer?']==0)&(df1['name']=='Mufakkir Ali Shah'),'What best describes your access to a computer?']='others'\n",
    "df1.loc[(df1['What best describes your access to a computer?']==0)&(df1['name']=='Muhammad Bilal'),'What best describes your access to a computer?']='others'"
   ]
  },
  {
   "cell_type": "code",
   "execution_count": 41,
   "metadata": {},
   "outputs": [
    {
     "data": {
      "text/plain": [
       "0    43\n",
       "1    41\n",
       "2    99\n",
       "3   -17\n",
       "4    29\n",
       "Name: Score, dtype: int64"
      ]
     },
     "execution_count": 41,
     "metadata": {},
     "output_type": "execute_result"
    }
   ],
   "source": [
    "df1['Score'].head()"
   ]
  },
  {
   "cell_type": "code",
   "execution_count": 42,
   "metadata": {},
   "outputs": [],
   "source": [
    "#plt.figure(figsize=(16,6)) #not giving a better insights\n",
    "#sns.countplot(df1['Score'])"
   ]
  },
  {
   "cell_type": "code",
   "execution_count": 43,
   "metadata": {},
   "outputs": [
    {
     "name": "stderr",
     "output_type": "stream",
     "text": [
      "C:\\Anaconda3\\lib\\site-packages\\seaborn\\distributions.py:2551: FutureWarning: `distplot` is a deprecated function and will be removed in a future version. Please adapt your code to use either `displot` (a figure-level function with similar flexibility) or `histplot` (an axes-level function for histograms).\n",
      "  warnings.warn(msg, FutureWarning)\n"
     ]
    },
    {
     "data": {
      "text/plain": [
       "<AxesSubplot:xlabel='Score', ylabel='Density'>"
      ]
     },
     "execution_count": 43,
     "metadata": {},
     "output_type": "execute_result"
    },
    {
     "data": {
      "image/png": "[encoded data removed]",
      "text/plain": [
       "<Figure size 1152x432 with 1 Axes>"
      ]
     },
     "metadata": {
      "needs_background": "light"
     },
     "output_type": "display_data"
    }
   ],
   "source": [
    "plt.figure(figsize=(16,6))\n",
    "sns.distplot(df1['Score'])"
   ]
  },
  {
   "cell_type": "code",
   "execution_count": 44,
   "metadata": {},
   "outputs": [
    {
     "name": "stderr",
     "output_type": "stream",
     "text": [
      "C:\\Anaconda3\\lib\\site-packages\\seaborn\\distributions.py:2551: FutureWarning: `distplot` is a deprecated function and will be removed in a future version. Please adapt your code to use either `displot` (a figure-level function with similar flexibility) or `histplot` (an axes-level function for histograms).\n",
      "  warnings.warn(msg, FutureWarning)\n"
     ]
    },
    {
     "data": {
      "text/plain": [
       "<AxesSubplot:xlabel='Score', ylabel='Density'>"
      ]
     },
     "execution_count": 44,
     "metadata": {},
     "output_type": "execute_result"
    },
    {
     "data": {
      "image/png": "[encoded data removed]",
      "text/plain": [
       "<Figure size 432x288 with 1 Axes>"
      ]
     },
     "metadata": {
      "needs_background": "light"
     },
     "output_type": "display_data"
    }
   ],
   "source": [
    "sns.distplot(df1['Score'].value_counts())"
   ]
  },
  {
   "cell_type": "code",
   "execution_count": 45,
   "metadata": {},
   "outputs": [
    {
     "name": "stderr",
     "output_type": "stream",
     "text": [
      "C:\\Anaconda3\\lib\\site-packages\\seaborn\\_decorators.py:36: FutureWarning: Pass the following variable as a keyword arg: x. From version 0.12, the only valid positional argument will be `data`, and passing other arguments without an explicit keyword will result in an error or misinterpretation.\n",
      "  warnings.warn(\n"
     ]
    },
    {
     "data": {
      "text/plain": [
       "<AxesSubplot:xlabel='Score', ylabel='count'>"
      ]
     },
     "execution_count": 45,
     "metadata": {},
     "output_type": "execute_result"
    },
    {
     "data": {
      "image/png": "[encoded data removed]",
      "text/plain": [
       "<Figure size 1152x432 with 1 Axes>"
      ]
     },
     "metadata": {
      "needs_background": "light"
     },
     "output_type": "display_data"
    }
   ],
   "source": [
    "plt.figure(figsize=(16,6))\n",
    "sns.countplot(df1['Score'].value_counts())"
   ]
  },
  {
   "cell_type": "code",
   "execution_count": 46,
   "metadata": {},
   "outputs": [],
   "source": [
    "#sns.countplot(df1['Score'])"
   ]
  },
  {
   "cell_type": "code",
   "execution_count": 47,
   "metadata": {},
   "outputs": [
    {
     "name": "stdout",
     "output_type": "stream",
     "text": [
      "0.486667    107\n",
      "0.446667    101\n",
      "0.480000    101\n",
      "0.400000    100\n",
      "0.420000     99\n",
      "Name: Initial Screening Percentage, dtype: int64\n"
     ]
    },
    {
     "name": "stderr",
     "output_type": "stream",
     "text": [
      "C:\\Anaconda3\\lib\\site-packages\\seaborn\\distributions.py:2551: FutureWarning: `distplot` is a deprecated function and will be removed in a future version. Please adapt your code to use either `displot` (a figure-level function with similar flexibility) or `histplot` (an axes-level function for histograms).\n",
      "  warnings.warn(msg, FutureWarning)\n"
     ]
    },
    {
     "data": {
      "text/plain": [
       "<AxesSubplot:xlabel='Initial Screening Percentage', ylabel='Density'>"
      ]
     },
     "execution_count": 47,
     "metadata": {},
     "output_type": "execute_result"
    },
    {
     "data": {
      "image/png": "[encoded data removed]",
      "text/plain": [
       "<Figure size 432x288 with 1 Axes>"
      ]
     },
     "metadata": {
      "needs_background": "light"
     },
     "output_type": "display_data"
    }
   ],
   "source": [
    "print(df1['Initial Screening Percentage'].value_counts().head())\n",
    "sns.distplot(df1['Initial Screening Percentage'])"
   ]
  },
  {
   "cell_type": "code",
   "execution_count": 48,
   "metadata": {},
   "outputs": [
    {
     "data": {
      "text/plain": [
       "0     2256\n",
       "14     105\n",
       "11      99\n",
       "16      96\n",
       "13      95\n",
       "Name: Points Scored Screning Test, dtype: int64"
      ]
     },
     "execution_count": 48,
     "metadata": {},
     "output_type": "execute_result"
    }
   ],
   "source": [
    "df1['Points Scored Screning Test'].value_counts().head()"
   ]
  },
  {
   "cell_type": "code",
   "execution_count": 49,
   "metadata": {},
   "outputs": [],
   "source": [
    "x=df1['Screening Test Percentage'].value_counts()"
   ]
  },
  {
   "cell_type": "code",
   "execution_count": 50,
   "metadata": {},
   "outputs": [
    {
     "name": "stderr",
     "output_type": "stream",
     "text": [
      "C:\\Anaconda3\\lib\\site-packages\\seaborn\\_decorators.py:36: FutureWarning: Pass the following variable as a keyword arg: x. From version 0.12, the only valid positional argument will be `data`, and passing other arguments without an explicit keyword will result in an error or misinterpretation.\n",
      "  warnings.warn(\n"
     ]
    },
    {
     "data": {
      "text/plain": [
       "<AxesSubplot:xlabel='Screening Test Percentage', ylabel='count'>"
      ]
     },
     "execution_count": 50,
     "metadata": {},
     "output_type": "execute_result"
    },
    {
     "data": {
      "image/png": "[encoded data removed]",
      "text/plain": [
       "<Figure size 1152x504 with 1 Axes>"
      ]
     },
     "metadata": {
      "needs_background": "light"
     },
     "output_type": "display_data"
    }
   ],
   "source": [
    "plt.figure(figsize=(16,7))\n",
    "sns.countplot(x)"
   ]
  },
  {
   "cell_type": "code",
   "execution_count": 51,
   "metadata": {},
   "outputs": [],
   "source": [
    "y=df1['Agreegate Percentage'].value_counts()"
   ]
  },
  {
   "cell_type": "code",
   "execution_count": 52,
   "metadata": {},
   "outputs": [
    {
     "name": "stderr",
     "output_type": "stream",
     "text": [
      "C:\\Anaconda3\\lib\\site-packages\\seaborn\\_decorators.py:36: FutureWarning: Pass the following variable as a keyword arg: x. From version 0.12, the only valid positional argument will be `data`, and passing other arguments without an explicit keyword will result in an error or misinterpretation.\n",
      "  warnings.warn(\n"
     ]
    },
    {
     "data": {
      "text/plain": [
       "<AxesSubplot:xlabel='Agreegate Percentage', ylabel='count'>"
      ]
     },
     "execution_count": 52,
     "metadata": {},
     "output_type": "execute_result"
    },
    {
     "data": {
      "image/png": "[encoded data removed]",
      "text/plain": [
       "<Figure size 1152x504 with 1 Axes>"
      ]
     },
     "metadata": {
      "needs_background": "light"
     },
     "output_type": "display_data"
    }
   ],
   "source": [
    "plt.figure(figsize=(16,7))\n",
    "sns.countplot(y)"
   ]
  },
  {
   "cell_type": "code",
   "execution_count": 53,
   "metadata": {},
   "outputs": [],
   "source": [
    "#df1['Submitted At'].value_counts()"
   ]
  },
  {
   "cell_type": "code",
   "execution_count": 54,
   "metadata": {},
   "outputs": [
    {
     "name": "stderr",
     "output_type": "stream",
     "text": [
      "C:\\Anaconda3\\lib\\site-packages\\seaborn\\_decorators.py:36: FutureWarning: Pass the following variable as a keyword arg: x. From version 0.12, the only valid positional argument will be `data`, and passing other arguments without an explicit keyword will result in an error or misinterpretation.\n",
      "  warnings.warn(\n"
     ]
    },
    {
     "data": {
      "text/plain": [
       "<AxesSubplot:xlabel='Submitted At', ylabel='count'>"
      ]
     },
     "execution_count": 54,
     "metadata": {},
     "output_type": "execute_result"
    },
    {
     "data": {
      "image/png": "[encoded data removed]",
      "text/plain": [
       "<Figure size 432x288 with 1 Axes>"
      ]
     },
     "metadata": {
      "needs_background": "light"
     },
     "output_type": "display_data"
    }
   ],
   "source": [
    "#sns.distplot(df1['Submitted At'])\n",
    "z=df1['Submitted At'].value_counts()\n",
    "sns.countplot(z)"
   ]
  },
  {
   "cell_type": "code",
   "execution_count": 55,
   "metadata": {},
   "outputs": [
    {
     "data": {
      "text/plain": [
       "43699.07944    2\n",
       "43699.29138    2\n",
       "43711.23145    2\n",
       "43726.67235    2\n",
       "43698.68731    2\n",
       "Name: Submitted At, dtype: int64"
      ]
     },
     "execution_count": 55,
     "metadata": {},
     "output_type": "execute_result"
    }
   ],
   "source": [
    "z.head()"
   ]
  },
  {
   "cell_type": "code",
   "execution_count": 56,
   "metadata": {},
   "outputs": [
    {
     "data": {
      "text/plain": [
       "'1970-1-1 12:8:18'"
      ]
     },
     "execution_count": 56,
     "metadata": {},
     "output_type": "execute_result"
    }
   ],
   "source": [
    "from time import gmtime\n",
    "a='{}-{}-{} {}:{}:{}'.format(*gmtime( 43698.627905))\n",
    "a"
   ]
  },
  {
   "cell_type": "code",
   "execution_count": 57,
   "metadata": {},
   "outputs": [
    {
     "data": {
      "text/html": [
       "<div>\n",
       "<style scoped>\n",
       "    .dataframe tbody tr th:only-of-type {\n",
       "        vertical-align: middle;\n",
       "    }\n",
       "\n",
       "    .dataframe tbody tr th {\n",
       "        vertical-align: top;\n",
       "    }\n",
       "\n",
       "    .dataframe thead th {\n",
       "        text-align: right;\n",
       "    }\n",
       "</style>\n",
       "<table border=\"1\" class=\"dataframe\">\n",
       "  <thead>\n",
       "    <tr style=\"text-align: right;\">\n",
       "      <th></th>\n",
       "      <th>First Name</th>\n",
       "      <th>Last Name</th>\n",
       "      <th>Gender</th>\n",
       "      <th>Age</th>\n",
       "      <th>Applied Course</th>\n",
       "      <th>Domicile</th>\n",
       "      <th>What best describes your access to a computer?</th>\n",
       "      <th>Academic Concentration</th>\n",
       "      <th>CGPA/Final Average GPA</th>\n",
       "      <th>Highest level of Education</th>\n",
       "      <th>Training district</th>\n",
       "      <th>Score</th>\n",
       "      <th>Initial Screening Percentage</th>\n",
       "      <th>Points Scored Screning Test</th>\n",
       "      <th>Screening Test Percentage</th>\n",
       "      <th>Agreegate Percentage</th>\n",
       "      <th>Submitted At</th>\n",
       "      <th>Status</th>\n",
       "      <th>Batch</th>\n",
       "      <th>Unnamed: 28</th>\n",
       "      <th>name</th>\n",
       "      <th>Time</th>\n",
       "    </tr>\n",
       "  </thead>\n",
       "  <tbody>\n",
       "    <tr>\n",
       "      <th>0</th>\n",
       "      <td>Waseem</td>\n",
       "      <td>Akram</td>\n",
       "      <td>Male</td>\n",
       "      <td>29</td>\n",
       "      <td>AWS</td>\n",
       "      <td>Charsadda</td>\n",
       "      <td>Having own laptop</td>\n",
       "      <td>Engineering</td>\n",
       "      <td>Below 2.5</td>\n",
       "      <td>Bachelor / Other</td>\n",
       "      <td>Peshawar</td>\n",
       "      <td>43</td>\n",
       "      <td>0.286667</td>\n",
       "      <td>6</td>\n",
       "      <td>15%</td>\n",
       "      <td>0.218333</td>\n",
       "      <td>43700.18598</td>\n",
       "      <td>13-Not Shortlisted</td>\n",
       "      <td>0</td>\n",
       "      <td>0.0</td>\n",
       "      <td>Waseem Akram</td>\n",
       "      <td>1970-1-1 12:8:20</td>\n",
       "    </tr>\n",
       "    <tr>\n",
       "      <th>1</th>\n",
       "      <td>Asifa khan</td>\n",
       "      <td>Asifa</td>\n",
       "      <td>Female</td>\n",
       "      <td>23</td>\n",
       "      <td>Azure MCSD</td>\n",
       "      <td>Abbottabad</td>\n",
       "      <td>Having own laptop</td>\n",
       "      <td>Other</td>\n",
       "      <td>Between 2.5 and 3.0</td>\n",
       "      <td>Master</td>\n",
       "      <td>Abbottabad</td>\n",
       "      <td>41</td>\n",
       "      <td>0.273333</td>\n",
       "      <td>0</td>\n",
       "      <td>0</td>\n",
       "      <td>0.136667</td>\n",
       "      <td>43705.70079</td>\n",
       "      <td>13-Not Shortlisted</td>\n",
       "      <td>0</td>\n",
       "      <td>0.0</td>\n",
       "      <td>Asifa khan Asifa</td>\n",
       "      <td>1970-1-1 12:8:25</td>\n",
       "    </tr>\n",
       "    <tr>\n",
       "      <th>2</th>\n",
       "      <td>nadia</td>\n",
       "      <td>khattak</td>\n",
       "      <td>Female</td>\n",
       "      <td>23</td>\n",
       "      <td>Azure MCSD</td>\n",
       "      <td>Peshawar</td>\n",
       "      <td>Having own laptop</td>\n",
       "      <td>Computer Science/IT</td>\n",
       "      <td>Above 3.0</td>\n",
       "      <td>Bachelor / Other</td>\n",
       "      <td>Peshawar</td>\n",
       "      <td>99</td>\n",
       "      <td>0.660000</td>\n",
       "      <td>20</td>\n",
       "      <td>50%</td>\n",
       "      <td>0.580000</td>\n",
       "      <td>43711.56671</td>\n",
       "      <td>3-Appears in Technical Test</td>\n",
       "      <td>ADS-AZ-C1-B1</td>\n",
       "      <td>0.0</td>\n",
       "      <td>nadia khattak</td>\n",
       "      <td>1970-1-1 12:8:31</td>\n",
       "    </tr>\n",
       "    <tr>\n",
       "      <th>3</th>\n",
       "      <td>Muhammad</td>\n",
       "      <td>Ayaz</td>\n",
       "      <td>Male</td>\n",
       "      <td>21</td>\n",
       "      <td>Azure MCSD</td>\n",
       "      <td>others</td>\n",
       "      <td>No regular access to computer</td>\n",
       "      <td>Other</td>\n",
       "      <td>Below 2.5</td>\n",
       "      <td>Bachelor / Other</td>\n",
       "      <td>Peshawar</td>\n",
       "      <td>-17</td>\n",
       "      <td>-0.113333</td>\n",
       "      <td>0</td>\n",
       "      <td>0</td>\n",
       "      <td>-0.056667</td>\n",
       "      <td>43703.28394</td>\n",
       "      <td>13-Not Shortlisted</td>\n",
       "      <td>0</td>\n",
       "      <td>0.0</td>\n",
       "      <td>Muhammad  Ayaz</td>\n",
       "      <td>1970-1-1 12:8:23</td>\n",
       "    </tr>\n",
       "    <tr>\n",
       "      <th>4</th>\n",
       "      <td>Muhammad waqas khan</td>\n",
       "      <td>Khan</td>\n",
       "      <td>Male</td>\n",
       "      <td>26</td>\n",
       "      <td>Azure MCSD</td>\n",
       "      <td>others</td>\n",
       "      <td>use computer at school/ university</td>\n",
       "      <td>Computer Science/IT</td>\n",
       "      <td>Below 2.5</td>\n",
       "      <td>Master</td>\n",
       "      <td>Peshawar</td>\n",
       "      <td>29</td>\n",
       "      <td>0.193333</td>\n",
       "      <td>0</td>\n",
       "      <td>0</td>\n",
       "      <td>0.096667</td>\n",
       "      <td>43698.75301</td>\n",
       "      <td>13-Not Shortlisted</td>\n",
       "      <td>0</td>\n",
       "      <td>0.0</td>\n",
       "      <td>Muhammad waqas khan  Khan</td>\n",
       "      <td>1970-1-1 12:8:18</td>\n",
       "    </tr>\n",
       "  </tbody>\n",
       "</table>\n",
       "</div>"
      ],
      "text/plain": [
       "             First Name Last Name  Gender  Age Applied Course    Domicile  \\\n",
       "0                Waseem     Akram    Male   29            AWS   Charsadda   \n",
       "1            Asifa khan     Asifa  Female   23     Azure MCSD  Abbottabad   \n",
       "2                 nadia   khattak  Female   23     Azure MCSD    Peshawar   \n",
       "3             Muhammad      Ayaz     Male   21     Azure MCSD      others   \n",
       "4  Muhammad waqas khan      Khan     Male   26     Azure MCSD      others   \n",
       "\n",
       "  What best describes your access to a computer? Academic Concentration  \\\n",
       "0                              Having own laptop            Engineering   \n",
       "1                              Having own laptop                  Other   \n",
       "2                              Having own laptop    Computer Science/IT   \n",
       "3                  No regular access to computer                  Other   \n",
       "4             use computer at school/ university    Computer Science/IT   \n",
       "\n",
       "  CGPA/Final Average GPA Highest level of Education Training district  Score  \\\n",
       "0              Below 2.5           Bachelor / Other          Peshawar     43   \n",
       "1    Between 2.5 and 3.0                     Master        Abbottabad     41   \n",
       "2              Above 3.0           Bachelor / Other          Peshawar     99   \n",
       "3              Below 2.5           Bachelor / Other          Peshawar    -17   \n",
       "4              Below 2.5                     Master          Peshawar     29   \n",
       "\n",
       "   Initial Screening Percentage Points Scored Screning Test  \\\n",
       "0                      0.286667                           6   \n",
       "1                      0.273333                           0   \n",
       "2                      0.660000                          20   \n",
       "3                     -0.113333                           0   \n",
       "4                      0.193333                           0   \n",
       "\n",
       "  Screening Test Percentage  Agreegate Percentage  Submitted At  \\\n",
       "0                       15%              0.218333   43700.18598   \n",
       "1                         0              0.136667   43705.70079   \n",
       "2                       50%              0.580000   43711.56671   \n",
       "3                         0             -0.056667   43703.28394   \n",
       "4                         0              0.096667   43698.75301   \n",
       "\n",
       "                        Status         Batch  Unnamed: 28  \\\n",
       "0           13-Not Shortlisted             0          0.0   \n",
       "1           13-Not Shortlisted             0          0.0   \n",
       "2  3-Appears in Technical Test  ADS-AZ-C1-B1          0.0   \n",
       "3           13-Not Shortlisted             0          0.0   \n",
       "4           13-Not Shortlisted             0          0.0   \n",
       "\n",
       "                         name              Time  \n",
       "0                Waseem Akram  1970-1-1 12:8:20  \n",
       "1            Asifa khan Asifa  1970-1-1 12:8:25  \n",
       "2               nadia khattak  1970-1-1 12:8:31  \n",
       "3             Muhammad  Ayaz   1970-1-1 12:8:23  \n",
       "4  Muhammad waqas khan  Khan   1970-1-1 12:8:18  "
      ]
     },
     "execution_count": 57,
     "metadata": {},
     "output_type": "execute_result"
    }
   ],
   "source": [
    "df1['Time'] = df1['Submitted At'].apply(lambda x:'{}-{}-{} {}:{}:{}'.format(*gmtime(x)))\n",
    "df1.head()"
   ]
  },
  {
   "cell_type": "code",
   "execution_count": 58,
   "metadata": {},
   "outputs": [
    {
     "data": {
      "text/plain": [
       "dtype('<M8[ns]')"
      ]
     },
     "execution_count": 58,
     "metadata": {},
     "output_type": "execute_result"
    }
   ],
   "source": [
    "df1['Time'] = pd.to_datetime(df1['Time'])\n",
    "df1['Time'].dtype\n",
    "\n",
    "#astype(np.float64,axis=1,inplace=True)"
   ]
  },
  {
   "cell_type": "code",
   "execution_count": 59,
   "metadata": {},
   "outputs": [
    {
     "data": {
      "text/html": [
       "<div>\n",
       "<style scoped>\n",
       "    .dataframe tbody tr th:only-of-type {\n",
       "        vertical-align: middle;\n",
       "    }\n",
       "\n",
       "    .dataframe tbody tr th {\n",
       "        vertical-align: top;\n",
       "    }\n",
       "\n",
       "    .dataframe thead th {\n",
       "        text-align: right;\n",
       "    }\n",
       "</style>\n",
       "<table border=\"1\" class=\"dataframe\">\n",
       "  <thead>\n",
       "    <tr style=\"text-align: right;\">\n",
       "      <th></th>\n",
       "      <th>Time</th>\n",
       "      <th>day</th>\n",
       "    </tr>\n",
       "  </thead>\n",
       "  <tbody>\n",
       "    <tr>\n",
       "      <th>0</th>\n",
       "      <td>1970-01-01 12:08:20</td>\n",
       "      <td>1</td>\n",
       "    </tr>\n",
       "    <tr>\n",
       "      <th>1</th>\n",
       "      <td>1970-01-01 12:08:25</td>\n",
       "      <td>1</td>\n",
       "    </tr>\n",
       "    <tr>\n",
       "      <th>2</th>\n",
       "      <td>1970-01-01 12:08:31</td>\n",
       "      <td>1</td>\n",
       "    </tr>\n",
       "    <tr>\n",
       "      <th>3</th>\n",
       "      <td>1970-01-01 12:08:23</td>\n",
       "      <td>1</td>\n",
       "    </tr>\n",
       "    <tr>\n",
       "      <th>4</th>\n",
       "      <td>1970-01-01 12:08:18</td>\n",
       "      <td>1</td>\n",
       "    </tr>\n",
       "  </tbody>\n",
       "</table>\n",
       "</div>"
      ],
      "text/plain": [
       "                 Time  day\n",
       "0 1970-01-01 12:08:20    1\n",
       "1 1970-01-01 12:08:25    1\n",
       "2 1970-01-01 12:08:31    1\n",
       "3 1970-01-01 12:08:23    1\n",
       "4 1970-01-01 12:08:18    1"
      ]
     },
     "execution_count": 59,
     "metadata": {},
     "output_type": "execute_result"
    }
   ],
   "source": [
    "df1['day'] = df1['Time'].dt.day\n",
    "df1[['Time','day']].head()"
   ]
  },
  {
   "cell_type": "code",
   "execution_count": 60,
   "metadata": {},
   "outputs": [
    {
     "data": {
      "text/html": [
       "<div>\n",
       "<style scoped>\n",
       "    .dataframe tbody tr th:only-of-type {\n",
       "        vertical-align: middle;\n",
       "    }\n",
       "\n",
       "    .dataframe tbody tr th {\n",
       "        vertical-align: top;\n",
       "    }\n",
       "\n",
       "    .dataframe thead th {\n",
       "        text-align: right;\n",
       "    }\n",
       "</style>\n",
       "<table border=\"1\" class=\"dataframe\">\n",
       "  <thead>\n",
       "    <tr style=\"text-align: right;\">\n",
       "      <th></th>\n",
       "      <th>Time</th>\n",
       "      <th>hour</th>\n",
       "    </tr>\n",
       "  </thead>\n",
       "  <tbody>\n",
       "    <tr>\n",
       "      <th>0</th>\n",
       "      <td>1970-01-01 12:08:20</td>\n",
       "      <td>12</td>\n",
       "    </tr>\n",
       "    <tr>\n",
       "      <th>1</th>\n",
       "      <td>1970-01-01 12:08:25</td>\n",
       "      <td>12</td>\n",
       "    </tr>\n",
       "    <tr>\n",
       "      <th>2</th>\n",
       "      <td>1970-01-01 12:08:31</td>\n",
       "      <td>12</td>\n",
       "    </tr>\n",
       "    <tr>\n",
       "      <th>3</th>\n",
       "      <td>1970-01-01 12:08:23</td>\n",
       "      <td>12</td>\n",
       "    </tr>\n",
       "    <tr>\n",
       "      <th>4</th>\n",
       "      <td>1970-01-01 12:08:18</td>\n",
       "      <td>12</td>\n",
       "    </tr>\n",
       "  </tbody>\n",
       "</table>\n",
       "</div>"
      ],
      "text/plain": [
       "                 Time  hour\n",
       "0 1970-01-01 12:08:20    12\n",
       "1 1970-01-01 12:08:25    12\n",
       "2 1970-01-01 12:08:31    12\n",
       "3 1970-01-01 12:08:23    12\n",
       "4 1970-01-01 12:08:18    12"
      ]
     },
     "execution_count": 60,
     "metadata": {},
     "output_type": "execute_result"
    }
   ],
   "source": [
    "df1['hour'] = df1['Time'].dt.hour\n",
    "df1[['Time','hour']].head()"
   ]
  },
  {
   "cell_type": "code",
   "execution_count": 61,
   "metadata": {},
   "outputs": [
    {
     "data": {
      "text/html": [
       "<div>\n",
       "<style scoped>\n",
       "    .dataframe tbody tr th:only-of-type {\n",
       "        vertical-align: middle;\n",
       "    }\n",
       "\n",
       "    .dataframe tbody tr th {\n",
       "        vertical-align: top;\n",
       "    }\n",
       "\n",
       "    .dataframe thead th {\n",
       "        text-align: right;\n",
       "    }\n",
       "</style>\n",
       "<table border=\"1\" class=\"dataframe\">\n",
       "  <thead>\n",
       "    <tr style=\"text-align: right;\">\n",
       "      <th></th>\n",
       "      <th>Time</th>\n",
       "      <th>min</th>\n",
       "    </tr>\n",
       "  </thead>\n",
       "  <tbody>\n",
       "    <tr>\n",
       "      <th>0</th>\n",
       "      <td>1970-01-01 12:08:20</td>\n",
       "      <td>8</td>\n",
       "    </tr>\n",
       "    <tr>\n",
       "      <th>1</th>\n",
       "      <td>1970-01-01 12:08:25</td>\n",
       "      <td>8</td>\n",
       "    </tr>\n",
       "    <tr>\n",
       "      <th>2</th>\n",
       "      <td>1970-01-01 12:08:31</td>\n",
       "      <td>8</td>\n",
       "    </tr>\n",
       "    <tr>\n",
       "      <th>3</th>\n",
       "      <td>1970-01-01 12:08:23</td>\n",
       "      <td>8</td>\n",
       "    </tr>\n",
       "    <tr>\n",
       "      <th>4</th>\n",
       "      <td>1970-01-01 12:08:18</td>\n",
       "      <td>8</td>\n",
       "    </tr>\n",
       "  </tbody>\n",
       "</table>\n",
       "</div>"
      ],
      "text/plain": [
       "                 Time  min\n",
       "0 1970-01-01 12:08:20    8\n",
       "1 1970-01-01 12:08:25    8\n",
       "2 1970-01-01 12:08:31    8\n",
       "3 1970-01-01 12:08:23    8\n",
       "4 1970-01-01 12:08:18    8"
      ]
     },
     "execution_count": 61,
     "metadata": {},
     "output_type": "execute_result"
    }
   ],
   "source": [
    "df1['min'] = df1['Time'].dt.minute\n",
    "df1[['Time','min']].head()"
   ]
  },
  {
   "cell_type": "code",
   "execution_count": 62,
   "metadata": {},
   "outputs": [
    {
     "data": {
      "text/html": [
       "<div>\n",
       "<style scoped>\n",
       "    .dataframe tbody tr th:only-of-type {\n",
       "        vertical-align: middle;\n",
       "    }\n",
       "\n",
       "    .dataframe tbody tr th {\n",
       "        vertical-align: top;\n",
       "    }\n",
       "\n",
       "    .dataframe thead th {\n",
       "        text-align: right;\n",
       "    }\n",
       "</style>\n",
       "<table border=\"1\" class=\"dataframe\">\n",
       "  <thead>\n",
       "    <tr style=\"text-align: right;\">\n",
       "      <th></th>\n",
       "      <th>Time</th>\n",
       "      <th>sec</th>\n",
       "    </tr>\n",
       "  </thead>\n",
       "  <tbody>\n",
       "    <tr>\n",
       "      <th>0</th>\n",
       "      <td>1970-01-01 12:08:20</td>\n",
       "      <td>20</td>\n",
       "    </tr>\n",
       "    <tr>\n",
       "      <th>1</th>\n",
       "      <td>1970-01-01 12:08:25</td>\n",
       "      <td>25</td>\n",
       "    </tr>\n",
       "    <tr>\n",
       "      <th>2</th>\n",
       "      <td>1970-01-01 12:08:31</td>\n",
       "      <td>31</td>\n",
       "    </tr>\n",
       "    <tr>\n",
       "      <th>3</th>\n",
       "      <td>1970-01-01 12:08:23</td>\n",
       "      <td>23</td>\n",
       "    </tr>\n",
       "    <tr>\n",
       "      <th>4</th>\n",
       "      <td>1970-01-01 12:08:18</td>\n",
       "      <td>18</td>\n",
       "    </tr>\n",
       "  </tbody>\n",
       "</table>\n",
       "</div>"
      ],
      "text/plain": [
       "                 Time  sec\n",
       "0 1970-01-01 12:08:20   20\n",
       "1 1970-01-01 12:08:25   25\n",
       "2 1970-01-01 12:08:31   31\n",
       "3 1970-01-01 12:08:23   23\n",
       "4 1970-01-01 12:08:18   18"
      ]
     },
     "execution_count": 62,
     "metadata": {},
     "output_type": "execute_result"
    }
   ],
   "source": [
    "df1['sec'] = df1['Time'].dt.second\n",
    "df1[['Time','sec']].head()"
   ]
  },
  {
   "cell_type": "code",
   "execution_count": 63,
   "metadata": {},
   "outputs": [
    {
     "name": "stdout",
     "output_type": "stream",
     "text": [
      "int64\n",
      "int64\n",
      "int64\n",
      "int64\n"
     ]
    }
   ],
   "source": [
    "print(df1['day'].dtype)\n",
    "print(df1['hour'].dtype)\n",
    "print(df1['min'].dtype)\n",
    "print(df1['sec'].dtype)"
   ]
  },
  {
   "cell_type": "code",
   "execution_count": 64,
   "metadata": {},
   "outputs": [
    {
     "data": {
      "text/plain": [
       "19    970\n",
       "18    672\n",
       "20    438\n",
       "21    351\n",
       "22    237\n",
       "Name: sec, dtype: int64"
      ]
     },
     "execution_count": 64,
     "metadata": {},
     "output_type": "execute_result"
    }
   ],
   "source": [
    "df1['sec'].value_counts().head()"
   ]
  },
  {
   "cell_type": "code",
   "execution_count": 65,
   "metadata": {},
   "outputs": [
    {
     "data": {
      "text/plain": [
       "array([43, 41, 99, ..., 77, 43,  0], dtype=int64)"
      ]
     },
     "execution_count": 65,
     "metadata": {},
     "output_type": "execute_result"
    }
   ],
   "source": [
    "# task to be done\n",
    "# make categories for score \n",
    "df1['Score'].values"
   ]
  },
  {
   "cell_type": "code",
   "execution_count": 66,
   "metadata": {},
   "outputs": [],
   "source": [
    "df1.drop('Score',axis=1,inplace=True)"
   ]
  },
  {
   "cell_type": "code",
   "execution_count": 67,
   "metadata": {},
   "outputs": [
    {
     "name": "stderr",
     "output_type": "stream",
     "text": [
      "C:\\Anaconda3\\lib\\site-packages\\seaborn\\_decorators.py:36: FutureWarning: Pass the following variable as a keyword arg: x. From version 0.12, the only valid positional argument will be `data`, and passing other arguments without an explicit keyword will result in an error or misinterpretation.\n",
      "  warnings.warn(\n"
     ]
    },
    {
     "data": {
      "text/plain": [
       "<AxesSubplot:xlabel='Academic Concentration', ylabel='count'>"
      ]
     },
     "execution_count": 67,
     "metadata": {},
     "output_type": "execute_result"
    },
    {
     "data": {
      "image/png": "[encoded data removed]",
      "text/plain": [
       "<Figure size 432x288 with 1 Axes>"
      ]
     },
     "metadata": {
      "needs_background": "light"
     },
     "output_type": "display_data"
    }
   ],
   "source": [
    "sns.countplot(df1['Academic Concentration'])"
   ]
  },
  {
   "cell_type": "code",
   "execution_count": 68,
   "metadata": {},
   "outputs": [
    {
     "data": {
      "text/plain": [
       "Computer Science/IT    3067\n",
       "Engineering            1088\n",
       "Other                   863\n",
       "Name: Academic Concentration, dtype: int64"
      ]
     },
     "execution_count": 68,
     "metadata": {},
     "output_type": "execute_result"
    }
   ],
   "source": [
    "df1['Academic Concentration'].value_counts()"
   ]
  },
  {
   "cell_type": "code",
   "execution_count": 69,
   "metadata": {},
   "outputs": [
    {
     "data": {
      "text/plain": [
       "Bachelor / Other    2262\n",
       "0                   1512\n",
       "Master              1244\n",
       "Name: Highest level of Education, dtype: int64"
      ]
     },
     "execution_count": 69,
     "metadata": {},
     "output_type": "execute_result"
    }
   ],
   "source": [
    "df1['Highest level of Education'].value_counts()"
   ]
  },
  {
   "cell_type": "code",
   "execution_count": 70,
   "metadata": {},
   "outputs": [
    {
     "data": {
      "text/plain": [
       "(5018, 25)"
      ]
     },
     "execution_count": 70,
     "metadata": {},
     "output_type": "execute_result"
    }
   ],
   "source": [
    "df1.shape"
   ]
  },
  {
   "cell_type": "code",
   "execution_count": 71,
   "metadata": {},
   "outputs": [
    {
     "name": "stderr",
     "output_type": "stream",
     "text": [
      "C:\\Anaconda3\\lib\\site-packages\\seaborn\\_decorators.py:36: FutureWarning: Pass the following variable as a keyword arg: x. From version 0.12, the only valid positional argument will be `data`, and passing other arguments without an explicit keyword will result in an error or misinterpretation.\n",
      "  warnings.warn(\n"
     ]
    },
    {
     "data": {
      "text/plain": [
       "<AxesSubplot:xlabel='Academic Concentration', ylabel='count'>"
      ]
     },
     "execution_count": 71,
     "metadata": {},
     "output_type": "execute_result"
    },
    {
     "data": {
      "image/png": "[encoded data removed]",
      "text/plain": [
       "<Figure size 1224x576 with 1 Axes>"
      ]
     },
     "metadata": {
      "needs_background": "light"
     },
     "output_type": "display_data"
    }
   ],
   "source": [
    "plt.figure(figsize=(17,8))\n",
    "sns.countplot(df1['Academic Concentration'],hue='Status',data=df1)"
   ]
  },
  {
   "cell_type": "code",
   "execution_count": 72,
   "metadata": {},
   "outputs": [
    {
     "data": {
      "text/html": [
       "<div>\n",
       "<style scoped>\n",
       "    .dataframe tbody tr th:only-of-type {\n",
       "        vertical-align: middle;\n",
       "    }\n",
       "\n",
       "    .dataframe tbody tr th {\n",
       "        vertical-align: top;\n",
       "    }\n",
       "\n",
       "    .dataframe thead th {\n",
       "        text-align: right;\n",
       "    }\n",
       "</style>\n",
       "<table border=\"1\" class=\"dataframe\">\n",
       "  <thead>\n",
       "    <tr style=\"text-align: right;\">\n",
       "      <th></th>\n",
       "      <th>Academic Concentration</th>\n",
       "      <th>Highest level of Education</th>\n",
       "      <th>Status</th>\n",
       "      <th>count</th>\n",
       "    </tr>\n",
       "  </thead>\n",
       "  <tbody>\n",
       "    <tr>\n",
       "      <th>0</th>\n",
       "      <td>Computer Science/IT</td>\n",
       "      <td>0</td>\n",
       "      <td>3-Appears in Technical Test</td>\n",
       "      <td>423</td>\n",
       "    </tr>\n",
       "    <tr>\n",
       "      <th>1</th>\n",
       "      <td>Computer Science/IT</td>\n",
       "      <td>0</td>\n",
       "      <td>5-Did Not Appear in Technical Test</td>\n",
       "      <td>244</td>\n",
       "    </tr>\n",
       "    <tr>\n",
       "      <th>2</th>\n",
       "      <td>Computer Science/IT</td>\n",
       "      <td>0</td>\n",
       "      <td>4-Appears in Technical Test (Reminded)</td>\n",
       "      <td>104</td>\n",
       "    </tr>\n",
       "    <tr>\n",
       "      <th>3</th>\n",
       "      <td>Computer Science/IT</td>\n",
       "      <td>0</td>\n",
       "      <td>1-Registered</td>\n",
       "      <td>100</td>\n",
       "    </tr>\n",
       "    <tr>\n",
       "      <th>4</th>\n",
       "      <td>Computer Science/IT</td>\n",
       "      <td>0</td>\n",
       "      <td>13-Not Shortlisted</td>\n",
       "      <td>72</td>\n",
       "    </tr>\n",
       "  </tbody>\n",
       "</table>\n",
       "</div>"
      ],
      "text/plain": [
       "  Academic Concentration Highest level of Education  \\\n",
       "0    Computer Science/IT                          0   \n",
       "1    Computer Science/IT                          0   \n",
       "2    Computer Science/IT                          0   \n",
       "3    Computer Science/IT                          0   \n",
       "4    Computer Science/IT                          0   \n",
       "\n",
       "                                   Status  count  \n",
       "0             3-Appears in Technical Test    423  \n",
       "1      5-Did Not Appear in Technical Test    244  \n",
       "2  4-Appears in Technical Test (Reminded)    104  \n",
       "3                            1-Registered    100  \n",
       "4                      13-Not Shortlisted     72  "
      ]
     },
     "execution_count": 72,
     "metadata": {},
     "output_type": "execute_result"
    }
   ],
   "source": [
    "#a=df1.groupby(['Academic Concentration'])['Status'].value_counts()\n",
    "a=df1.groupby(['Academic Concentration','Highest level of Education'])['Status'].value_counts().reset_index(name='count')\n",
    "a.head()"
   ]
  },
  {
   "cell_type": "code",
   "execution_count": 73,
   "metadata": {},
   "outputs": [
    {
     "data": {
      "text/html": [
       "<div>\n",
       "<style scoped>\n",
       "    .dataframe tbody tr th:only-of-type {\n",
       "        vertical-align: middle;\n",
       "    }\n",
       "\n",
       "    .dataframe tbody tr th {\n",
       "        vertical-align: top;\n",
       "    }\n",
       "\n",
       "    .dataframe thead th {\n",
       "        text-align: right;\n",
       "    }\n",
       "</style>\n",
       "<table border=\"1\" class=\"dataframe\">\n",
       "  <thead>\n",
       "    <tr style=\"text-align: right;\">\n",
       "      <th></th>\n",
       "      <th>Academic Concentration</th>\n",
       "      <th>Highest level of Education</th>\n",
       "      <th>Age</th>\n",
       "      <th>count</th>\n",
       "    </tr>\n",
       "  </thead>\n",
       "  <tbody>\n",
       "    <tr>\n",
       "      <th>0</th>\n",
       "      <td>Computer Science/IT</td>\n",
       "      <td>0</td>\n",
       "      <td>22</td>\n",
       "      <td>282</td>\n",
       "    </tr>\n",
       "    <tr>\n",
       "      <th>1</th>\n",
       "      <td>Computer Science/IT</td>\n",
       "      <td>0</td>\n",
       "      <td>21</td>\n",
       "      <td>250</td>\n",
       "    </tr>\n",
       "    <tr>\n",
       "      <th>2</th>\n",
       "      <td>Computer Science/IT</td>\n",
       "      <td>0</td>\n",
       "      <td>23</td>\n",
       "      <td>158</td>\n",
       "    </tr>\n",
       "    <tr>\n",
       "      <th>3</th>\n",
       "      <td>Computer Science/IT</td>\n",
       "      <td>0</td>\n",
       "      <td>20</td>\n",
       "      <td>127</td>\n",
       "    </tr>\n",
       "    <tr>\n",
       "      <th>4</th>\n",
       "      <td>Computer Science/IT</td>\n",
       "      <td>0</td>\n",
       "      <td>24</td>\n",
       "      <td>80</td>\n",
       "    </tr>\n",
       "  </tbody>\n",
       "</table>\n",
       "</div>"
      ],
      "text/plain": [
       "  Academic Concentration Highest level of Education  Age  count\n",
       "0    Computer Science/IT                          0   22    282\n",
       "1    Computer Science/IT                          0   21    250\n",
       "2    Computer Science/IT                          0   23    158\n",
       "3    Computer Science/IT                          0   20    127\n",
       "4    Computer Science/IT                          0   24     80"
      ]
     },
     "execution_count": 73,
     "metadata": {},
     "output_type": "execute_result"
    }
   ],
   "source": [
    "f=df1.groupby(['Academic Concentration','Highest level of Education'])['Age'].value_counts().reset_index(name='count')\n",
    "pd.options.display.max_columns = 5000\n",
    "f.head()"
   ]
  },
  {
   "cell_type": "code",
   "execution_count": 74,
   "metadata": {},
   "outputs": [
    {
     "name": "stderr",
     "output_type": "stream",
     "text": [
      "C:\\Anaconda3\\lib\\site-packages\\seaborn\\_decorators.py:36: FutureWarning: Pass the following variable as a keyword arg: x. From version 0.12, the only valid positional argument will be `data`, and passing other arguments without an explicit keyword will result in an error or misinterpretation.\n",
      "  warnings.warn(\n"
     ]
    },
    {
     "data": {
      "text/plain": [
       "<AxesSubplot:xlabel='Gender', ylabel='count'>"
      ]
     },
     "execution_count": 74,
     "metadata": {},
     "output_type": "execute_result"
    },
    {
     "data": {
      "image/png": "[encoded data removed]",
      "text/plain": [
       "<Figure size 1152x504 with 1 Axes>"
      ]
     },
     "metadata": {
      "needs_background": "light"
     },
     "output_type": "display_data"
    }
   ],
   "source": [
    "plt.figure(figsize=(16,7))\n",
    "sns.countplot(df1['Gender'],hue='Status',data=df1)"
   ]
  },
  {
   "cell_type": "code",
   "execution_count": 75,
   "metadata": {},
   "outputs": [
    {
     "data": {
      "text/html": [
       "<div>\n",
       "<style scoped>\n",
       "    .dataframe tbody tr th:only-of-type {\n",
       "        vertical-align: middle;\n",
       "    }\n",
       "\n",
       "    .dataframe tbody tr th {\n",
       "        vertical-align: top;\n",
       "    }\n",
       "\n",
       "    .dataframe thead th {\n",
       "        text-align: right;\n",
       "    }\n",
       "</style>\n",
       "<table border=\"1\" class=\"dataframe\">\n",
       "  <thead>\n",
       "    <tr style=\"text-align: right;\">\n",
       "      <th></th>\n",
       "      <th>index</th>\n",
       "      <th>Status</th>\n",
       "    </tr>\n",
       "  </thead>\n",
       "  <tbody>\n",
       "    <tr>\n",
       "      <th>0</th>\n",
       "      <td>3-Appears in Technical Test</td>\n",
       "      <td>1687</td>\n",
       "    </tr>\n",
       "    <tr>\n",
       "      <th>1</th>\n",
       "      <td>13-Not Shortlisted</td>\n",
       "      <td>1260</td>\n",
       "    </tr>\n",
       "    <tr>\n",
       "      <th>2</th>\n",
       "      <td>5-Did Not Appear in Technical Test</td>\n",
       "      <td>834</td>\n",
       "    </tr>\n",
       "    <tr>\n",
       "      <th>3</th>\n",
       "      <td>1-Registered</td>\n",
       "      <td>484</td>\n",
       "    </tr>\n",
       "    <tr>\n",
       "      <th>4</th>\n",
       "      <td>4-Appears in Technical Test (Reminded)</td>\n",
       "      <td>422</td>\n",
       "    </tr>\n",
       "    <tr>\n",
       "      <th>5</th>\n",
       "      <td>0</td>\n",
       "      <td>227</td>\n",
       "    </tr>\n",
       "    <tr>\n",
       "      <th>6</th>\n",
       "      <td>11-Completed Training Attendance Criteria</td>\n",
       "      <td>50</td>\n",
       "    </tr>\n",
       "    <tr>\n",
       "      <th>7</th>\n",
       "      <td>9-Training Drop-outs</td>\n",
       "      <td>26</td>\n",
       "    </tr>\n",
       "    <tr>\n",
       "      <th>8</th>\n",
       "      <td>8-Showed up in Trainings</td>\n",
       "      <td>18</td>\n",
       "    </tr>\n",
       "    <tr>\n",
       "      <th>9</th>\n",
       "      <td>10-Completed Training</td>\n",
       "      <td>6</td>\n",
       "    </tr>\n",
       "    <tr>\n",
       "      <th>10</th>\n",
       "      <td>2-Shortlisted</td>\n",
       "      <td>3</td>\n",
       "    </tr>\n",
       "    <tr>\n",
       "      <th>11</th>\n",
       "      <td>9-Did not Show up in Trainings</td>\n",
       "      <td>1</td>\n",
       "    </tr>\n",
       "  </tbody>\n",
       "</table>\n",
       "</div>"
      ],
      "text/plain": [
       "                                        index  Status\n",
       "0                 3-Appears in Technical Test    1687\n",
       "1                          13-Not Shortlisted    1260\n",
       "2          5-Did Not Appear in Technical Test     834\n",
       "3                                1-Registered     484\n",
       "4      4-Appears in Technical Test (Reminded)     422\n",
       "5                                           0     227\n",
       "6   11-Completed Training Attendance Criteria      50\n",
       "7                        9-Training Drop-outs      26\n",
       "8                    8-Showed up in Trainings      18\n",
       "9                       10-Completed Training       6\n",
       "10                              2-Shortlisted       3\n",
       "11             9-Did not Show up in Trainings       1"
      ]
     },
     "execution_count": 75,
     "metadata": {},
     "output_type": "execute_result"
    }
   ],
   "source": [
    "df1['Status'].value_counts().reset_index()"
   ]
  },
  {
   "cell_type": "code",
   "execution_count": 76,
   "metadata": {},
   "outputs": [],
   "source": [
    "df1.loc[(~df1['Status'].isin(['10-Completed Training','11-Completed Training Attendance Criteria'])),'Status'] = 0\n",
    "df1.loc[(df1['Status'].isin(['10-Completed Training','11-Completed Training Attendance Criteria'])),'Status'] = 1"
   ]
  },
  {
   "cell_type": "code",
   "execution_count": 77,
   "metadata": {},
   "outputs": [
    {
     "data": {
      "text/plain": [
       "0    4962\n",
       "1      56\n",
       "Name: Status, dtype: int64"
      ]
     },
     "execution_count": 77,
     "metadata": {},
     "output_type": "execute_result"
    }
   ],
   "source": [
    "df1['Status'].value_counts()"
   ]
  },
  {
   "cell_type": "code",
   "execution_count": 78,
   "metadata": {},
   "outputs": [],
   "source": [
    "df1['Status'].fillna(0,inplace=True)"
   ]
  },
  {
   "cell_type": "code",
   "execution_count": 79,
   "metadata": {},
   "outputs": [
    {
     "data": {
      "text/plain": [
       "Index(['Gender', 'Age', 'Applied Course', 'Domicile',\n",
       "       'What best describes your access to a computer?',\n",
       "       'Academic Concentration', 'CGPA/Final Average GPA',\n",
       "       'Highest level of Education', 'Training district',\n",
       "       'Initial Screening Percentage', 'Points Scored Screning Test',\n",
       "       'Screening Test Percentage', 'Agreegate Percentage', 'Submitted At',\n",
       "       'Status', 'Batch', 'Unnamed: 28', 'name', 'Time', 'day', 'hour', 'min',\n",
       "       'sec'],\n",
       "      dtype='object')"
      ]
     },
     "execution_count": 79,
     "metadata": {},
     "output_type": "execute_result"
    }
   ],
   "source": [
    "df1.drop(['First Name','Last Name'],axis=1,inplace=True)\n",
    "df1.columns"
   ]
  },
  {
   "cell_type": "code",
   "execution_count": 80,
   "metadata": {},
   "outputs": [
    {
     "name": "stderr",
     "output_type": "stream",
     "text": [
      "C:\\Anaconda3\\lib\\site-packages\\seaborn\\_decorators.py:36: FutureWarning: Pass the following variable as a keyword arg: x. From version 0.12, the only valid positional argument will be `data`, and passing other arguments without an explicit keyword will result in an error or misinterpretation.\n",
      "  warnings.warn(\n"
     ]
    },
    {
     "data": {
      "text/plain": [
       "<AxesSubplot:xlabel='Applied Course', ylabel='count'>"
      ]
     },
     "execution_count": 80,
     "metadata": {},
     "output_type": "execute_result"
    },
    {
     "data": {
      "image/png": "[encoded data removed]",
      "text/plain": [
       "<Figure size 576x576 with 1 Axes>"
      ]
     },
     "metadata": {
      "needs_background": "light"
     },
     "output_type": "display_data"
    }
   ],
   "source": [
    "plt.figure(figsize=(8,8))\n",
    "sns.countplot(df1['Applied Course'],hue='Academic Concentration',data=df1)"
   ]
  },
  {
   "cell_type": "code",
   "execution_count": 81,
   "metadata": {},
   "outputs": [
    {
     "data": {
      "text/html": [
       "<div>\n",
       "<style scoped>\n",
       "    .dataframe tbody tr th:only-of-type {\n",
       "        vertical-align: middle;\n",
       "    }\n",
       "\n",
       "    .dataframe tbody tr th {\n",
       "        vertical-align: top;\n",
       "    }\n",
       "\n",
       "    .dataframe thead th {\n",
       "        text-align: right;\n",
       "    }\n",
       "</style>\n",
       "<table border=\"1\" class=\"dataframe\">\n",
       "  <thead>\n",
       "    <tr style=\"text-align: right;\">\n",
       "      <th></th>\n",
       "      <th>Academic Concentration</th>\n",
       "      <th>Highest level of Education</th>\n",
       "      <th>What best describes your access to a computer?</th>\n",
       "      <th>Status</th>\n",
       "      <th>count</th>\n",
       "    </tr>\n",
       "  </thead>\n",
       "  <tbody>\n",
       "    <tr>\n",
       "      <th>0</th>\n",
       "      <td>Computer Science/IT</td>\n",
       "      <td>0</td>\n",
       "      <td>Having own laptop</td>\n",
       "      <td>0</td>\n",
       "      <td>931</td>\n",
       "    </tr>\n",
       "    <tr>\n",
       "      <th>1</th>\n",
       "      <td>Computer Science/IT</td>\n",
       "      <td>0</td>\n",
       "      <td>Having own laptop</td>\n",
       "      <td>1</td>\n",
       "      <td>6</td>\n",
       "    </tr>\n",
       "    <tr>\n",
       "      <th>2</th>\n",
       "      <td>Computer Science/IT</td>\n",
       "      <td>0</td>\n",
       "      <td>No regular access to computer</td>\n",
       "      <td>0</td>\n",
       "      <td>20</td>\n",
       "    </tr>\n",
       "    <tr>\n",
       "      <th>3</th>\n",
       "      <td>Computer Science/IT</td>\n",
       "      <td>0</td>\n",
       "      <td>Shared computer</td>\n",
       "      <td>0</td>\n",
       "      <td>31</td>\n",
       "    </tr>\n",
       "    <tr>\n",
       "      <th>4</th>\n",
       "      <td>Computer Science/IT</td>\n",
       "      <td>0</td>\n",
       "      <td>use computer at school/ university</td>\n",
       "      <td>0</td>\n",
       "      <td>29</td>\n",
       "    </tr>\n",
       "  </tbody>\n",
       "</table>\n",
       "</div>"
      ],
      "text/plain": [
       "  Academic Concentration Highest level of Education  \\\n",
       "0    Computer Science/IT                          0   \n",
       "1    Computer Science/IT                          0   \n",
       "2    Computer Science/IT                          0   \n",
       "3    Computer Science/IT                          0   \n",
       "4    Computer Science/IT                          0   \n",
       "\n",
       "  What best describes your access to a computer?  Status  count  \n",
       "0                              Having own laptop       0    931  \n",
       "1                              Having own laptop       1      6  \n",
       "2                  No regular access to computer       0     20  \n",
       "3                                Shared computer       0     31  \n",
       "4             use computer at school/ university       0     29  "
      ]
     },
     "execution_count": 81,
     "metadata": {},
     "output_type": "execute_result"
    }
   ],
   "source": [
    "b=df1.groupby(['Academic Concentration','Highest level of Education','What best describes your access to a computer?'])['Status'].value_counts().reset_index(name='count')\n",
    "pd.options.display.max_rows = 300\n",
    "b.head()"
   ]
  },
  {
   "cell_type": "code",
   "execution_count": 82,
   "metadata": {},
   "outputs": [
    {
     "name": "stderr",
     "output_type": "stream",
     "text": [
      "C:\\Anaconda3\\lib\\site-packages\\seaborn\\_decorators.py:36: FutureWarning: Pass the following variable as a keyword arg: x. From version 0.12, the only valid positional argument will be `data`, and passing other arguments without an explicit keyword will result in an error or misinterpretation.\n",
      "  warnings.warn(\n"
     ]
    },
    {
     "data": {
      "text/plain": [
       "<AxesSubplot:xlabel='Highest level of Education', ylabel='count'>"
      ]
     },
     "execution_count": 82,
     "metadata": {},
     "output_type": "execute_result"
    },
    {
     "data": {
      "image/png": "[encoded data removed]",
      "text/plain": [
       "<Figure size 432x288 with 1 Axes>"
      ]
     },
     "metadata": {
      "needs_background": "light"
     },
     "output_type": "display_data"
    }
   ],
   "source": [
    "sns.countplot(df1['Highest level of Education']==0)"
   ]
  },
  {
   "cell_type": "code",
   "execution_count": 83,
   "metadata": {},
   "outputs": [
    {
     "data": {
      "text/plain": [
       "array(['Bachelor / Other', 'Master', 0], dtype=object)"
      ]
     },
     "execution_count": 83,
     "metadata": {},
     "output_type": "execute_result"
    }
   ],
   "source": [
    "df1['Highest level of Education'].unique()"
   ]
  },
  {
   "cell_type": "code",
   "execution_count": 84,
   "metadata": {},
   "outputs": [],
   "source": [
    "#df1.drop('What best describes your access to a computer?',axis=1,inplace=True)"
   ]
  },
  {
   "cell_type": "code",
   "execution_count": 85,
   "metadata": {},
   "outputs": [],
   "source": [
    "df1.loc[(df1['Highest level of Education']==0)&(df1['Age']<=26),'Highest level of Education']='Bachelor / Other'\n",
    "df1.loc[(df1['Highest level of Education']==0)&(df1['Age']>=26),'Highest level of Education']='Master'"
   ]
  },
  {
   "cell_type": "code",
   "execution_count": 86,
   "metadata": {},
   "outputs": [
    {
     "name": "stderr",
     "output_type": "stream",
     "text": [
      "C:\\Anaconda3\\lib\\site-packages\\seaborn\\_decorators.py:36: FutureWarning: Pass the following variable as a keyword arg: x. From version 0.12, the only valid positional argument will be `data`, and passing other arguments without an explicit keyword will result in an error or misinterpretation.\n",
      "  warnings.warn(\n"
     ]
    },
    {
     "data": {
      "text/plain": [
       "<AxesSubplot:xlabel='Highest level of Education', ylabel='count'>"
      ]
     },
     "execution_count": 86,
     "metadata": {},
     "output_type": "execute_result"
    },
    {
     "data": {
      "image/png": "[encoded data removed]",
      "text/plain": [
       "<Figure size 432x288 with 1 Axes>"
      ]
     },
     "metadata": {
      "needs_background": "light"
     },
     "output_type": "display_data"
    }
   ],
   "source": [
    "sns.countplot(df1['Highest level of Education']==0)"
   ]
  },
  {
   "cell_type": "code",
   "execution_count": 87,
   "metadata": {},
   "outputs": [
    {
     "data": {
      "text/plain": [
       "Bachelor / Other    3741\n",
       "Master              1277\n",
       "Name: Highest level of Education, dtype: int64"
      ]
     },
     "execution_count": 87,
     "metadata": {},
     "output_type": "execute_result"
    }
   ],
   "source": [
    "df1['Highest level of Education'].value_counts()"
   ]
  },
  {
   "cell_type": "code",
   "execution_count": 88,
   "metadata": {},
   "outputs": [
    {
     "data": {
      "text/plain": [
       "Having own laptop                     4505\n",
       "No regular access to computer          172\n",
       "Shared computer                        170\n",
       "use computer at school/ university     169\n",
       "others                                   2\n",
       "Name: What best describes your access to a computer?, dtype: int64"
      ]
     },
     "execution_count": 88,
     "metadata": {},
     "output_type": "execute_result"
    }
   ],
   "source": [
    "df1['What best describes your access to a computer?'].value_counts()"
   ]
  },
  {
   "cell_type": "code",
   "execution_count": 89,
   "metadata": {},
   "outputs": [
    {
     "name": "stderr",
     "output_type": "stream",
     "text": [
      "C:\\Anaconda3\\lib\\site-packages\\seaborn\\_decorators.py:36: FutureWarning: Pass the following variable as a keyword arg: x. From version 0.12, the only valid positional argument will be `data`, and passing other arguments without an explicit keyword will result in an error or misinterpretation.\n",
      "  warnings.warn(\n"
     ]
    },
    {
     "data": {
      "text/plain": [
       "<AxesSubplot:xlabel='What best describes your access to a computer?', ylabel='count'>"
      ]
     },
     "execution_count": 89,
     "metadata": {},
     "output_type": "execute_result"
    },
    {
     "data": {
      "image/png": "[encoded data removed]",
      "text/plain": [
       "<Figure size 2160x576 with 1 Axes>"
      ]
     },
     "metadata": {
      "needs_background": "light"
     },
     "output_type": "display_data"
    }
   ],
   "source": [
    "plt.figure(figsize=(30,8))\n",
    "sns.countplot(df1['What best describes your access to a computer?'])"
   ]
  },
  {
   "cell_type": "code",
   "execution_count": 90,
   "metadata": {},
   "outputs": [],
   "source": [
    "df1.loc[(df1['What best describes your access to a computer?'].isin(['No regular access to computer','Shared computer','use computer at school/ university'])),'What best describes your access to a computer?'] = 'others'"
   ]
  },
  {
   "cell_type": "code",
   "execution_count": 91,
   "metadata": {},
   "outputs": [
    {
     "data": {
      "text/plain": [
       "Having own laptop    4505\n",
       "others                513\n",
       "Name: What best describes your access to a computer?, dtype: int64"
      ]
     },
     "execution_count": 91,
     "metadata": {},
     "output_type": "execute_result"
    }
   ],
   "source": [
    "df1['What best describes your access to a computer?'].value_counts()"
   ]
  },
  {
   "cell_type": "code",
   "execution_count": 92,
   "metadata": {},
   "outputs": [],
   "source": [
    "df1.drop(['Points Scored Screning Test',\n",
    "       'Screening Test Percentage', 'Agreegate Percentage'],axis=1,inplace=True)"
   ]
  },
  {
   "cell_type": "code",
   "execution_count": 93,
   "metadata": {},
   "outputs": [],
   "source": [
    "df1.drop(['Submitted At','Batch','Unnamed: 28', 'name', 'Time', 'day', 'hour', 'min'],axis=1,inplace=True)"
   ]
  },
  {
   "cell_type": "code",
   "execution_count": 94,
   "metadata": {},
   "outputs": [
    {
     "data": {
      "text/plain": [
       "Gender                                             object\n",
       "Age                                                 int64\n",
       "Applied Course                                     object\n",
       "Domicile                                           object\n",
       "What best describes your access to a computer?     object\n",
       "Academic Concentration                             object\n",
       "CGPA/Final Average GPA                             object\n",
       "Highest level of Education                         object\n",
       "Training district                                  object\n",
       "Initial Screening Percentage                      float64\n",
       "Status                                              int64\n",
       "sec                                                 int64\n",
       "dtype: object"
      ]
     },
     "execution_count": 94,
     "metadata": {},
     "output_type": "execute_result"
    }
   ],
   "source": [
    "df1.dtypes"
   ]
  },
  {
   "cell_type": "code",
   "execution_count": null,
   "metadata": {},
   "outputs": [],
   "source": []
  }
 ],
 "metadata": {
  "kernelspec": {
   "display_name": "Python 3",
   "language": "python",
   "name": "python3"
  },
  "language_info": {
   "codemirror_mode": {
    "name": "ipython",
    "version": 3
   },
   "file_extension": ".py",
   "mimetype": "text/x-python",
   "name": "python",
   "nbconvert_exporter": "python",
   "pygments_lexer": "ipython3",
   "version": "3.8.5"
  }
 },
 "nbformat": 4,
 "nbformat_minor": 4
}
