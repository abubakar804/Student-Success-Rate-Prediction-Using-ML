{
 "cells": [
  {
   "cell_type": "code",
   "execution_count": 50,
   "metadata": {},
   "outputs": [],
   "source": [
    "y=df1['Agreegate Percentage'].value_counts()"
   ]
  },
  {
   "cell_type": "code",
   "execution_count": 51,
   "metadata": {},
   "outputs": [
    {
     "name": "stderr",
     "output_type": "stream",
     "text": [
      "C:\\Anaconda3\\lib\\site-packages\\seaborn\\_decorators.py:36: FutureWarning: Pass the following variable as a keyword arg: x. From version 0.12, the only valid positional argument will be `data`, and passing other arguments without an explicit keyword will result in an error or misinterpretation.\n",
      "  warnings.warn(\n"
     ]
    },
    {
     "data": {
      "text/plain": [
       "<AxesSubplot:xlabel='Agreegate Percentage', ylabel='count'>"
      ]
     },
     "execution_count": 51,
     "metadata": {},
     "output_type": "execute_result"
    },
    {
     "data": {
      "image/png": "[encoded data removed]",
      "text/plain": [
       "<Figure size 1152x504 with 1 Axes>"
      ]
     },
     "metadata": {
      "needs_background": "light"
     },
     "output_type": "display_data"
    }
   ],
   "source": [
    "plt.figure(figsize=(16,7))\n",
    "sns.countplot(y)"
   ]
  },
  {
   "cell_type": "code",
   "execution_count": 52,
   "metadata": {},
   "outputs": [],
   "source": [
    "#df1['Submitted At'].value_counts()"
   ]
  },
  {
   "cell_type": "code",
   "execution_count": 53,
   "metadata": {},
   "outputs": [
    {
     "name": "stderr",
     "output_type": "stream",
     "text": [
      "C:\\Anaconda3\\lib\\site-packages\\seaborn\\_decorators.py:36: FutureWarning: Pass the following variable as a keyword arg: x. From version 0.12, the only valid positional argument will be `data`, and passing other arguments without an explicit keyword will result in an error or misinterpretation.\n",
      "  warnings.warn(\n"
     ]
    },
    {
     "data": {
      "text/plain": [
       "<AxesSubplot:xlabel='Submitted At', ylabel='count'>"
      ]
     },
     "execution_count": 53,
     "metadata": {},
     "output_type": "execute_result"
    },
    {
     "data": {
      "image/png": "[encoded data removed]",
      "text/plain": [
       "<Figure size 432x288 with 1 Axes>"
      ]
     },
     "metadata": {
      "needs_background": "light"
     },
     "output_type": "display_data"
    }
   ],
   "source": [
    "#sns.distplot(df1['Submitted At'])\n",
    "z=df1['Submitted At'].value_counts()\n",
    "sns.countplot(z)"
   ]
  },
  {
   "cell_type": "code",
   "execution_count": 54,
   "metadata": {},
   "outputs": [
    {
     "data": {
      "text/plain": [
       "43699.07944    2\n",
       "43699.29138    2\n",
       "43711.23145    2\n",
       "43726.67235    2\n",
       "43698.68731    2\n",
       "Name: Submitted At, dtype: int64"
      ]
     },
     "execution_count": 54,
     "metadata": {},
     "output_type": "execute_result"
    }
   ],
   "source": [
    "z.head()"
   ]
  },
  {
   "cell_type": "code",
   "execution_count": 55,
   "metadata": {},
   "outputs": [
    {
     "data": {
      "text/plain": [
       "'1970-1-1 12:8:18'"
      ]
     },
     "execution_count": 55,
     "metadata": {},
     "output_type": "execute_result"
    }
   ],
   "source": [
    "from time import gmtime\n",
    "a='{}-{}-{} {}:{}:{}'.format(*gmtime( 43698.627905))\n",
    "a"
   ]
  },
  {
   "cell_type": "code",
   "execution_count": 56,
   "metadata": {},
   "outputs": [
    {
     "data": {
      "text/html": [
       "<div>\n",
       "<style scoped>\n",
       "    .dataframe tbody tr th:only-of-type {\n",
       "        vertical-align: middle;\n",
       "    }\n",
       "\n",
       "    .dataframe tbody tr th {\n",
       "        vertical-align: top;\n",
       "    }\n",
       "\n",
       "    .dataframe thead th {\n",
       "        text-align: right;\n",
       "    }\n",
       "</style>\n",
       "<table border=\"1\" class=\"dataframe\">\n",
       "  <thead>\n",
       "    <tr style=\"text-align: right;\">\n",
       "      <th></th>\n",
       "      <th>First Name</th>\n",
       "      <th>Last Name</th>\n",
       "      <th>Gender</th>\n",
       "      <th>Age</th>\n",
       "      <th>Applied Course</th>\n",
       "      <th>Domicile</th>\n",
       "      <th>What best describes your access to a computer?</th>\n",
       "      <th>Academic Concentration</th>\n",
       "      <th>CGPA/Final Average GPA</th>\n",
       "      <th>Highest level of Education</th>\n",
       "      <th>Training district</th>\n",
       "      <th>Score</th>\n",
       "      <th>Initial Screening Percentage</th>\n",
       "      <th>Points Scored Screning Test</th>\n",
       "      <th>Screening Test Percentage</th>\n",
       "      <th>Agreegate Percentage</th>\n",
       "      <th>Submitted At</th>\n",
       "      <th>Status</th>\n",
       "      <th>Batch</th>\n",
       "      <th>Unnamed: 28</th>\n",
       "      <th>name</th>\n",
       "      <th>Time</th>\n",
       "    </tr>\n",
       "  </thead>\n",
       "  <tbody>\n",
       "    <tr>\n",
       "      <th>0</th>\n",
       "      <td>Waseem</td>\n",
       "      <td>Akram</td>\n",
       "      <td>Male</td>\n",
       "      <td>29</td>\n",
       "      <td>AWS</td>\n",
       "      <td>Charsadda</td>\n",
       "      <td>Having own laptop</td>\n",
       "      <td>Engineering</td>\n",
       "      <td>Below 2.5</td>\n",
       "      <td>Bachelor / Other</td>\n",
       "      <td>Peshawar</td>\n",
       "      <td>43</td>\n",
       "      <td>0.286667</td>\n",
       "      <td>6</td>\n",
       "      <td>15%</td>\n",
       "      <td>0.218333</td>\n",
       "      <td>43700.18598</td>\n",
       "      <td>13-Not Shortlisted</td>\n",
       "      <td>0</td>\n",
       "      <td>0.0</td>\n",
       "      <td>Waseem Akram</td>\n",
       "      <td>1970-1-1 12:8:20</td>\n",
       "    </tr>\n",
       "    <tr>\n",
       "      <th>1</th>\n",
       "      <td>Asifa khan</td>\n",
       "      <td>Asifa</td>\n",
       "      <td>Female</td>\n",
       "      <td>23</td>\n",
       "      <td>Azure MCSD</td>\n",
       "      <td>Abbottabad</td>\n",
       "      <td>Having own laptop</td>\n",
       "      <td>Other</td>\n",
       "      <td>Between 2.5 and 3.0</td>\n",
       "      <td>Master</td>\n",
       "      <td>Abbottabad</td>\n",
       "      <td>41</td>\n",
       "      <td>0.273333</td>\n",
       "      <td>0</td>\n",
       "      <td>0</td>\n",
       "      <td>0.136667</td>\n",
       "      <td>43705.70079</td>\n",
       "      <td>13-Not Shortlisted</td>\n",
       "      <td>0</td>\n",
       "      <td>0.0</td>\n",
       "      <td>Asifa khan Asifa</td>\n",
       "      <td>1970-1-1 12:8:25</td>\n",
       "    </tr>\n",
       "    <tr>\n",
       "      <th>2</th>\n",
       "      <td>nadia</td>\n",
       "      <td>khattak</td>\n",
       "      <td>Female</td>\n",
       "      <td>23</td>\n",
       "      <td>Azure MCSD</td>\n",
       "      <td>Peshawar</td>\n",
       "      <td>Having own laptop</td>\n",
       "      <td>Computer Science/IT</td>\n",
       "      <td>Above 3.0</td>\n",
       "      <td>Bachelor / Other</td>\n",
       "      <td>Peshawar</td>\n",
       "      <td>99</td>\n",
       "      <td>0.660000</td>\n",
       "      <td>20</td>\n",
       "      <td>50%</td>\n",
       "      <td>0.580000</td>\n",
       "      <td>43711.56671</td>\n",
       "      <td>3-Appears in Technical Test</td>\n",
       "      <td>ADS-AZ-C1-B1</td>\n",
       "      <td>0.0</td>\n",
       "      <td>nadia khattak</td>\n",
       "      <td>1970-1-1 12:8:31</td>\n",
       "    </tr>\n",
       "    <tr>\n",
       "      <th>3</th>\n",
       "      <td>Muhammad</td>\n",
       "      <td>Ayaz</td>\n",
       "      <td>Male</td>\n",
       "      <td>21</td>\n",
       "      <td>Azure MCSD</td>\n",
       "      <td>others</td>\n",
       "      <td>No regular access to computer</td>\n",
       "      <td>Other</td>\n",
       "      <td>Below 2.5</td>\n",
       "      <td>Bachelor / Other</td>\n",
       "      <td>Peshawar</td>\n",
       "      <td>-17</td>\n",
       "      <td>-0.113333</td>\n",
       "      <td>0</td>\n",
       "      <td>0</td>\n",
       "      <td>-0.056667</td>\n",
       "      <td>43703.28394</td>\n",
       "      <td>13-Not Shortlisted</td>\n",
       "      <td>0</td>\n",
       "      <td>0.0</td>\n",
       "      <td>Muhammad  Ayaz</td>\n",
       "      <td>1970-1-1 12:8:23</td>\n",
       "    </tr>\n",
       "    <tr>\n",
       "      <th>4</th>\n",
       "      <td>Muhammad waqas khan</td>\n",
       "      <td>Khan</td>\n",
       "      <td>Male</td>\n",
       "      <td>26</td>\n",
       "      <td>Azure MCSD</td>\n",
       "      <td>others</td>\n",
       "      <td>use computer at school/ university</td>\n",
       "      <td>Computer Science/IT</td>\n",
       "      <td>Below 2.5</td>\n",
       "      <td>Master</td>\n",
       "      <td>Peshawar</td>\n",
       "      <td>29</td>\n",
       "      <td>0.193333</td>\n",
       "      <td>0</td>\n",
       "      <td>0</td>\n",
       "      <td>0.096667</td>\n",
       "      <td>43698.75301</td>\n",
       "      <td>13-Not Shortlisted</td>\n",
       "      <td>0</td>\n",
       "      <td>0.0</td>\n",
       "      <td>Muhammad waqas khan  Khan</td>\n",
       "      <td>1970-1-1 12:8:18</td>\n",
       "    </tr>\n",
       "  </tbody>\n",
       "</table>\n",
       "</div>"
      ],
      "text/plain": [
       "             First Name Last Name  Gender  Age Applied Course    Domicile  \\\n",
       "0                Waseem     Akram    Male   29            AWS   Charsadda   \n",
       "1            Asifa khan     Asifa  Female   23     Azure MCSD  Abbottabad   \n",
       "2                 nadia   khattak  Female   23     Azure MCSD    Peshawar   \n",
       "3             Muhammad      Ayaz     Male   21     Azure MCSD      others   \n",
       "4  Muhammad waqas khan      Khan     Male   26     Azure MCSD      others   \n",
       "\n",
       "  What best describes your access to a computer? Academic Concentration  \\\n",
       "0                              Having own laptop            Engineering   \n",
       "1                              Having own laptop                  Other   \n",
       "2                              Having own laptop    Computer Science/IT   \n",
       "3                  No regular access to computer                  Other   \n",
       "4             use computer at school/ university    Computer Science/IT   \n",
       "\n",
       "  CGPA/Final Average GPA Highest level of Education Training district  Score  \\\n",
       "0              Below 2.5           Bachelor / Other          Peshawar     43   \n",
       "1    Between 2.5 and 3.0                     Master        Abbottabad     41   \n",
       "2              Above 3.0           Bachelor / Other          Peshawar     99   \n",
       "3              Below 2.5           Bachelor / Other          Peshawar    -17   \n",
       "4              Below 2.5                     Master          Peshawar     29   \n",
       "\n",
       "   Initial Screening Percentage Points Scored Screning Test  \\\n",
       "0                      0.286667                           6   \n",
       "1                      0.273333                           0   \n",
       "2                      0.660000                          20   \n",
       "3                     -0.113333                           0   \n",
       "4                      0.193333                           0   \n",
       "\n",
       "  Screening Test Percentage  Agreegate Percentage  Submitted At  \\\n",
       "0                       15%              0.218333   43700.18598   \n",
       "1                         0              0.136667   43705.70079   \n",
       "2                       50%              0.580000   43711.56671   \n",
       "3                         0             -0.056667   43703.28394   \n",
       "4                         0              0.096667   43698.75301   \n",
       "\n",
       "                        Status         Batch  Unnamed: 28  \\\n",
       "0           13-Not Shortlisted             0          0.0   \n",
       "1           13-Not Shortlisted             0          0.0   \n",
       "2  3-Appears in Technical Test  ADS-AZ-C1-B1          0.0   \n",
       "3           13-Not Shortlisted             0          0.0   \n",
       "4           13-Not Shortlisted             0          0.0   \n",
       "\n",
       "                         name              Time  \n",
       "0                Waseem Akram  1970-1-1 12:8:20  \n",
       "1            Asifa khan Asifa  1970-1-1 12:8:25  \n",
       "2               nadia khattak  1970-1-1 12:8:31  \n",
       "3             Muhammad  Ayaz   1970-1-1 12:8:23  \n",
       "4  Muhammad waqas khan  Khan   1970-1-1 12:8:18  "
      ]
     },
     "execution_count": 56,
     "metadata": {},
     "output_type": "execute_result"
    }
   ],
   "source": [
    "df1['Time'] = df1['Submitted At'].apply(lambda x:'{}-{}-{} {}:{}:{}'.format(*gmtime(x)))\n",
    "df1.head()"
   ]
  },
  {
   "cell_type": "code",
   "execution_count": 57,
   "metadata": {},
   "outputs": [
    {
     "data": {
      "text/plain": [
       "dtype('<M8[ns]')"
      ]
     },
     "execution_count": 57,
     "metadata": {},
     "output_type": "execute_result"
    }
   ],
   "source": [
    "df1['Time'] = pd.to_datetime(df1['Time'])\n",
    "df1['Time'].dtype\n",
    "\n",
    "#astype(np.float64,axis=1,inplace=True)"
   ]
  },
  {
   "cell_type": "code",
   "execution_count": 58,
   "metadata": {},
   "outputs": [
    {
     "data": {
      "text/html": [
       "<div>\n",
       "<style scoped>\n",
       "    .dataframe tbody tr th:only-of-type {\n",
       "        vertical-align: middle;\n",
       "    }\n",
       "\n",
       "    .dataframe tbody tr th {\n",
       "        vertical-align: top;\n",
       "    }\n",
       "\n",
       "    .dataframe thead th {\n",
       "        text-align: right;\n",
       "    }\n",
       "</style>\n",
       "<table border=\"1\" class=\"dataframe\">\n",
       "  <thead>\n",
       "    <tr style=\"text-align: right;\">\n",
       "      <th></th>\n",
       "      <th>Time</th>\n",
       "      <th>day</th>\n",
       "    </tr>\n",
       "  </thead>\n",
       "  <tbody>\n",
       "    <tr>\n",
       "      <th>0</th>\n",
       "      <td>1970-01-01 12:08:20</td>\n",
       "      <td>1</td>\n",
       "    </tr>\n",
       "    <tr>\n",
       "      <th>1</th>\n",
       "      <td>1970-01-01 12:08:25</td>\n",
       "      <td>1</td>\n",
       "    </tr>\n",
       "    <tr>\n",
       "      <th>2</th>\n",
       "      <td>1970-01-01 12:08:31</td>\n",
       "      <td>1</td>\n",
       "    </tr>\n",
       "    <tr>\n",
       "      <th>3</th>\n",
       "      <td>1970-01-01 12:08:23</td>\n",
       "      <td>1</td>\n",
       "    </tr>\n",
       "    <tr>\n",
       "      <th>4</th>\n",
       "      <td>1970-01-01 12:08:18</td>\n",
       "      <td>1</td>\n",
       "    </tr>\n",
       "  </tbody>\n",
       "</table>\n",
       "</div>"
      ],
      "text/plain": [
       "                 Time  day\n",
       "0 1970-01-01 12:08:20    1\n",
       "1 1970-01-01 12:08:25    1\n",
       "2 1970-01-01 12:08:31    1\n",
       "3 1970-01-01 12:08:23    1\n",
       "4 1970-01-01 12:08:18    1"
      ]
     },
     "execution_count": 58,
     "metadata": {},
     "output_type": "execute_result"
    }
   ],
   "source": [
    "df1['day'] = df1['Time'].dt.day\n",
    "df1[['Time','day']].head()"
   ]
  },
  {
   "cell_type": "code",
   "execution_count": 59,
   "metadata": {},
   "outputs": [
    {
     "data": {
      "text/html": [
       "<div>\n",
       "<style scoped>\n",
       "    .dataframe tbody tr th:only-of-type {\n",
       "        vertical-align: middle;\n",
       "    }\n",
       "\n",
       "    .dataframe tbody tr th {\n",
       "        vertical-align: top;\n",
       "    }\n",
       "\n",
       "    .dataframe thead th {\n",
       "        text-align: right;\n",
       "    }\n",
       "</style>\n",
       "<table border=\"1\" class=\"dataframe\">\n",
       "  <thead>\n",
       "    <tr style=\"text-align: right;\">\n",
       "      <th></th>\n",
       "      <th>Time</th>\n",
       "      <th>hour</th>\n",
       "    </tr>\n",
       "  </thead>\n",
       "  <tbody>\n",
       "    <tr>\n",
       "      <th>0</th>\n",
       "      <td>1970-01-01 12:08:20</td>\n",
       "      <td>12</td>\n",
       "    </tr>\n",
       "    <tr>\n",
       "      <th>1</th>\n",
       "      <td>1970-01-01 12:08:25</td>\n",
       "      <td>12</td>\n",
       "    </tr>\n",
       "    <tr>\n",
       "      <th>2</th>\n",
       "      <td>1970-01-01 12:08:31</td>\n",
       "      <td>12</td>\n",
       "    </tr>\n",
       "    <tr>\n",
       "      <th>3</th>\n",
       "      <td>1970-01-01 12:08:23</td>\n",
       "      <td>12</td>\n",
       "    </tr>\n",
       "    <tr>\n",
       "      <th>4</th>\n",
       "      <td>1970-01-01 12:08:18</td>\n",
       "      <td>12</td>\n",
       "    </tr>\n",
       "  </tbody>\n",
       "</table>\n",
       "</div>"
      ],
      "text/plain": [
       "                 Time  hour\n",
       "0 1970-01-01 12:08:20    12\n",
       "1 1970-01-01 12:08:25    12\n",
       "2 1970-01-01 12:08:31    12\n",
       "3 1970-01-01 12:08:23    12\n",
       "4 1970-01-01 12:08:18    12"
      ]
     },
     "execution_count": 59,
     "metadata": {},
     "output_type": "execute_result"
    }
   ],
   "source": [
    "df1['hour'] = df1['Time'].dt.hour\n",
    "df1[['Time','hour']].head()"
   ]
  },
  {
   "cell_type": "code",
   "execution_count": 60,
   "metadata": {},
   "outputs": [
    {
     "data": {
      "text/html": [
       "<div>\n",
       "<style scoped>\n",
       "    .dataframe tbody tr th:only-of-type {\n",
       "        vertical-align: middle;\n",
       "    }\n",
       "\n",
       "    .dataframe tbody tr th {\n",
       "        vertical-align: top;\n",
       "    }\n",
       "\n",
       "    .dataframe thead th {\n",
       "        text-align: right;\n",
       "    }\n",
       "</style>\n",
       "<table border=\"1\" class=\"dataframe\">\n",
       "  <thead>\n",
       "    <tr style=\"text-align: right;\">\n",
       "      <th></th>\n",
       "      <th>Time</th>\n",
       "      <th>min</th>\n",
       "    </tr>\n",
       "  </thead>\n",
       "  <tbody>\n",
       "    <tr>\n",
       "      <th>0</th>\n",
       "      <td>1970-01-01 12:08:20</td>\n",
       "      <td>8</td>\n",
       "    </tr>\n",
       "    <tr>\n",
       "      <th>1</th>\n",
       "      <td>1970-01-01 12:08:25</td>\n",
       "      <td>8</td>\n",
       "    </tr>\n",
       "    <tr>\n",
       "      <th>2</th>\n",
       "      <td>1970-01-01 12:08:31</td>\n",
       "      <td>8</td>\n",
       "    </tr>\n",
       "    <tr>\n",
       "      <th>3</th>\n",
       "      <td>1970-01-01 12:08:23</td>\n",
       "      <td>8</td>\n",
       "    </tr>\n",
       "    <tr>\n",
       "      <th>4</th>\n",
       "      <td>1970-01-01 12:08:18</td>\n",
       "      <td>8</td>\n",
       "    </tr>\n",
       "  </tbody>\n",
       "</table>\n",
       "</div>"
      ],
      "text/plain": [
       "                 Time  min\n",
       "0 1970-01-01 12:08:20    8\n",
       "1 1970-01-01 12:08:25    8\n",
       "2 1970-01-01 12:08:31    8\n",
       "3 1970-01-01 12:08:23    8\n",
       "4 1970-01-01 12:08:18    8"
      ]
     },
     "execution_count": 60,
     "metadata": {},
     "output_type": "execute_result"
    }
   ],
   "source": [
    "df1['min'] = df1['Time'].dt.minute\n",
    "df1[['Time','min']].head()"
   ]
  },
  {
   "cell_type": "code",
   "execution_count": 61,
   "metadata": {},
   "outputs": [
    {
     "data": {
      "text/html": [
       "<div>\n",
       "<style scoped>\n",
       "    .dataframe tbody tr th:only-of-type {\n",
       "        vertical-align: middle;\n",
       "    }\n",
       "\n",
       "    .dataframe tbody tr th {\n",
       "        vertical-align: top;\n",
       "    }\n",
       "\n",
       "    .dataframe thead th {\n",
       "        text-align: right;\n",
       "    }\n",
       "</style>\n",
       "<table border=\"1\" class=\"dataframe\">\n",
       "  <thead>\n",
       "    <tr style=\"text-align: right;\">\n",
       "      <th></th>\n",
       "      <th>Time</th>\n",
       "      <th>sec</th>\n",
       "    </tr>\n",
       "  </thead>\n",
       "  <tbody>\n",
       "    <tr>\n",
       "      <th>0</th>\n",
       "      <td>1970-01-01 12:08:20</td>\n",
       "      <td>20</td>\n",
       "    </tr>\n",
       "    <tr>\n",
       "      <th>1</th>\n",
       "      <td>1970-01-01 12:08:25</td>\n",
       "      <td>25</td>\n",
       "    </tr>\n",
       "    <tr>\n",
       "      <th>2</th>\n",
       "      <td>1970-01-01 12:08:31</td>\n",
       "      <td>31</td>\n",
       "    </tr>\n",
       "    <tr>\n",
       "      <th>3</th>\n",
       "      <td>1970-01-01 12:08:23</td>\n",
       "      <td>23</td>\n",
       "    </tr>\n",
       "    <tr>\n",
       "      <th>4</th>\n",
       "      <td>1970-01-01 12:08:18</td>\n",
       "      <td>18</td>\n",
       "    </tr>\n",
       "  </tbody>\n",
       "</table>\n",
       "</div>"
      ],
      "text/plain": [
       "                 Time  sec\n",
       "0 1970-01-01 12:08:20   20\n",
       "1 1970-01-01 12:08:25   25\n",
       "2 1970-01-01 12:08:31   31\n",
       "3 1970-01-01 12:08:23   23\n",
       "4 1970-01-01 12:08:18   18"
      ]
     },
     "execution_count": 61,
     "metadata": {},
     "output_type": "execute_result"
    }
   ],
   "source": [
    "df1['sec'] = df1['Time'].dt.second\n",
    "df1[['Time','sec']].head()"
   ]
  },
  {
   "cell_type": "code",
   "execution_count": 62,
   "metadata": {},
   "outputs": [
    {
     "name": "stdout",
     "output_type": "stream",
     "text": [
      "int64\n",
      "int64\n",
      "int64\n",
      "int64\n"
     ]
    }
   ],
   "source": [
    "print(df1['day'].dtype)\n",
    "print(df1['hour'].dtype)\n",
    "print(df1['min'].dtype)\n",
    "print(df1['sec'].dtype)"
   ]
  },
  {
   "cell_type": "code",
   "execution_count": 63,
   "metadata": {},
   "outputs": [
    {
     "data": {
      "text/plain": [
       "19    970\n",
       "18    672\n",
       "20    438\n",
       "21    351\n",
       "22    237\n",
       "Name: sec, dtype: int64"
      ]
     },
     "execution_count": 63,
     "metadata": {},
     "output_type": "execute_result"
    }
   ],
   "source": [
    "df1['sec'].value_counts().head()"
   ]
  },
  {
   "cell_type": "code",
   "execution_count": 64,
   "metadata": {},
   "outputs": [
    {
     "data": {
      "text/plain": [
       "array([43, 41, 99, ..., 77, 43,  0], dtype=int64)"
      ]
     },
     "execution_count": 64,
     "metadata": {},
     "output_type": "execute_result"
    }
   ],
   "source": [
    "# task to be done\n",
    "# make categories for score \n",
    "df1['Score'].values"
   ]
  },
  {
   "cell_type": "code",
   "execution_count": 65,
   "metadata": {},
   "outputs": [],
   "source": [
    "df1.drop('Score',axis=1,inplace=True)"
   ]
  },
  {
   "cell_type": "code",
   "execution_count": null,
   "metadata": {},
   "outputs": [],
   "source": []
  }
 ],
 "metadata": {
  "kernelspec": {
   "display_name": "Python 3",
   "language": "python",
   "name": "python3"
  },
  "language_info": {
   "codemirror_mode": {
    "name": "ipython",
    "version": 3
   },
   "file_extension": ".py",
   "mimetype": "text/x-python",
   "name": "python",
   "nbconvert_exporter": "python",
   "pygments_lexer": "ipython3",
   "version": "3.8.5"
  }
 },
 "nbformat": 4,
 "nbformat_minor": 4
}
