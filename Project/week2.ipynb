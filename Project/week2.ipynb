{
 "cells": [
  {
   "cell_type": "code",
   "execution_count": 145,
   "metadata": {},
   "outputs": [],
   "source": [
    "df1['name']=df1[\"First Name\"].str.cat(df1[\"Last Name\"],sep=\" \")\n",
    "#df1=df1['First Name'].str.cat(df1['Last Name'],sep=\" \") gives no error but it converts df to an object dtype"
   ]
  },
  {
   "cell_type": "code",
   "execution_count": 146,
   "metadata": {},
   "outputs": [
    {
     "data": {
      "text/plain": [
       "0                  Waseem Akram\n",
       "1              Asifa khan Asifa\n",
       "2                 nadia khattak\n",
       "3               Muhammad  Ayaz \n",
       "4    Muhammad waqas khan  Khan \n",
       "Name: name, dtype: object"
      ]
     },
     "execution_count": 146,
     "metadata": {},
     "output_type": "execute_result"
    }
   ],
   "source": [
    "df1['name'].head()"
   ]
  },
  {
   "cell_type": "code",
   "execution_count": 147,
   "metadata": {},
   "outputs": [
    {
     "data": {
      "text/html": [
       "<div>\n",
       "<style scoped>\n",
       "    .dataframe tbody tr th:only-of-type {\n",
       "        vertical-align: middle;\n",
       "    }\n",
       "\n",
       "    .dataframe tbody tr th {\n",
       "        vertical-align: top;\n",
       "    }\n",
       "\n",
       "    .dataframe thead th {\n",
       "        text-align: right;\n",
       "    }\n",
       "</style>\n",
       "<table border=\"1\" class=\"dataframe\">\n",
       "  <thead>\n",
       "    <tr style=\"text-align: right;\">\n",
       "      <th></th>\n",
       "      <th>Age</th>\n",
       "      <th>Score</th>\n",
       "      <th>Initial Screening Percentage</th>\n",
       "      <th>Agreegate Percentage</th>\n",
       "      <th>Submitted At</th>\n",
       "      <th>Unnamed: 28</th>\n",
       "    </tr>\n",
       "  </thead>\n",
       "  <tbody>\n",
       "    <tr>\n",
       "      <th>count</th>\n",
       "      <td>5018.000000</td>\n",
       "      <td>5018.000000</td>\n",
       "      <td>5018.000000</td>\n",
       "      <td>5015.000000</td>\n",
       "      <td>5017.000000</td>\n",
       "      <td>0.0</td>\n",
       "    </tr>\n",
       "    <tr>\n",
       "      <th>mean</th>\n",
       "      <td>24.484456</td>\n",
       "      <td>66.778996</td>\n",
       "      <td>0.445193</td>\n",
       "      <td>0.340216</td>\n",
       "      <td>43706.233994</td>\n",
       "      <td>NaN</td>\n",
       "    </tr>\n",
       "    <tr>\n",
       "      <th>std</th>\n",
       "      <td>3.639618</td>\n",
       "      <td>23.700804</td>\n",
       "      <td>0.158005</td>\n",
       "      <td>0.172577</td>\n",
       "      <td>8.627912</td>\n",
       "      <td>NaN</td>\n",
       "    </tr>\n",
       "    <tr>\n",
       "      <th>min</th>\n",
       "      <td>17.000000</td>\n",
       "      <td>-18.000000</td>\n",
       "      <td>-0.120000</td>\n",
       "      <td>-0.056667</td>\n",
       "      <td>43697.629770</td>\n",
       "      <td>NaN</td>\n",
       "    </tr>\n",
       "    <tr>\n",
       "      <th>25%</th>\n",
       "      <td>22.000000</td>\n",
       "      <td>52.000000</td>\n",
       "      <td>0.346667</td>\n",
       "      <td>0.213333</td>\n",
       "      <td>43699.472810</td>\n",
       "      <td>NaN</td>\n",
       "    </tr>\n",
       "    <tr>\n",
       "      <th>50%</th>\n",
       "      <td>24.000000</td>\n",
       "      <td>67.000000</td>\n",
       "      <td>0.446667</td>\n",
       "      <td>0.303333</td>\n",
       "      <td>43702.376460</td>\n",
       "      <td>NaN</td>\n",
       "    </tr>\n",
       "    <tr>\n",
       "      <th>75%</th>\n",
       "      <td>26.000000</td>\n",
       "      <td>81.000000</td>\n",
       "      <td>0.540000</td>\n",
       "      <td>0.448333</td>\n",
       "      <td>43711.092250</td>\n",
       "      <td>NaN</td>\n",
       "    </tr>\n",
       "    <tr>\n",
       "      <th>max</th>\n",
       "      <td>49.000000</td>\n",
       "      <td>152.000000</td>\n",
       "      <td>1.013333</td>\n",
       "      <td>0.940000</td>\n",
       "      <td>43731.626220</td>\n",
       "      <td>NaN</td>\n",
       "    </tr>\n",
       "  </tbody>\n",
       "</table>\n",
       "</div>"
      ],
      "text/plain": [
       "               Age        Score  Initial Screening Percentage  \\\n",
       "count  5018.000000  5018.000000                   5018.000000   \n",
       "mean     24.484456    66.778996                      0.445193   \n",
       "std       3.639618    23.700804                      0.158005   \n",
       "min      17.000000   -18.000000                     -0.120000   \n",
       "25%      22.000000    52.000000                      0.346667   \n",
       "50%      24.000000    67.000000                      0.446667   \n",
       "75%      26.000000    81.000000                      0.540000   \n",
       "max      49.000000   152.000000                      1.013333   \n",
       "\n",
       "       Agreegate Percentage  Submitted At  Unnamed: 28  \n",
       "count           5015.000000   5017.000000          0.0  \n",
       "mean               0.340216  43706.233994          NaN  \n",
       "std                0.172577      8.627912          NaN  \n",
       "min               -0.056667  43697.629770          NaN  \n",
       "25%                0.213333  43699.472810          NaN  \n",
       "50%                0.303333  43702.376460          NaN  \n",
       "75%                0.448333  43711.092250          NaN  \n",
       "max                0.940000  43731.626220          NaN  "
      ]
     },
     "execution_count": 147,
     "metadata": {},
     "output_type": "execute_result"
    }
   ],
   "source": [
    "df1.describe()"
   ]
  },
  {
   "cell_type": "code",
   "execution_count": 148,
   "metadata": {},
   "outputs": [
    {
     "data": {
      "text/plain": [
       "(5018, 21)"
      ]
     },
     "execution_count": 148,
     "metadata": {},
     "output_type": "execute_result"
    }
   ],
   "source": [
    "df1.shape"
   ]
  },
  {
   "cell_type": "code",
   "execution_count": null,
   "metadata": {},
   "outputs": [],
   "source": []
  }
 ],
 "metadata": {
  "kernelspec": {
   "display_name": "Python 3",
   "language": "python",
   "name": "python3"
  },
  "language_info": {
   "codemirror_mode": {
    "name": "ipython",
    "version": 3
   },
   "file_extension": ".py",
   "mimetype": "text/x-python",
   "name": "python",
   "nbconvert_exporter": "python",
   "pygments_lexer": "ipython3",
   "version": "3.8.5"
  }
 },
 "nbformat": 4,
 "nbformat_minor": 4
}
