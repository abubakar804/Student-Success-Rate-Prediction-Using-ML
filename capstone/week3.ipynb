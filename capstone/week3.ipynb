{
 "cells": [
  {
   "cell_type": "code",
   "execution_count": 34,
   "metadata": {},
   "outputs": [
    {
     "name": "stderr",
     "output_type": "stream",
     "text": [
      "C:\\Users\\T C\\anaconda3\\lib\\site-packages\\seaborn\\_decorators.py:36: FutureWarning: Pass the following variable as a keyword arg: x. From version 0.12, the only valid positional argument will be `data`, and passing other arguments without an explicit keyword will result in an error or misinterpretation.\n",
      "  warnings.warn(\n"
     ]
    },
    {
     "data": {
      "text/plain": [
       "<AxesSubplot:xlabel='Applied Course', ylabel='count'>"
      ]
     },
     "execution_count": 34,
     "metadata": {},
     "output_type": "execute_result"
    },
    {
     "data": {
      "image/png": "[encoded data removed]",
      "text/plain": [
       "<Figure size 432x288 with 1 Axes>"
      ]
     },
     "metadata": {
      "needs_background": "light"
     },
     "output_type": "display_data"
    }
   ],
   "source": [
    "df1['Applied Course'].value_counts()\n",
    "#df1['Applied Course'].unique\n",
    "sns.countplot(df1['Applied Course'].str[0:20])"
   ]
  },
  {
   "cell_type": "code",
   "execution_count": 35,
   "metadata": {},
   "outputs": [
    {
     "data": {
      "text/plain": [
       "Computer Science/IT    3067\n",
       "Engineering            1088\n",
       "Other                   861\n",
       "0                         2\n",
       "Name: Academic Concentration, dtype: int64"
      ]
     },
     "execution_count": 35,
     "metadata": {},
     "output_type": "execute_result"
    }
   ],
   "source": [
    "df1['Academic Concentration'].value_counts()"
   ]
  },
  {
   "cell_type": "code",
   "execution_count": 36,
   "metadata": {},
   "outputs": [
    {
     "data": {
      "text/html": [
       "<div>\n",
       "<style scoped>\n",
       "    .dataframe tbody tr th:only-of-type {\n",
       "        vertical-align: middle;\n",
       "    }\n",
       "\n",
       "    .dataframe tbody tr th {\n",
       "        vertical-align: top;\n",
       "    }\n",
       "\n",
       "    .dataframe thead th {\n",
       "        text-align: right;\n",
       "    }\n",
       "</style>\n",
       "<table border=\"1\" class=\"dataframe\">\n",
       "  <thead>\n",
       "    <tr style=\"text-align: right;\">\n",
       "      <th></th>\n",
       "      <th>First Name</th>\n",
       "      <th>Last Name</th>\n",
       "      <th>Gender</th>\n",
       "      <th>Age</th>\n",
       "      <th>Applied Course</th>\n",
       "      <th>Domicile</th>\n",
       "      <th>What best describes your access to a computer?</th>\n",
       "      <th>Academic Concentration</th>\n",
       "      <th>CGPA/Final Average GPA</th>\n",
       "      <th>Highest level of Education</th>\n",
       "      <th>Training district</th>\n",
       "      <th>Score</th>\n",
       "      <th>Initial Screening Percentage</th>\n",
       "      <th>Points Scored Screning Test</th>\n",
       "      <th>Screening Test Percentage</th>\n",
       "      <th>Agreegate Percentage</th>\n",
       "      <th>Submitted At</th>\n",
       "      <th>Status</th>\n",
       "      <th>Batch</th>\n",
       "      <th>Unnamed: 28</th>\n",
       "      <th>name</th>\n",
       "    </tr>\n",
       "  </thead>\n",
       "  <tbody>\n",
       "    <tr>\n",
       "      <th>1904</th>\n",
       "      <td>Mufakkir</td>\n",
       "      <td>Ali Shah</td>\n",
       "      <td>Male</td>\n",
       "      <td>18</td>\n",
       "      <td>Big Data</td>\n",
       "      <td>Mardan</td>\n",
       "      <td>0</td>\n",
       "      <td>0</td>\n",
       "      <td>0</td>\n",
       "      <td>0</td>\n",
       "      <td>others</td>\n",
       "      <td>0</td>\n",
       "      <td>0.0</td>\n",
       "      <td>0.0</td>\n",
       "      <td>0</td>\n",
       "      <td>0.000</td>\n",
       "      <td>43703.741713</td>\n",
       "      <td>13-Not Shortlisted</td>\n",
       "      <td>0</td>\n",
       "      <td>0.0</td>\n",
       "      <td>Mufakkir Ali Shah</td>\n",
       "    </tr>\n",
       "    <tr>\n",
       "      <th>5017</th>\n",
       "      <td>Muhammad</td>\n",
       "      <td>Bilal</td>\n",
       "      <td>Male</td>\n",
       "      <td>23</td>\n",
       "      <td>Azure MCSD</td>\n",
       "      <td>Swabi</td>\n",
       "      <td>0</td>\n",
       "      <td>0</td>\n",
       "      <td>0</td>\n",
       "      <td>0</td>\n",
       "      <td>others</td>\n",
       "      <td>0</td>\n",
       "      <td>0.0</td>\n",
       "      <td>10.0</td>\n",
       "      <td>25%</td>\n",
       "      <td>0.125</td>\n",
       "      <td>43698.627905</td>\n",
       "      <td>13-Not Shortlisted</td>\n",
       "      <td>0</td>\n",
       "      <td>0.0</td>\n",
       "      <td>Muhammad Bilal</td>\n",
       "    </tr>\n",
       "  </tbody>\n",
       "</table>\n",
       "</div>"
      ],
      "text/plain": [
       "     First Name Last Name Gender  Age Applied Course Domicile  \\\n",
       "1904   Mufakkir  Ali Shah   Male   18       Big Data   Mardan   \n",
       "5017   Muhammad     Bilal   Male   23     Azure MCSD    Swabi   \n",
       "\n",
       "     What best describes your access to a computer? Academic Concentration  \\\n",
       "1904                                              0                      0   \n",
       "5017                                              0                      0   \n",
       "\n",
       "     CGPA/Final Average GPA Highest level of Education Training district  \\\n",
       "1904                      0                          0            others   \n",
       "5017                      0                          0            others   \n",
       "\n",
       "      Score  Initial Screening Percentage  Points Scored Screning Test  \\\n",
       "1904      0                           0.0                          0.0   \n",
       "5017      0                           0.0                         10.0   \n",
       "\n",
       "     Screening Test Percentage  Agreegate Percentage  Submitted At  \\\n",
       "1904                         0                 0.000  43703.741713   \n",
       "5017                       25%                 0.125  43698.627905   \n",
       "\n",
       "                  Status Batch  Unnamed: 28               name  \n",
       "1904  13-Not Shortlisted     0          0.0  Mufakkir Ali Shah  \n",
       "5017  13-Not Shortlisted     0          0.0     Muhammad Bilal  "
      ]
     },
     "execution_count": 36,
     "metadata": {},
     "output_type": "execute_result"
    }
   ],
   "source": [
    "df1[df1['Academic Concentration']==0].head()"
   ]
  },
  {
   "cell_type": "code",
   "execution_count": 37,
   "metadata": {},
   "outputs": [
    {
     "name": "stderr",
     "output_type": "stream",
     "text": [
      "C:\\Users\\T C\\anaconda3\\lib\\site-packages\\seaborn\\_decorators.py:36: FutureWarning: Pass the following variable as a keyword arg: x. From version 0.12, the only valid positional argument will be `data`, and passing other arguments without an explicit keyword will result in an error or misinterpretation.\n",
      "  warnings.warn(\n"
     ]
    },
    {
     "data": {
      "text/plain": [
       "<AxesSubplot:xlabel='Academic Concentration', ylabel='count'>"
      ]
     },
     "execution_count": 37,
     "metadata": {},
     "output_type": "execute_result"
    },
    {
     "data": {
      "image/png": "[encoded data removed]",
      "text/plain": [
       "<Figure size 432x288 with 1 Axes>"
      ]
     },
     "metadata": {
      "needs_background": "light"
     },
     "output_type": "display_data"
    }
   ],
   "source": [
    "df1.loc[(df1['Academic Concentration']==0)&(df1['name']=='Mufakkir Ali Shah'),'Academic Concentration']='Other'\n",
    "df1.loc[(df1['Academic Concentration']==0)&(df1['name']=='Muhammad Bilal'),'Academic Concentration']='Other'\n",
    "sns.countplot(df1['Academic Concentration'].str[0:20])"
   ]
  },
  {
   "cell_type": "code",
   "execution_count": 38,
   "metadata": {},
   "outputs": [
    {
     "data": {
      "text/plain": [
       "Having own laptop                     4505\n",
       "No regular access to computer          172\n",
       "Shared computer                        170\n",
       "use computer at school/ university     169\n",
       "0                                        2\n",
       "Name: What best describes your access to a computer?, dtype: int64"
      ]
     },
     "execution_count": 38,
     "metadata": {},
     "output_type": "execute_result"
    }
   ],
   "source": [
    "df1['What best describes your access to a computer?'].value_counts()"
   ]
  },
  {
   "cell_type": "code",
   "execution_count": 39,
   "metadata": {},
   "outputs": [],
   "source": [
    "df1.loc[(df1['What best describes your access to a computer?']==0)&(df1['name']=='Mufakkir Ali Shah'),'What best describes your access to a computer?']='others'\n",
    "df1.loc[(df1['What best describes your access to a computer?']==0)&(df1['name']=='Muhammad Bilal'),'What best describes your access to a computer?']='others'"
   ]
  },
  {
   "cell_type": "code",
   "execution_count": null,
   "metadata": {},
   "outputs": [],
   "source": []
  }
 ],
 "metadata": {
  "kernelspec": {
   "display_name": "Python 3",
   "language": "python",
   "name": "python3"
  },
  "language_info": {
   "codemirror_mode": {
    "name": "ipython",
    "version": 3
   },
   "file_extension": ".py",
   "mimetype": "text/x-python",
   "name": "python",
   "nbconvert_exporter": "python",
   "pygments_lexer": "ipython3",
   "version": "3.8.5"
  }
 },
 "nbformat": 4,
 "nbformat_minor": 4
}
